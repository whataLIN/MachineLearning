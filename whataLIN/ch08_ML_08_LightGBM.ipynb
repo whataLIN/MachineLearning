{
  "nbformat": 4,
  "nbformat_minor": 0,
  "metadata": {
    "colab": {
      "provenance": [],
      "include_colab_link": true
    },
    "kernelspec": {
      "name": "python3",
      "display_name": "Python 3"
    },
    "language_info": {
      "name": "python"
    }
  },
  "cells": [
    {
      "cell_type": "markdown",
      "metadata": {
        "id": "view-in-github",
        "colab_type": "text"
      },
      "source": [
        "<a href=\"https://colab.research.google.com/github/whataLIN/MachineLearning/blob/main/whataLIN/ch08_ML_08_LightGBM.ipynb\" target=\"_parent\"><img src=\"https://colab.research.google.com/assets/colab-badge.svg\" alt=\"Open In Colab\"/></a>"
      ]
    },
    {
      "cell_type": "markdown",
      "source": [
        "# Kaggle 데이터 다운로드 받기"
      ],
      "metadata": {
        "id": "QF64CxX3Odfi"
      }
    },
    {
      "cell_type": "markdown",
      "source": [
        "**데이터셋 다운로드**\n",
        "1. csv를 그냥 다운로드 받는다 (Jupyter)\n",
        "    * Colab이면? 다시 업로드 (100mb? 20분씩...)\n",
        "2. github에 올린다 -> (파일하나당) 150MB? -> 안 올라감\n",
        "3. google drive -> 느려... -> 기본 n시간\n",
        "4. wget : 링크를 입력하면 해당 링크의 파일을 다운로드\n",
        "```\n",
        "# !wget {파일 링크 주소}\n",
        "# 예시\n",
        "!wget https://...\n",
        "```\n",
        "5. kaggle api로 직접 다운로드\n",
        "- kaggle.json -> 인증파일 (인증코드)\n",
        "```\n",
        "# colab에서 인증파일 적용하는 법\n",
        "!rm -r ~/.kaggle\n",
        "!mkdir ~/.kaggle\n",
        "!mv ./kaggle.json ~/.kaggle/\n",
        "!chmod 600 ~/.kaggle/kaggle.json\n",
        "```\n",
        "```\n",
        "# Kaggle API를 사용해서 파일을 다운로드\n",
        "# Kaggle > DataSet > Copy API command\n",
        "!kaggle datasets download -d kartik2112/fraud-detection\n",
        "```"
      ],
      "metadata": {
        "id": "u8iq3sVpAlWS"
      }
    },
    {
      "cell_type": "markdown",
      "source": [
        "## 인증 및 데이터 받기"
      ],
      "metadata": {
        "id": "0Rnn1JgZOgEk"
      }
    },
    {
      "cell_type": "code",
      "execution_count": null,
      "metadata": {
        "colab": {
          "base_uri": "https://localhost:8080/",
          "height": 93
        },
        "id": "E6o3Z60dLs1T",
        "outputId": "fbfa8563-8964-4aca-ee1f-c321152ebf35"
      },
      "outputs": [
        {
          "output_type": "display_data",
          "data": {
            "text/plain": [
              "<IPython.core.display.HTML object>"
            ],
            "text/html": [
              "\n",
              "     <input type=\"file\" id=\"files-d58263c0-19a8-4a8c-aa64-35f28f50880e\" name=\"files[]\" multiple disabled\n",
              "        style=\"border:none\" />\n",
              "     <output id=\"result-d58263c0-19a8-4a8c-aa64-35f28f50880e\">\n",
              "      Upload widget is only available when the cell has been executed in the\n",
              "      current browser session. Please rerun this cell to enable.\n",
              "      </output>\n",
              "      <script>// Copyright 2017 Google LLC\n",
              "//\n",
              "// Licensed under the Apache License, Version 2.0 (the \"License\");\n",
              "// you may not use this file except in compliance with the License.\n",
              "// You may obtain a copy of the License at\n",
              "//\n",
              "//      http://www.apache.org/licenses/LICENSE-2.0\n",
              "//\n",
              "// Unless required by applicable law or agreed to in writing, software\n",
              "// distributed under the License is distributed on an \"AS IS\" BASIS,\n",
              "// WITHOUT WARRANTIES OR CONDITIONS OF ANY KIND, either express or implied.\n",
              "// See the License for the specific language governing permissions and\n",
              "// limitations under the License.\n",
              "\n",
              "/**\n",
              " * @fileoverview Helpers for google.colab Python module.\n",
              " */\n",
              "(function(scope) {\n",
              "function span(text, styleAttributes = {}) {\n",
              "  const element = document.createElement('span');\n",
              "  element.textContent = text;\n",
              "  for (const key of Object.keys(styleAttributes)) {\n",
              "    element.style[key] = styleAttributes[key];\n",
              "  }\n",
              "  return element;\n",
              "}\n",
              "\n",
              "// Max number of bytes which will be uploaded at a time.\n",
              "const MAX_PAYLOAD_SIZE = 100 * 1024;\n",
              "\n",
              "function _uploadFiles(inputId, outputId) {\n",
              "  const steps = uploadFilesStep(inputId, outputId);\n",
              "  const outputElement = document.getElementById(outputId);\n",
              "  // Cache steps on the outputElement to make it available for the next call\n",
              "  // to uploadFilesContinue from Python.\n",
              "  outputElement.steps = steps;\n",
              "\n",
              "  return _uploadFilesContinue(outputId);\n",
              "}\n",
              "\n",
              "// This is roughly an async generator (not supported in the browser yet),\n",
              "// where there are multiple asynchronous steps and the Python side is going\n",
              "// to poll for completion of each step.\n",
              "// This uses a Promise to block the python side on completion of each step,\n",
              "// then passes the result of the previous step as the input to the next step.\n",
              "function _uploadFilesContinue(outputId) {\n",
              "  const outputElement = document.getElementById(outputId);\n",
              "  const steps = outputElement.steps;\n",
              "\n",
              "  const next = steps.next(outputElement.lastPromiseValue);\n",
              "  return Promise.resolve(next.value.promise).then((value) => {\n",
              "    // Cache the last promise value to make it available to the next\n",
              "    // step of the generator.\n",
              "    outputElement.lastPromiseValue = value;\n",
              "    return next.value.response;\n",
              "  });\n",
              "}\n",
              "\n",
              "/**\n",
              " * Generator function which is called between each async step of the upload\n",
              " * process.\n",
              " * @param {string} inputId Element ID of the input file picker element.\n",
              " * @param {string} outputId Element ID of the output display.\n",
              " * @return {!Iterable<!Object>} Iterable of next steps.\n",
              " */\n",
              "function* uploadFilesStep(inputId, outputId) {\n",
              "  const inputElement = document.getElementById(inputId);\n",
              "  inputElement.disabled = false;\n",
              "\n",
              "  const outputElement = document.getElementById(outputId);\n",
              "  outputElement.innerHTML = '';\n",
              "\n",
              "  const pickedPromise = new Promise((resolve) => {\n",
              "    inputElement.addEventListener('change', (e) => {\n",
              "      resolve(e.target.files);\n",
              "    });\n",
              "  });\n",
              "\n",
              "  const cancel = document.createElement('button');\n",
              "  inputElement.parentElement.appendChild(cancel);\n",
              "  cancel.textContent = 'Cancel upload';\n",
              "  const cancelPromise = new Promise((resolve) => {\n",
              "    cancel.onclick = () => {\n",
              "      resolve(null);\n",
              "    };\n",
              "  });\n",
              "\n",
              "  // Wait for the user to pick the files.\n",
              "  const files = yield {\n",
              "    promise: Promise.race([pickedPromise, cancelPromise]),\n",
              "    response: {\n",
              "      action: 'starting',\n",
              "    }\n",
              "  };\n",
              "\n",
              "  cancel.remove();\n",
              "\n",
              "  // Disable the input element since further picks are not allowed.\n",
              "  inputElement.disabled = true;\n",
              "\n",
              "  if (!files) {\n",
              "    return {\n",
              "      response: {\n",
              "        action: 'complete',\n",
              "      }\n",
              "    };\n",
              "  }\n",
              "\n",
              "  for (const file of files) {\n",
              "    const li = document.createElement('li');\n",
              "    li.append(span(file.name, {fontWeight: 'bold'}));\n",
              "    li.append(span(\n",
              "        `(${file.type || 'n/a'}) - ${file.size} bytes, ` +\n",
              "        `last modified: ${\n",
              "            file.lastModifiedDate ? file.lastModifiedDate.toLocaleDateString() :\n",
              "                                    'n/a'} - `));\n",
              "    const percent = span('0% done');\n",
              "    li.appendChild(percent);\n",
              "\n",
              "    outputElement.appendChild(li);\n",
              "\n",
              "    const fileDataPromise = new Promise((resolve) => {\n",
              "      const reader = new FileReader();\n",
              "      reader.onload = (e) => {\n",
              "        resolve(e.target.result);\n",
              "      };\n",
              "      reader.readAsArrayBuffer(file);\n",
              "    });\n",
              "    // Wait for the data to be ready.\n",
              "    let fileData = yield {\n",
              "      promise: fileDataPromise,\n",
              "      response: {\n",
              "        action: 'continue',\n",
              "      }\n",
              "    };\n",
              "\n",
              "    // Use a chunked sending to avoid message size limits. See b/62115660.\n",
              "    let position = 0;\n",
              "    do {\n",
              "      const length = Math.min(fileData.byteLength - position, MAX_PAYLOAD_SIZE);\n",
              "      const chunk = new Uint8Array(fileData, position, length);\n",
              "      position += length;\n",
              "\n",
              "      const base64 = btoa(String.fromCharCode.apply(null, chunk));\n",
              "      yield {\n",
              "        response: {\n",
              "          action: 'append',\n",
              "          file: file.name,\n",
              "          data: base64,\n",
              "        },\n",
              "      };\n",
              "\n",
              "      let percentDone = fileData.byteLength === 0 ?\n",
              "          100 :\n",
              "          Math.round((position / fileData.byteLength) * 100);\n",
              "      percent.textContent = `${percentDone}% done`;\n",
              "\n",
              "    } while (position < fileData.byteLength);\n",
              "  }\n",
              "\n",
              "  // All done.\n",
              "  yield {\n",
              "    response: {\n",
              "      action: 'complete',\n",
              "    }\n",
              "  };\n",
              "}\n",
              "\n",
              "scope.google = scope.google || {};\n",
              "scope.google.colab = scope.google.colab || {};\n",
              "scope.google.colab._files = {\n",
              "  _uploadFiles,\n",
              "  _uploadFilesContinue,\n",
              "};\n",
              "})(self);\n",
              "</script> "
            ]
          },
          "metadata": {}
        },
        {
          "output_type": "stream",
          "name": "stdout",
          "text": [
            "Saving kaggle.json to kaggle.json\n"
          ]
        },
        {
          "output_type": "execute_result",
          "data": {
            "text/plain": [
              "{'kaggle.json': b'{\"username\":\"whatalin\",\"key\":\"f8d50692148c9edb91c35f6bbbc130f8\"}'}"
            ]
          },
          "metadata": {},
          "execution_count": 5
        }
      ],
      "source": [
        "# https://www.kaggle.com/datasets/kartik2112/fraud-detection\n",
        "\n",
        "# 1. 본인 kaggle 계정 인증 받음\n",
        "# kaggle > Profile 이미지 > Account > Account > API > Create New API Token\n",
        "from google.colab import files\n",
        "files.upload()"
      ]
    },
    {
      "cell_type": "code",
      "source": [
        "# 2. 강사의 kaggle.json (주기적 리셋)\n",
        "# https://github.com/BigData23th/Data/raw/main/kaggle.json\n",
        "# !wget https://github.com/BigData23th/Data/raw/main/kaggle.json\n",
        "\n",
        "!wget https://github.com/whataLIN/MachineLearning/raw/main/whataLIN/kaggle.json"
      ],
      "metadata": {
        "colab": {
          "base_uri": "https://localhost:8080/"
        },
        "id": "7RPCLShJNVAA",
        "outputId": "5257231e-6cca-4cd7-94f7-7112dee3bc51"
      },
      "execution_count": null,
      "outputs": [
        {
          "output_type": "stream",
          "name": "stdout",
          "text": [
            "--2023-03-24 01:20:58--  https://github.com/whataLIN/MachineLearning/raw/main/whataLIN/kaggle.json\n",
            "Resolving github.com (github.com)... 140.82.112.3\n",
            "Connecting to github.com (github.com)|140.82.112.3|:443... connected.\n",
            "HTTP request sent, awaiting response... 302 Found\n",
            "Location: https://raw.githubusercontent.com/whataLIN/MachineLearning/main/whataLIN/kaggle.json [following]\n",
            "--2023-03-24 01:20:58--  https://raw.githubusercontent.com/whataLIN/MachineLearning/main/whataLIN/kaggle.json\n",
            "Resolving raw.githubusercontent.com (raw.githubusercontent.com)... 185.199.108.133, 185.199.109.133, 185.199.110.133, ...\n",
            "Connecting to raw.githubusercontent.com (raw.githubusercontent.com)|185.199.108.133|:443... connected.\n",
            "HTTP request sent, awaiting response... 200 OK\n",
            "Length: 64 [text/plain]\n",
            "Saving to: ‘kaggle.json’\n",
            "\n",
            "\rkaggle.json           0%[                    ]       0  --.-KB/s               \rkaggle.json         100%[===================>]      64  --.-KB/s    in 0s      \n",
            "\n",
            "2023-03-24 01:20:58 (2.59 MB/s) - ‘kaggle.json’ saved [64/64]\n",
            "\n"
          ]
        }
      ]
    },
    {
      "cell_type": "code",
      "source": [
        "# 인증 및 파일 다운로드 받기\n",
        "!rm -r ~/.kaggle\n",
        "!mkdir ~/.kaggle\n",
        "!mv ./kaggle.json ~/.kaggle/\n",
        "!chmod 600 ~/.kaggle/kaggle.json\n",
        "!kaggle datasets download -d kartik2112/fraud-detection"
      ],
      "metadata": {
        "colab": {
          "base_uri": "https://localhost:8080/"
        },
        "id": "kLeZiBiBNBRn",
        "outputId": "122e0e88-0f47-44da-dab6-593b61cc8884"
      },
      "execution_count": null,
      "outputs": [
        {
          "output_type": "stream",
          "name": "stdout",
          "text": [
            "fraud-detection.zip: Skipping, found more recently modified local copy (use --force to force download)\n"
          ]
        }
      ]
    },
    {
      "cell_type": "code",
      "source": [
        "!kaggle datasets list"
      ],
      "metadata": {
        "id": "lwReiOvLNqsU",
        "colab": {
          "base_uri": "https://localhost:8080/"
        },
        "outputId": "868f7d7a-6e55-44ee-bf7d-307c5bc79a91"
      },
      "execution_count": null,
      "outputs": [
        {
          "output_type": "stream",
          "name": "stdout",
          "text": [
            "ref                                                                title                                                size  lastUpdated          downloadCount  voteCount  usabilityRating  \n",
            "-----------------------------------------------------------------  --------------------------------------------------  -----  -------------------  -------------  ---------  ---------------  \n",
            "zusmani/pakistan-toshakhana-files                                  Pakistan ToshaKhana Files                             1MB  2023-03-15 16:25:43           2390        115  1.0              \n",
            "ramkrijal/tomato-daily-prices                                      Tomato Daily Prices                                  10KB  2023-03-10 15:39:14           1463         47  1.0              \n",
            "themrityunjaypathak/covid-cases-and-deaths-worldwide               Covid Cases and Deaths WorldWide                      8KB  2023-02-01 12:22:51          14883        481  1.0              \n",
            "datascientistanna/customers-dataset                                Shop Customer Data                                   23KB  2023-02-07 18:42:21          13548        302  1.0              \n",
            "priyankkhanna/flipkart-product-dataset-by-priyank-khanna           Flipkart Product Dataset                              2MB  2023-03-03 13:44:42           1241         31  1.0              \n",
            "amaanansari09/most-streamed-songs-all-time                         Most Streamed Songs (All Time)                        8KB  2023-03-08 10:56:24           2559         67  1.0              \n",
            "utsh0dey/25k-movie-dataset                                         25k IMDb Movie Dataset                                5MB  2023-02-27 18:11:44            994         30  1.0              \n",
            "nidzsharma/covid-19-variant-data                                   COVID-19 Variant Data                                67KB  2023-03-12 14:07:53            719         30  1.0              \n",
            "rkiattisak/student-performance-in-mathematics                      Student performance prediction                        9KB  2023-03-12 04:32:56           2519         60  1.0              \n",
            "ashpalsingh1525/netflix                                            Netflix Cleaned Dataset                              86KB  2023-02-25 12:48:42           1123         38  1.0              \n",
            "imrulhasanrobi/world-population-all-countries-different-parameter  World Population all countries different parameter    8KB  2023-03-16 01:24:18            802         33  1.0              \n",
            "rayhan32/la-liga-player-status-season-2022-2023                    La Liga Player Status  Season 2022-2023              14KB  2023-03-15 19:52:19            586         31  1.0              \n",
            "thedevastator/airbnb-prices-in-european-cities                     Airbnb Prices in European Cities                      4MB  2023-02-20 09:48:04           5257         96  1.0              \n",
            "mirzahasnine/loan-data-set                                         Loan Data Set                                        11KB  2023-03-12 05:02:43           1179         35  0.9411765        \n",
            "mehmettahiraslan/customer-shopping-dataset                         Customer Shopping Dataset - Retail Sales Data         2MB  2023-03-09 07:44:35           1669         59  1.0              \n",
            "ulrikthygepedersen/shark-tank-companies                            Shark Tank Companies                                 70KB  2023-03-02 12:05:27            770         34  1.0              \n",
            "tarique7/airline-incidents-safety-data                             Airline Incidents Safety Data                         7MB  2023-03-08 09:28:38            653         30  1.0              \n",
            "rkiattisak/traveler-trip-data                                      Traveler Trip Dataset                                 4KB  2023-03-06 07:11:05           1416         39  1.0              \n",
            "rkiattisak/salaly-prediction-for-beginer                           Salary Prediction dataset                             3KB  2023-03-07 02:45:11           1417         40  1.0              \n",
            "abdullahshahzad12345/ref-tk-data-02-to-22                          Gift Received by Pak Officials 2002-22 Tosha Khana  120KB  2023-03-14 15:49:14            166         24  1.0              \n"
          ]
        }
      ]
    },
    {
      "cell_type": "markdown",
      "source": [
        "## 압축 풀기 & 합치기"
      ],
      "metadata": {
        "id": "IN140VPoOjmg"
      }
    },
    {
      "cell_type": "code",
      "source": [
        "# zip -> unzip\n",
        "# 파일 우측 클릭 > 경로 복사\n",
        "# 파일 > fraudTest.csv, fraudTrain.csv 생성 확인\n",
        "!unzip /content/fraud-detection.zip"
      ],
      "metadata": {
        "colab": {
          "base_uri": "https://localhost:8080/"
        },
        "id": "503uZhQ1Olws",
        "outputId": "35728456-f946-4d5b-b7cf-88d1a4cea8e2"
      },
      "execution_count": null,
      "outputs": [
        {
          "output_type": "stream",
          "name": "stdout",
          "text": [
            "Archive:  /content/fraud-detection.zip\n",
            "replace fraudTest.csv? [y]es, [n]o, [A]ll, [N]one, [r]ename: "
          ]
        }
      ]
    },
    {
      "cell_type": "code",
      "source": [
        "# 라이브러리\n",
        "import numpy as np\n",
        "import pandas as pd\n",
        "import matplotlib.pyplot as plt\n",
        "import seaborn as sns"
      ],
      "metadata": {
        "id": "vDgaqTz_O1fA"
      },
      "execution_count": null,
      "outputs": []
    },
    {
      "cell_type": "code",
      "source": [
        "# ls: 현재 경로에 있는 다른 파일/폴더를 불러오는 리눅스 명령\n",
        "!ls"
      ],
      "metadata": {
        "colab": {
          "base_uri": "https://localhost:8080/"
        },
        "id": "2Deky9SvPU4K",
        "outputId": "bc1d70dd-b587-46cd-b02d-b8635458bd1e"
      },
      "execution_count": null,
      "outputs": [
        {
          "output_type": "stream",
          "name": "stdout",
          "text": [
            "fraud-detection.zip  fraudTest.csv  fraudTrain.csv  sample_data\n"
          ]
        }
      ]
    },
    {
      "cell_type": "code",
      "source": [
        "# train = pd.read_csv('fraudTrain.csv')\n",
        "train = pd.read_csv('fraudTrain.csv', index_col=0) # 첫번째 열을 인덱스 컬럼으로 지정"
      ],
      "metadata": {
        "id": "gC3Uk1O1PD_4"
      },
      "execution_count": null,
      "outputs": []
    },
    {
      "cell_type": "code",
      "source": [
        "train.info() # 1296675 / 1.3M"
      ],
      "metadata": {
        "id": "qT_YWfXHPo3c"
      },
      "execution_count": null,
      "outputs": []
    },
    {
      "cell_type": "code",
      "source": [
        "train.head()"
      ],
      "metadata": {
        "id": "btJM_uj-PdK2",
        "colab": {
          "base_uri": "https://localhost:8080/",
          "height": 577
        },
        "outputId": "5a086ec4-01b1-4873-bc17-9c1d6d8cf14c"
      },
      "execution_count": null,
      "outputs": [
        {
          "output_type": "execute_result",
          "data": {
            "text/plain": [
              "  trans_date_trans_time            cc_num                            merchant  \\\n",
              "0   2019-01-01 00:00:18  2703186189652095          fraud_Rippin, Kub and Mann   \n",
              "1   2019-01-01 00:00:44      630423337322     fraud_Heller, Gutmann and Zieme   \n",
              "2   2019-01-01 00:00:51    38859492057661                fraud_Lind-Buckridge   \n",
              "3   2019-01-01 00:01:16  3534093764340240  fraud_Kutch, Hermiston and Farrell   \n",
              "4   2019-01-01 00:03:06   375534208663984                 fraud_Keeling-Crist   \n",
              "\n",
              "        category     amt      first     last gender  \\\n",
              "0       misc_net    4.97   Jennifer    Banks      F   \n",
              "1    grocery_pos  107.23  Stephanie     Gill      F   \n",
              "2  entertainment  220.11     Edward  Sanchez      M   \n",
              "3  gas_transport   45.00     Jeremy    White      M   \n",
              "4       misc_pos   41.96      Tyler   Garcia      M   \n",
              "\n",
              "                         street            city  ...      lat      long  \\\n",
              "0                561 Perry Cove  Moravian Falls  ...  36.0788  -81.1781   \n",
              "1  43039 Riley Greens Suite 393          Orient  ...  48.8878 -118.2105   \n",
              "2      594 White Dale Suite 530      Malad City  ...  42.1808 -112.2620   \n",
              "3   9443 Cynthia Court Apt. 038         Boulder  ...  46.2306 -112.1138   \n",
              "4              408 Bradley Rest        Doe Hill  ...  38.4207  -79.4629   \n",
              "\n",
              "   city_pop                                job         dob  \\\n",
              "0      3495          Psychologist, counselling  1988-03-09   \n",
              "1       149  Special educational needs teacher  1978-06-21   \n",
              "2      4154        Nature conservation officer  1962-01-19   \n",
              "3      1939                    Patent attorney  1967-01-12   \n",
              "4        99     Dance movement psychotherapist  1986-03-28   \n",
              "\n",
              "                          trans_num   unix_time  merch_lat  merch_long  \\\n",
              "0  0b242abb623afc578575680df30655b9  1325376018  36.011293  -82.048315   \n",
              "1  1f76529f8574734946361c461b024d99  1325376044  49.159047 -118.186462   \n",
              "2  a1a22d70485983eac12b5b88dad1cf95  1325376051  43.150704 -112.154481   \n",
              "3  6b849c168bdad6f867558c3793159a81  1325376076  47.034331 -112.561071   \n",
              "4  a41d7549acf90789359a9aa5346dcb46  1325376186  38.674999  -78.632459   \n",
              "\n",
              "   is_fraud  \n",
              "0         0  \n",
              "1         0  \n",
              "2         0  \n",
              "3         0  \n",
              "4         0  \n",
              "\n",
              "[5 rows x 22 columns]"
            ],
            "text/html": [
              "\n",
              "  <div id=\"df-b94a7b07-617a-4a56-9d26-11916c07f0a4\">\n",
              "    <div class=\"colab-df-container\">\n",
              "      <div>\n",
              "<style scoped>\n",
              "    .dataframe tbody tr th:only-of-type {\n",
              "        vertical-align: middle;\n",
              "    }\n",
              "\n",
              "    .dataframe tbody tr th {\n",
              "        vertical-align: top;\n",
              "    }\n",
              "\n",
              "    .dataframe thead th {\n",
              "        text-align: right;\n",
              "    }\n",
              "</style>\n",
              "<table border=\"1\" class=\"dataframe\">\n",
              "  <thead>\n",
              "    <tr style=\"text-align: right;\">\n",
              "      <th></th>\n",
              "      <th>trans_date_trans_time</th>\n",
              "      <th>cc_num</th>\n",
              "      <th>merchant</th>\n",
              "      <th>category</th>\n",
              "      <th>amt</th>\n",
              "      <th>first</th>\n",
              "      <th>last</th>\n",
              "      <th>gender</th>\n",
              "      <th>street</th>\n",
              "      <th>city</th>\n",
              "      <th>...</th>\n",
              "      <th>lat</th>\n",
              "      <th>long</th>\n",
              "      <th>city_pop</th>\n",
              "      <th>job</th>\n",
              "      <th>dob</th>\n",
              "      <th>trans_num</th>\n",
              "      <th>unix_time</th>\n",
              "      <th>merch_lat</th>\n",
              "      <th>merch_long</th>\n",
              "      <th>is_fraud</th>\n",
              "    </tr>\n",
              "  </thead>\n",
              "  <tbody>\n",
              "    <tr>\n",
              "      <th>0</th>\n",
              "      <td>2019-01-01 00:00:18</td>\n",
              "      <td>2703186189652095</td>\n",
              "      <td>fraud_Rippin, Kub and Mann</td>\n",
              "      <td>misc_net</td>\n",
              "      <td>4.97</td>\n",
              "      <td>Jennifer</td>\n",
              "      <td>Banks</td>\n",
              "      <td>F</td>\n",
              "      <td>561 Perry Cove</td>\n",
              "      <td>Moravian Falls</td>\n",
              "      <td>...</td>\n",
              "      <td>36.0788</td>\n",
              "      <td>-81.1781</td>\n",
              "      <td>3495</td>\n",
              "      <td>Psychologist, counselling</td>\n",
              "      <td>1988-03-09</td>\n",
              "      <td>0b242abb623afc578575680df30655b9</td>\n",
              "      <td>1325376018</td>\n",
              "      <td>36.011293</td>\n",
              "      <td>-82.048315</td>\n",
              "      <td>0</td>\n",
              "    </tr>\n",
              "    <tr>\n",
              "      <th>1</th>\n",
              "      <td>2019-01-01 00:00:44</td>\n",
              "      <td>630423337322</td>\n",
              "      <td>fraud_Heller, Gutmann and Zieme</td>\n",
              "      <td>grocery_pos</td>\n",
              "      <td>107.23</td>\n",
              "      <td>Stephanie</td>\n",
              "      <td>Gill</td>\n",
              "      <td>F</td>\n",
              "      <td>43039 Riley Greens Suite 393</td>\n",
              "      <td>Orient</td>\n",
              "      <td>...</td>\n",
              "      <td>48.8878</td>\n",
              "      <td>-118.2105</td>\n",
              "      <td>149</td>\n",
              "      <td>Special educational needs teacher</td>\n",
              "      <td>1978-06-21</td>\n",
              "      <td>1f76529f8574734946361c461b024d99</td>\n",
              "      <td>1325376044</td>\n",
              "      <td>49.159047</td>\n",
              "      <td>-118.186462</td>\n",
              "      <td>0</td>\n",
              "    </tr>\n",
              "    <tr>\n",
              "      <th>2</th>\n",
              "      <td>2019-01-01 00:00:51</td>\n",
              "      <td>38859492057661</td>\n",
              "      <td>fraud_Lind-Buckridge</td>\n",
              "      <td>entertainment</td>\n",
              "      <td>220.11</td>\n",
              "      <td>Edward</td>\n",
              "      <td>Sanchez</td>\n",
              "      <td>M</td>\n",
              "      <td>594 White Dale Suite 530</td>\n",
              "      <td>Malad City</td>\n",
              "      <td>...</td>\n",
              "      <td>42.1808</td>\n",
              "      <td>-112.2620</td>\n",
              "      <td>4154</td>\n",
              "      <td>Nature conservation officer</td>\n",
              "      <td>1962-01-19</td>\n",
              "      <td>a1a22d70485983eac12b5b88dad1cf95</td>\n",
              "      <td>1325376051</td>\n",
              "      <td>43.150704</td>\n",
              "      <td>-112.154481</td>\n",
              "      <td>0</td>\n",
              "    </tr>\n",
              "    <tr>\n",
              "      <th>3</th>\n",
              "      <td>2019-01-01 00:01:16</td>\n",
              "      <td>3534093764340240</td>\n",
              "      <td>fraud_Kutch, Hermiston and Farrell</td>\n",
              "      <td>gas_transport</td>\n",
              "      <td>45.00</td>\n",
              "      <td>Jeremy</td>\n",
              "      <td>White</td>\n",
              "      <td>M</td>\n",
              "      <td>9443 Cynthia Court Apt. 038</td>\n",
              "      <td>Boulder</td>\n",
              "      <td>...</td>\n",
              "      <td>46.2306</td>\n",
              "      <td>-112.1138</td>\n",
              "      <td>1939</td>\n",
              "      <td>Patent attorney</td>\n",
              "      <td>1967-01-12</td>\n",
              "      <td>6b849c168bdad6f867558c3793159a81</td>\n",
              "      <td>1325376076</td>\n",
              "      <td>47.034331</td>\n",
              "      <td>-112.561071</td>\n",
              "      <td>0</td>\n",
              "    </tr>\n",
              "    <tr>\n",
              "      <th>4</th>\n",
              "      <td>2019-01-01 00:03:06</td>\n",
              "      <td>375534208663984</td>\n",
              "      <td>fraud_Keeling-Crist</td>\n",
              "      <td>misc_pos</td>\n",
              "      <td>41.96</td>\n",
              "      <td>Tyler</td>\n",
              "      <td>Garcia</td>\n",
              "      <td>M</td>\n",
              "      <td>408 Bradley Rest</td>\n",
              "      <td>Doe Hill</td>\n",
              "      <td>...</td>\n",
              "      <td>38.4207</td>\n",
              "      <td>-79.4629</td>\n",
              "      <td>99</td>\n",
              "      <td>Dance movement psychotherapist</td>\n",
              "      <td>1986-03-28</td>\n",
              "      <td>a41d7549acf90789359a9aa5346dcb46</td>\n",
              "      <td>1325376186</td>\n",
              "      <td>38.674999</td>\n",
              "      <td>-78.632459</td>\n",
              "      <td>0</td>\n",
              "    </tr>\n",
              "  </tbody>\n",
              "</table>\n",
              "<p>5 rows × 22 columns</p>\n",
              "</div>\n",
              "      <button class=\"colab-df-convert\" onclick=\"convertToInteractive('df-b94a7b07-617a-4a56-9d26-11916c07f0a4')\"\n",
              "              title=\"Convert this dataframe to an interactive table.\"\n",
              "              style=\"display:none;\">\n",
              "        \n",
              "  <svg xmlns=\"http://www.w3.org/2000/svg\" height=\"24px\"viewBox=\"0 0 24 24\"\n",
              "       width=\"24px\">\n",
              "    <path d=\"M0 0h24v24H0V0z\" fill=\"none\"/>\n",
              "    <path d=\"M18.56 5.44l.94 2.06.94-2.06 2.06-.94-2.06-.94-.94-2.06-.94 2.06-2.06.94zm-11 1L8.5 8.5l.94-2.06 2.06-.94-2.06-.94L8.5 2.5l-.94 2.06-2.06.94zm10 10l.94 2.06.94-2.06 2.06-.94-2.06-.94-.94-2.06-.94 2.06-2.06.94z\"/><path d=\"M17.41 7.96l-1.37-1.37c-.4-.4-.92-.59-1.43-.59-.52 0-1.04.2-1.43.59L10.3 9.45l-7.72 7.72c-.78.78-.78 2.05 0 2.83L4 21.41c.39.39.9.59 1.41.59.51 0 1.02-.2 1.41-.59l7.78-7.78 2.81-2.81c.8-.78.8-2.07 0-2.86zM5.41 20L4 18.59l7.72-7.72 1.47 1.35L5.41 20z\"/>\n",
              "  </svg>\n",
              "      </button>\n",
              "      \n",
              "  <style>\n",
              "    .colab-df-container {\n",
              "      display:flex;\n",
              "      flex-wrap:wrap;\n",
              "      gap: 12px;\n",
              "    }\n",
              "\n",
              "    .colab-df-convert {\n",
              "      background-color: #E8F0FE;\n",
              "      border: none;\n",
              "      border-radius: 50%;\n",
              "      cursor: pointer;\n",
              "      display: none;\n",
              "      fill: #1967D2;\n",
              "      height: 32px;\n",
              "      padding: 0 0 0 0;\n",
              "      width: 32px;\n",
              "    }\n",
              "\n",
              "    .colab-df-convert:hover {\n",
              "      background-color: #E2EBFA;\n",
              "      box-shadow: 0px 1px 2px rgba(60, 64, 67, 0.3), 0px 1px 3px 1px rgba(60, 64, 67, 0.15);\n",
              "      fill: #174EA6;\n",
              "    }\n",
              "\n",
              "    [theme=dark] .colab-df-convert {\n",
              "      background-color: #3B4455;\n",
              "      fill: #D2E3FC;\n",
              "    }\n",
              "\n",
              "    [theme=dark] .colab-df-convert:hover {\n",
              "      background-color: #434B5C;\n",
              "      box-shadow: 0px 1px 3px 1px rgba(0, 0, 0, 0.15);\n",
              "      filter: drop-shadow(0px 1px 2px rgba(0, 0, 0, 0.3));\n",
              "      fill: #FFFFFF;\n",
              "    }\n",
              "  </style>\n",
              "\n",
              "      <script>\n",
              "        const buttonEl =\n",
              "          document.querySelector('#df-b94a7b07-617a-4a56-9d26-11916c07f0a4 button.colab-df-convert');\n",
              "        buttonEl.style.display =\n",
              "          google.colab.kernel.accessAllowed ? 'block' : 'none';\n",
              "\n",
              "        async function convertToInteractive(key) {\n",
              "          const element = document.querySelector('#df-b94a7b07-617a-4a56-9d26-11916c07f0a4');\n",
              "          const dataTable =\n",
              "            await google.colab.kernel.invokeFunction('convertToInteractive',\n",
              "                                                     [key], {});\n",
              "          if (!dataTable) return;\n",
              "\n",
              "          const docLinkHtml = 'Like what you see? Visit the ' +\n",
              "            '<a target=\"_blank\" href=https://colab.research.google.com/notebooks/data_table.ipynb>data table notebook</a>'\n",
              "            + ' to learn more about interactive tables.';\n",
              "          element.innerHTML = '';\n",
              "          dataTable['output_type'] = 'display_data';\n",
              "          await google.colab.output.renderOutput(dataTable, element);\n",
              "          const docLink = document.createElement('div');\n",
              "          docLink.innerHTML = docLinkHtml;\n",
              "          element.appendChild(docLink);\n",
              "        }\n",
              "      </script>\n",
              "    </div>\n",
              "  </div>\n",
              "  "
            ]
          },
          "metadata": {},
          "execution_count": 26
        }
      ]
    },
    {
      "cell_type": "code",
      "source": [
        "test = pd.read_csv('fraudTest.csv', index_col=0)"
      ],
      "metadata": {
        "id": "7XZjFvlcPxli"
      },
      "execution_count": null,
      "outputs": []
    },
    {
      "cell_type": "code",
      "source": [
        "test.head()"
      ],
      "metadata": {
        "id": "DMvxzSnkP3gy",
        "colab": {
          "base_uri": "https://localhost:8080/",
          "height": 508
        },
        "outputId": "073b0d64-89ab-41f1-eddb-e8d0e7e7f008"
      },
      "execution_count": null,
      "outputs": [
        {
          "output_type": "execute_result",
          "data": {
            "text/plain": [
              "  trans_date_trans_time            cc_num  \\\n",
              "0   2020-06-21 12:14:25  2291163933867244   \n",
              "1   2020-06-21 12:14:33  3573030041201292   \n",
              "2   2020-06-21 12:14:53  3598215285024754   \n",
              "3   2020-06-21 12:15:15  3591919803438423   \n",
              "4   2020-06-21 12:15:17  3526826139003047   \n",
              "\n",
              "                               merchant        category    amt   first  \\\n",
              "0                 fraud_Kirlin and Sons   personal_care   2.86    Jeff   \n",
              "1                  fraud_Sporer-Keebler   personal_care  29.84  Joanne   \n",
              "2  fraud_Swaniawski, Nitzsche and Welch  health_fitness  41.28  Ashley   \n",
              "3                     fraud_Haley Group        misc_pos  60.05   Brian   \n",
              "4                 fraud_Johnston-Casper          travel   3.19  Nathan   \n",
              "\n",
              "       last gender                       street        city  ...      lat  \\\n",
              "0   Elliott      M            351 Darlene Green    Columbia  ...  33.9659   \n",
              "1  Williams      F             3638 Marsh Union     Altonah  ...  40.3207   \n",
              "2     Lopez      F         9333 Valentine Point    Bellmore  ...  40.6729   \n",
              "3  Williams      M  32941 Krystal Mill Apt. 552  Titusville  ...  28.5697   \n",
              "4    Massey      M     5783 Evan Roads Apt. 465    Falmouth  ...  44.2529   \n",
              "\n",
              "       long  city_pop                     job         dob  \\\n",
              "0  -80.9355    333497     Mechanical engineer  1968-03-19   \n",
              "1 -110.4360       302  Sales professional, IT  1990-01-17   \n",
              "2  -73.5365     34496       Librarian, public  1970-10-21   \n",
              "3  -80.8191     54767            Set designer  1987-07-25   \n",
              "4  -85.0170      1126      Furniture designer  1955-07-06   \n",
              "\n",
              "                          trans_num   unix_time  merch_lat  merch_long  \\\n",
              "0  2da90c7d74bd46a0caf3777415b3ebd3  1371816865  33.986391  -81.200714   \n",
              "1  324cc204407e99f51b0d6ca0055005e7  1371816873  39.450498 -109.960431   \n",
              "2  c81755dbbbea9d5c77f094348a7579be  1371816893  40.495810  -74.196111   \n",
              "3  2159175b9efe66dc301f149d3d5abf8c  1371816915  28.812398  -80.883061   \n",
              "4  57ff021bd3f328f8738bb535c302a31b  1371816917  44.959148  -85.884734   \n",
              "\n",
              "   is_fraud  \n",
              "0         0  \n",
              "1         0  \n",
              "2         0  \n",
              "3         0  \n",
              "4         0  \n",
              "\n",
              "[5 rows x 22 columns]"
            ],
            "text/html": [
              "\n",
              "  <div id=\"df-99399875-5217-4cc6-958d-5289d1780f32\">\n",
              "    <div class=\"colab-df-container\">\n",
              "      <div>\n",
              "<style scoped>\n",
              "    .dataframe tbody tr th:only-of-type {\n",
              "        vertical-align: middle;\n",
              "    }\n",
              "\n",
              "    .dataframe tbody tr th {\n",
              "        vertical-align: top;\n",
              "    }\n",
              "\n",
              "    .dataframe thead th {\n",
              "        text-align: right;\n",
              "    }\n",
              "</style>\n",
              "<table border=\"1\" class=\"dataframe\">\n",
              "  <thead>\n",
              "    <tr style=\"text-align: right;\">\n",
              "      <th></th>\n",
              "      <th>trans_date_trans_time</th>\n",
              "      <th>cc_num</th>\n",
              "      <th>merchant</th>\n",
              "      <th>category</th>\n",
              "      <th>amt</th>\n",
              "      <th>first</th>\n",
              "      <th>last</th>\n",
              "      <th>gender</th>\n",
              "      <th>street</th>\n",
              "      <th>city</th>\n",
              "      <th>...</th>\n",
              "      <th>lat</th>\n",
              "      <th>long</th>\n",
              "      <th>city_pop</th>\n",
              "      <th>job</th>\n",
              "      <th>dob</th>\n",
              "      <th>trans_num</th>\n",
              "      <th>unix_time</th>\n",
              "      <th>merch_lat</th>\n",
              "      <th>merch_long</th>\n",
              "      <th>is_fraud</th>\n",
              "    </tr>\n",
              "  </thead>\n",
              "  <tbody>\n",
              "    <tr>\n",
              "      <th>0</th>\n",
              "      <td>2020-06-21 12:14:25</td>\n",
              "      <td>2291163933867244</td>\n",
              "      <td>fraud_Kirlin and Sons</td>\n",
              "      <td>personal_care</td>\n",
              "      <td>2.86</td>\n",
              "      <td>Jeff</td>\n",
              "      <td>Elliott</td>\n",
              "      <td>M</td>\n",
              "      <td>351 Darlene Green</td>\n",
              "      <td>Columbia</td>\n",
              "      <td>...</td>\n",
              "      <td>33.9659</td>\n",
              "      <td>-80.9355</td>\n",
              "      <td>333497</td>\n",
              "      <td>Mechanical engineer</td>\n",
              "      <td>1968-03-19</td>\n",
              "      <td>2da90c7d74bd46a0caf3777415b3ebd3</td>\n",
              "      <td>1371816865</td>\n",
              "      <td>33.986391</td>\n",
              "      <td>-81.200714</td>\n",
              "      <td>0</td>\n",
              "    </tr>\n",
              "    <tr>\n",
              "      <th>1</th>\n",
              "      <td>2020-06-21 12:14:33</td>\n",
              "      <td>3573030041201292</td>\n",
              "      <td>fraud_Sporer-Keebler</td>\n",
              "      <td>personal_care</td>\n",
              "      <td>29.84</td>\n",
              "      <td>Joanne</td>\n",
              "      <td>Williams</td>\n",
              "      <td>F</td>\n",
              "      <td>3638 Marsh Union</td>\n",
              "      <td>Altonah</td>\n",
              "      <td>...</td>\n",
              "      <td>40.3207</td>\n",
              "      <td>-110.4360</td>\n",
              "      <td>302</td>\n",
              "      <td>Sales professional, IT</td>\n",
              "      <td>1990-01-17</td>\n",
              "      <td>324cc204407e99f51b0d6ca0055005e7</td>\n",
              "      <td>1371816873</td>\n",
              "      <td>39.450498</td>\n",
              "      <td>-109.960431</td>\n",
              "      <td>0</td>\n",
              "    </tr>\n",
              "    <tr>\n",
              "      <th>2</th>\n",
              "      <td>2020-06-21 12:14:53</td>\n",
              "      <td>3598215285024754</td>\n",
              "      <td>fraud_Swaniawski, Nitzsche and Welch</td>\n",
              "      <td>health_fitness</td>\n",
              "      <td>41.28</td>\n",
              "      <td>Ashley</td>\n",
              "      <td>Lopez</td>\n",
              "      <td>F</td>\n",
              "      <td>9333 Valentine Point</td>\n",
              "      <td>Bellmore</td>\n",
              "      <td>...</td>\n",
              "      <td>40.6729</td>\n",
              "      <td>-73.5365</td>\n",
              "      <td>34496</td>\n",
              "      <td>Librarian, public</td>\n",
              "      <td>1970-10-21</td>\n",
              "      <td>c81755dbbbea9d5c77f094348a7579be</td>\n",
              "      <td>1371816893</td>\n",
              "      <td>40.495810</td>\n",
              "      <td>-74.196111</td>\n",
              "      <td>0</td>\n",
              "    </tr>\n",
              "    <tr>\n",
              "      <th>3</th>\n",
              "      <td>2020-06-21 12:15:15</td>\n",
              "      <td>3591919803438423</td>\n",
              "      <td>fraud_Haley Group</td>\n",
              "      <td>misc_pos</td>\n",
              "      <td>60.05</td>\n",
              "      <td>Brian</td>\n",
              "      <td>Williams</td>\n",
              "      <td>M</td>\n",
              "      <td>32941 Krystal Mill Apt. 552</td>\n",
              "      <td>Titusville</td>\n",
              "      <td>...</td>\n",
              "      <td>28.5697</td>\n",
              "      <td>-80.8191</td>\n",
              "      <td>54767</td>\n",
              "      <td>Set designer</td>\n",
              "      <td>1987-07-25</td>\n",
              "      <td>2159175b9efe66dc301f149d3d5abf8c</td>\n",
              "      <td>1371816915</td>\n",
              "      <td>28.812398</td>\n",
              "      <td>-80.883061</td>\n",
              "      <td>0</td>\n",
              "    </tr>\n",
              "    <tr>\n",
              "      <th>4</th>\n",
              "      <td>2020-06-21 12:15:17</td>\n",
              "      <td>3526826139003047</td>\n",
              "      <td>fraud_Johnston-Casper</td>\n",
              "      <td>travel</td>\n",
              "      <td>3.19</td>\n",
              "      <td>Nathan</td>\n",
              "      <td>Massey</td>\n",
              "      <td>M</td>\n",
              "      <td>5783 Evan Roads Apt. 465</td>\n",
              "      <td>Falmouth</td>\n",
              "      <td>...</td>\n",
              "      <td>44.2529</td>\n",
              "      <td>-85.0170</td>\n",
              "      <td>1126</td>\n",
              "      <td>Furniture designer</td>\n",
              "      <td>1955-07-06</td>\n",
              "      <td>57ff021bd3f328f8738bb535c302a31b</td>\n",
              "      <td>1371816917</td>\n",
              "      <td>44.959148</td>\n",
              "      <td>-85.884734</td>\n",
              "      <td>0</td>\n",
              "    </tr>\n",
              "  </tbody>\n",
              "</table>\n",
              "<p>5 rows × 22 columns</p>\n",
              "</div>\n",
              "      <button class=\"colab-df-convert\" onclick=\"convertToInteractive('df-99399875-5217-4cc6-958d-5289d1780f32')\"\n",
              "              title=\"Convert this dataframe to an interactive table.\"\n",
              "              style=\"display:none;\">\n",
              "        \n",
              "  <svg xmlns=\"http://www.w3.org/2000/svg\" height=\"24px\"viewBox=\"0 0 24 24\"\n",
              "       width=\"24px\">\n",
              "    <path d=\"M0 0h24v24H0V0z\" fill=\"none\"/>\n",
              "    <path d=\"M18.56 5.44l.94 2.06.94-2.06 2.06-.94-2.06-.94-.94-2.06-.94 2.06-2.06.94zm-11 1L8.5 8.5l.94-2.06 2.06-.94-2.06-.94L8.5 2.5l-.94 2.06-2.06.94zm10 10l.94 2.06.94-2.06 2.06-.94-2.06-.94-.94-2.06-.94 2.06-2.06.94z\"/><path d=\"M17.41 7.96l-1.37-1.37c-.4-.4-.92-.59-1.43-.59-.52 0-1.04.2-1.43.59L10.3 9.45l-7.72 7.72c-.78.78-.78 2.05 0 2.83L4 21.41c.39.39.9.59 1.41.59.51 0 1.02-.2 1.41-.59l7.78-7.78 2.81-2.81c.8-.78.8-2.07 0-2.86zM5.41 20L4 18.59l7.72-7.72 1.47 1.35L5.41 20z\"/>\n",
              "  </svg>\n",
              "      </button>\n",
              "      \n",
              "  <style>\n",
              "    .colab-df-container {\n",
              "      display:flex;\n",
              "      flex-wrap:wrap;\n",
              "      gap: 12px;\n",
              "    }\n",
              "\n",
              "    .colab-df-convert {\n",
              "      background-color: #E8F0FE;\n",
              "      border: none;\n",
              "      border-radius: 50%;\n",
              "      cursor: pointer;\n",
              "      display: none;\n",
              "      fill: #1967D2;\n",
              "      height: 32px;\n",
              "      padding: 0 0 0 0;\n",
              "      width: 32px;\n",
              "    }\n",
              "\n",
              "    .colab-df-convert:hover {\n",
              "      background-color: #E2EBFA;\n",
              "      box-shadow: 0px 1px 2px rgba(60, 64, 67, 0.3), 0px 1px 3px 1px rgba(60, 64, 67, 0.15);\n",
              "      fill: #174EA6;\n",
              "    }\n",
              "\n",
              "    [theme=dark] .colab-df-convert {\n",
              "      background-color: #3B4455;\n",
              "      fill: #D2E3FC;\n",
              "    }\n",
              "\n",
              "    [theme=dark] .colab-df-convert:hover {\n",
              "      background-color: #434B5C;\n",
              "      box-shadow: 0px 1px 3px 1px rgba(0, 0, 0, 0.15);\n",
              "      filter: drop-shadow(0px 1px 2px rgba(0, 0, 0, 0.3));\n",
              "      fill: #FFFFFF;\n",
              "    }\n",
              "  </style>\n",
              "\n",
              "      <script>\n",
              "        const buttonEl =\n",
              "          document.querySelector('#df-99399875-5217-4cc6-958d-5289d1780f32 button.colab-df-convert');\n",
              "        buttonEl.style.display =\n",
              "          google.colab.kernel.accessAllowed ? 'block' : 'none';\n",
              "\n",
              "        async function convertToInteractive(key) {\n",
              "          const element = document.querySelector('#df-99399875-5217-4cc6-958d-5289d1780f32');\n",
              "          const dataTable =\n",
              "            await google.colab.kernel.invokeFunction('convertToInteractive',\n",
              "                                                     [key], {});\n",
              "          if (!dataTable) return;\n",
              "\n",
              "          const docLinkHtml = 'Like what you see? Visit the ' +\n",
              "            '<a target=\"_blank\" href=https://colab.research.google.com/notebooks/data_table.ipynb>data table notebook</a>'\n",
              "            + ' to learn more about interactive tables.';\n",
              "          element.innerHTML = '';\n",
              "          dataTable['output_type'] = 'display_data';\n",
              "          await google.colab.output.renderOutput(dataTable, element);\n",
              "          const docLink = document.createElement('div');\n",
              "          docLink.innerHTML = docLinkHtml;\n",
              "          element.appendChild(docLink);\n",
              "        }\n",
              "      </script>\n",
              "    </div>\n",
              "  </div>\n",
              "  "
            ]
          },
          "metadata": {},
          "execution_count": 28
        }
      ]
    },
    {
      "cell_type": "code",
      "source": [
        "test.info() # 555719 / 0.55M"
      ],
      "metadata": {
        "colab": {
          "base_uri": "https://localhost:8080/"
        },
        "id": "e8oJsOPjP9lz",
        "outputId": "738dcc0f-dd64-4bba-cac6-7cd5f0398f57"
      },
      "execution_count": null,
      "outputs": [
        {
          "output_type": "stream",
          "name": "stdout",
          "text": [
            "<class 'pandas.core.frame.DataFrame'>\n",
            "Int64Index: 555719 entries, 0 to 555718\n",
            "Data columns (total 22 columns):\n",
            " #   Column                 Non-Null Count   Dtype  \n",
            "---  ------                 --------------   -----  \n",
            " 0   trans_date_trans_time  555719 non-null  object \n",
            " 1   cc_num                 555719 non-null  int64  \n",
            " 2   merchant               555719 non-null  object \n",
            " 3   category               555719 non-null  object \n",
            " 4   amt                    555719 non-null  float64\n",
            " 5   first                  555719 non-null  object \n",
            " 6   last                   555719 non-null  object \n",
            " 7   gender                 555719 non-null  object \n",
            " 8   street                 555719 non-null  object \n",
            " 9   city                   555719 non-null  object \n",
            " 10  state                  555719 non-null  object \n",
            " 11  zip                    555719 non-null  int64  \n",
            " 12  lat                    555719 non-null  float64\n",
            " 13  long                   555719 non-null  float64\n",
            " 14  city_pop               555719 non-null  int64  \n",
            " 15  job                    555719 non-null  object \n",
            " 16  dob                    555719 non-null  object \n",
            " 17  trans_num              555719 non-null  object \n",
            " 18  unix_time              555719 non-null  int64  \n",
            " 19  merch_lat              555719 non-null  float64\n",
            " 20  merch_long             555719 non-null  float64\n",
            " 21  is_fraud               555719 non-null  int64  \n",
            "dtypes: float64(5), int64(5), object(12)\n",
            "memory usage: 97.5+ MB\n"
          ]
        }
      ]
    },
    {
      "cell_type": "code",
      "source": [
        "# 열이 일치하는 두 데이터를 위아래로 합쳐준다 -> pd.concat([합쳐줄 df들])\n",
        "df=pd.concat([train, test], ignore_index=True)  #인덱스가 겹치면 같은 데이터인 줄 알음 -ignore\n",
        "df"
      ],
      "metadata": {
        "colab": {
          "base_uri": "https://localhost:8080/",
          "height": 852
        },
        "id": "B2F-7BvYQJuV",
        "outputId": "353fa965-960c-455f-b782-d2cfb473b1bb"
      },
      "execution_count": null,
      "outputs": [
        {
          "output_type": "execute_result",
          "data": {
            "text/plain": [
              "        trans_date_trans_time            cc_num  \\\n",
              "0         2019-01-01 00:00:18  2703186189652095   \n",
              "1         2019-01-01 00:00:44      630423337322   \n",
              "2         2019-01-01 00:00:51    38859492057661   \n",
              "3         2019-01-01 00:01:16  3534093764340240   \n",
              "4         2019-01-01 00:03:06   375534208663984   \n",
              "...                       ...               ...   \n",
              "1852389   2020-12-31 23:59:07    30560609640617   \n",
              "1852390   2020-12-31 23:59:09  3556613125071656   \n",
              "1852391   2020-12-31 23:59:15  6011724471098086   \n",
              "1852392   2020-12-31 23:59:24     4079773899158   \n",
              "1852393   2020-12-31 23:59:34  4170689372027579   \n",
              "\n",
              "                                   merchant        category     amt  \\\n",
              "0                fraud_Rippin, Kub and Mann        misc_net    4.97   \n",
              "1           fraud_Heller, Gutmann and Zieme     grocery_pos  107.23   \n",
              "2                      fraud_Lind-Buckridge   entertainment  220.11   \n",
              "3        fraud_Kutch, Hermiston and Farrell   gas_transport   45.00   \n",
              "4                       fraud_Keeling-Crist        misc_pos   41.96   \n",
              "...                                     ...             ...     ...   \n",
              "1852389               fraud_Reilly and Sons  health_fitness   43.77   \n",
              "1852390                fraud_Hoppe-Parisian       kids_pets  111.84   \n",
              "1852391                     fraud_Rau-Robel       kids_pets   86.88   \n",
              "1852392               fraud_Breitenberg LLC          travel    7.99   \n",
              "1852393                   fraud_Dare-Marvin   entertainment   38.13   \n",
              "\n",
              "             first     last gender                        street  \\\n",
              "0         Jennifer    Banks      F                561 Perry Cove   \n",
              "1        Stephanie     Gill      F  43039 Riley Greens Suite 393   \n",
              "2           Edward  Sanchez      M      594 White Dale Suite 530   \n",
              "3           Jeremy    White      M   9443 Cynthia Court Apt. 038   \n",
              "4            Tyler   Garcia      M              408 Bradley Rest   \n",
              "...            ...      ...    ...                           ...   \n",
              "1852389    Michael    Olson      M           558 Michael Estates   \n",
              "1852390       Jose  Vasquez      M           572 Davis Mountains   \n",
              "1852391        Ann   Lawson      F    144 Evans Islands Apt. 683   \n",
              "1852392       Eric  Preston      M    7020 Doyle Stream Apt. 951   \n",
              "1852393     Samuel     Frey      M      830 Myers Plaza Apt. 384   \n",
              "\n",
              "                   city  ...      lat      long  city_pop  \\\n",
              "0        Moravian Falls  ...  36.0788  -81.1781      3495   \n",
              "1                Orient  ...  48.8878 -118.2105       149   \n",
              "2            Malad City  ...  42.1808 -112.2620      4154   \n",
              "3               Boulder  ...  46.2306 -112.1138      1939   \n",
              "4              Doe Hill  ...  38.4207  -79.4629        99   \n",
              "...                 ...  ...      ...       ...       ...   \n",
              "1852389           Luray  ...  40.4931  -91.8912       519   \n",
              "1852390    Lake Jackson  ...  29.0393  -95.4401     28739   \n",
              "1852391         Burbank  ...  46.1966 -118.9017      3684   \n",
              "1852392            Mesa  ...  44.6255 -116.4493       129   \n",
              "1852393          Edmond  ...  35.6665  -97.4798    116001   \n",
              "\n",
              "                                       job         dob  \\\n",
              "0                Psychologist, counselling  1988-03-09   \n",
              "1        Special educational needs teacher  1978-06-21   \n",
              "2              Nature conservation officer  1962-01-19   \n",
              "3                          Patent attorney  1967-01-12   \n",
              "4           Dance movement psychotherapist  1986-03-28   \n",
              "...                                    ...         ...   \n",
              "1852389                       Town planner  1966-02-13   \n",
              "1852390                     Futures trader  1999-12-27   \n",
              "1852391                           Musician  1981-11-29   \n",
              "1852392                       Cartographer  1965-12-15   \n",
              "1852393                        Media buyer  1993-05-10   \n",
              "\n",
              "                                trans_num   unix_time  merch_lat  merch_long  \\\n",
              "0        0b242abb623afc578575680df30655b9  1325376018  36.011293  -82.048315   \n",
              "1        1f76529f8574734946361c461b024d99  1325376044  49.159047 -118.186462   \n",
              "2        a1a22d70485983eac12b5b88dad1cf95  1325376051  43.150704 -112.154481   \n",
              "3        6b849c168bdad6f867558c3793159a81  1325376076  47.034331 -112.561071   \n",
              "4        a41d7549acf90789359a9aa5346dcb46  1325376186  38.674999  -78.632459   \n",
              "...                                   ...         ...        ...         ...   \n",
              "1852389  9b1f753c79894c9f4b71f04581835ada  1388534347  39.946837  -91.333331   \n",
              "1852390  2090647dac2c89a1d86c514c427f5b91  1388534349  29.661049  -96.186633   \n",
              "1852391  6c5b7c8add471975aa0fec023b2e8408  1388534355  46.658340 -119.715054   \n",
              "1852392  14392d723bb7737606b2700ac791b7aa  1388534364  44.470525 -117.080888   \n",
              "1852393  1765bb45b3aa3224b4cdcb6e7a96cee3  1388534374  36.210097  -97.036372   \n",
              "\n",
              "         is_fraud  \n",
              "0               0  \n",
              "1               0  \n",
              "2               0  \n",
              "3               0  \n",
              "4               0  \n",
              "...           ...  \n",
              "1852389         0  \n",
              "1852390         0  \n",
              "1852391         0  \n",
              "1852392         0  \n",
              "1852393         0  \n",
              "\n",
              "[1852394 rows x 22 columns]"
            ],
            "text/html": [
              "\n",
              "  <div id=\"df-1a772ea8-daa6-4118-9131-49d252b181bc\">\n",
              "    <div class=\"colab-df-container\">\n",
              "      <div>\n",
              "<style scoped>\n",
              "    .dataframe tbody tr th:only-of-type {\n",
              "        vertical-align: middle;\n",
              "    }\n",
              "\n",
              "    .dataframe tbody tr th {\n",
              "        vertical-align: top;\n",
              "    }\n",
              "\n",
              "    .dataframe thead th {\n",
              "        text-align: right;\n",
              "    }\n",
              "</style>\n",
              "<table border=\"1\" class=\"dataframe\">\n",
              "  <thead>\n",
              "    <tr style=\"text-align: right;\">\n",
              "      <th></th>\n",
              "      <th>trans_date_trans_time</th>\n",
              "      <th>cc_num</th>\n",
              "      <th>merchant</th>\n",
              "      <th>category</th>\n",
              "      <th>amt</th>\n",
              "      <th>first</th>\n",
              "      <th>last</th>\n",
              "      <th>gender</th>\n",
              "      <th>street</th>\n",
              "      <th>city</th>\n",
              "      <th>...</th>\n",
              "      <th>lat</th>\n",
              "      <th>long</th>\n",
              "      <th>city_pop</th>\n",
              "      <th>job</th>\n",
              "      <th>dob</th>\n",
              "      <th>trans_num</th>\n",
              "      <th>unix_time</th>\n",
              "      <th>merch_lat</th>\n",
              "      <th>merch_long</th>\n",
              "      <th>is_fraud</th>\n",
              "    </tr>\n",
              "  </thead>\n",
              "  <tbody>\n",
              "    <tr>\n",
              "      <th>0</th>\n",
              "      <td>2019-01-01 00:00:18</td>\n",
              "      <td>2703186189652095</td>\n",
              "      <td>fraud_Rippin, Kub and Mann</td>\n",
              "      <td>misc_net</td>\n",
              "      <td>4.97</td>\n",
              "      <td>Jennifer</td>\n",
              "      <td>Banks</td>\n",
              "      <td>F</td>\n",
              "      <td>561 Perry Cove</td>\n",
              "      <td>Moravian Falls</td>\n",
              "      <td>...</td>\n",
              "      <td>36.0788</td>\n",
              "      <td>-81.1781</td>\n",
              "      <td>3495</td>\n",
              "      <td>Psychologist, counselling</td>\n",
              "      <td>1988-03-09</td>\n",
              "      <td>0b242abb623afc578575680df30655b9</td>\n",
              "      <td>1325376018</td>\n",
              "      <td>36.011293</td>\n",
              "      <td>-82.048315</td>\n",
              "      <td>0</td>\n",
              "    </tr>\n",
              "    <tr>\n",
              "      <th>1</th>\n",
              "      <td>2019-01-01 00:00:44</td>\n",
              "      <td>630423337322</td>\n",
              "      <td>fraud_Heller, Gutmann and Zieme</td>\n",
              "      <td>grocery_pos</td>\n",
              "      <td>107.23</td>\n",
              "      <td>Stephanie</td>\n",
              "      <td>Gill</td>\n",
              "      <td>F</td>\n",
              "      <td>43039 Riley Greens Suite 393</td>\n",
              "      <td>Orient</td>\n",
              "      <td>...</td>\n",
              "      <td>48.8878</td>\n",
              "      <td>-118.2105</td>\n",
              "      <td>149</td>\n",
              "      <td>Special educational needs teacher</td>\n",
              "      <td>1978-06-21</td>\n",
              "      <td>1f76529f8574734946361c461b024d99</td>\n",
              "      <td>1325376044</td>\n",
              "      <td>49.159047</td>\n",
              "      <td>-118.186462</td>\n",
              "      <td>0</td>\n",
              "    </tr>\n",
              "    <tr>\n",
              "      <th>2</th>\n",
              "      <td>2019-01-01 00:00:51</td>\n",
              "      <td>38859492057661</td>\n",
              "      <td>fraud_Lind-Buckridge</td>\n",
              "      <td>entertainment</td>\n",
              "      <td>220.11</td>\n",
              "      <td>Edward</td>\n",
              "      <td>Sanchez</td>\n",
              "      <td>M</td>\n",
              "      <td>594 White Dale Suite 530</td>\n",
              "      <td>Malad City</td>\n",
              "      <td>...</td>\n",
              "      <td>42.1808</td>\n",
              "      <td>-112.2620</td>\n",
              "      <td>4154</td>\n",
              "      <td>Nature conservation officer</td>\n",
              "      <td>1962-01-19</td>\n",
              "      <td>a1a22d70485983eac12b5b88dad1cf95</td>\n",
              "      <td>1325376051</td>\n",
              "      <td>43.150704</td>\n",
              "      <td>-112.154481</td>\n",
              "      <td>0</td>\n",
              "    </tr>\n",
              "    <tr>\n",
              "      <th>3</th>\n",
              "      <td>2019-01-01 00:01:16</td>\n",
              "      <td>3534093764340240</td>\n",
              "      <td>fraud_Kutch, Hermiston and Farrell</td>\n",
              "      <td>gas_transport</td>\n",
              "      <td>45.00</td>\n",
              "      <td>Jeremy</td>\n",
              "      <td>White</td>\n",
              "      <td>M</td>\n",
              "      <td>9443 Cynthia Court Apt. 038</td>\n",
              "      <td>Boulder</td>\n",
              "      <td>...</td>\n",
              "      <td>46.2306</td>\n",
              "      <td>-112.1138</td>\n",
              "      <td>1939</td>\n",
              "      <td>Patent attorney</td>\n",
              "      <td>1967-01-12</td>\n",
              "      <td>6b849c168bdad6f867558c3793159a81</td>\n",
              "      <td>1325376076</td>\n",
              "      <td>47.034331</td>\n",
              "      <td>-112.561071</td>\n",
              "      <td>0</td>\n",
              "    </tr>\n",
              "    <tr>\n",
              "      <th>4</th>\n",
              "      <td>2019-01-01 00:03:06</td>\n",
              "      <td>375534208663984</td>\n",
              "      <td>fraud_Keeling-Crist</td>\n",
              "      <td>misc_pos</td>\n",
              "      <td>41.96</td>\n",
              "      <td>Tyler</td>\n",
              "      <td>Garcia</td>\n",
              "      <td>M</td>\n",
              "      <td>408 Bradley Rest</td>\n",
              "      <td>Doe Hill</td>\n",
              "      <td>...</td>\n",
              "      <td>38.4207</td>\n",
              "      <td>-79.4629</td>\n",
              "      <td>99</td>\n",
              "      <td>Dance movement psychotherapist</td>\n",
              "      <td>1986-03-28</td>\n",
              "      <td>a41d7549acf90789359a9aa5346dcb46</td>\n",
              "      <td>1325376186</td>\n",
              "      <td>38.674999</td>\n",
              "      <td>-78.632459</td>\n",
              "      <td>0</td>\n",
              "    </tr>\n",
              "    <tr>\n",
              "      <th>...</th>\n",
              "      <td>...</td>\n",
              "      <td>...</td>\n",
              "      <td>...</td>\n",
              "      <td>...</td>\n",
              "      <td>...</td>\n",
              "      <td>...</td>\n",
              "      <td>...</td>\n",
              "      <td>...</td>\n",
              "      <td>...</td>\n",
              "      <td>...</td>\n",
              "      <td>...</td>\n",
              "      <td>...</td>\n",
              "      <td>...</td>\n",
              "      <td>...</td>\n",
              "      <td>...</td>\n",
              "      <td>...</td>\n",
              "      <td>...</td>\n",
              "      <td>...</td>\n",
              "      <td>...</td>\n",
              "      <td>...</td>\n",
              "      <td>...</td>\n",
              "    </tr>\n",
              "    <tr>\n",
              "      <th>1852389</th>\n",
              "      <td>2020-12-31 23:59:07</td>\n",
              "      <td>30560609640617</td>\n",
              "      <td>fraud_Reilly and Sons</td>\n",
              "      <td>health_fitness</td>\n",
              "      <td>43.77</td>\n",
              "      <td>Michael</td>\n",
              "      <td>Olson</td>\n",
              "      <td>M</td>\n",
              "      <td>558 Michael Estates</td>\n",
              "      <td>Luray</td>\n",
              "      <td>...</td>\n",
              "      <td>40.4931</td>\n",
              "      <td>-91.8912</td>\n",
              "      <td>519</td>\n",
              "      <td>Town planner</td>\n",
              "      <td>1966-02-13</td>\n",
              "      <td>9b1f753c79894c9f4b71f04581835ada</td>\n",
              "      <td>1388534347</td>\n",
              "      <td>39.946837</td>\n",
              "      <td>-91.333331</td>\n",
              "      <td>0</td>\n",
              "    </tr>\n",
              "    <tr>\n",
              "      <th>1852390</th>\n",
              "      <td>2020-12-31 23:59:09</td>\n",
              "      <td>3556613125071656</td>\n",
              "      <td>fraud_Hoppe-Parisian</td>\n",
              "      <td>kids_pets</td>\n",
              "      <td>111.84</td>\n",
              "      <td>Jose</td>\n",
              "      <td>Vasquez</td>\n",
              "      <td>M</td>\n",
              "      <td>572 Davis Mountains</td>\n",
              "      <td>Lake Jackson</td>\n",
              "      <td>...</td>\n",
              "      <td>29.0393</td>\n",
              "      <td>-95.4401</td>\n",
              "      <td>28739</td>\n",
              "      <td>Futures trader</td>\n",
              "      <td>1999-12-27</td>\n",
              "      <td>2090647dac2c89a1d86c514c427f5b91</td>\n",
              "      <td>1388534349</td>\n",
              "      <td>29.661049</td>\n",
              "      <td>-96.186633</td>\n",
              "      <td>0</td>\n",
              "    </tr>\n",
              "    <tr>\n",
              "      <th>1852391</th>\n",
              "      <td>2020-12-31 23:59:15</td>\n",
              "      <td>6011724471098086</td>\n",
              "      <td>fraud_Rau-Robel</td>\n",
              "      <td>kids_pets</td>\n",
              "      <td>86.88</td>\n",
              "      <td>Ann</td>\n",
              "      <td>Lawson</td>\n",
              "      <td>F</td>\n",
              "      <td>144 Evans Islands Apt. 683</td>\n",
              "      <td>Burbank</td>\n",
              "      <td>...</td>\n",
              "      <td>46.1966</td>\n",
              "      <td>-118.9017</td>\n",
              "      <td>3684</td>\n",
              "      <td>Musician</td>\n",
              "      <td>1981-11-29</td>\n",
              "      <td>6c5b7c8add471975aa0fec023b2e8408</td>\n",
              "      <td>1388534355</td>\n",
              "      <td>46.658340</td>\n",
              "      <td>-119.715054</td>\n",
              "      <td>0</td>\n",
              "    </tr>\n",
              "    <tr>\n",
              "      <th>1852392</th>\n",
              "      <td>2020-12-31 23:59:24</td>\n",
              "      <td>4079773899158</td>\n",
              "      <td>fraud_Breitenberg LLC</td>\n",
              "      <td>travel</td>\n",
              "      <td>7.99</td>\n",
              "      <td>Eric</td>\n",
              "      <td>Preston</td>\n",
              "      <td>M</td>\n",
              "      <td>7020 Doyle Stream Apt. 951</td>\n",
              "      <td>Mesa</td>\n",
              "      <td>...</td>\n",
              "      <td>44.6255</td>\n",
              "      <td>-116.4493</td>\n",
              "      <td>129</td>\n",
              "      <td>Cartographer</td>\n",
              "      <td>1965-12-15</td>\n",
              "      <td>14392d723bb7737606b2700ac791b7aa</td>\n",
              "      <td>1388534364</td>\n",
              "      <td>44.470525</td>\n",
              "      <td>-117.080888</td>\n",
              "      <td>0</td>\n",
              "    </tr>\n",
              "    <tr>\n",
              "      <th>1852393</th>\n",
              "      <td>2020-12-31 23:59:34</td>\n",
              "      <td>4170689372027579</td>\n",
              "      <td>fraud_Dare-Marvin</td>\n",
              "      <td>entertainment</td>\n",
              "      <td>38.13</td>\n",
              "      <td>Samuel</td>\n",
              "      <td>Frey</td>\n",
              "      <td>M</td>\n",
              "      <td>830 Myers Plaza Apt. 384</td>\n",
              "      <td>Edmond</td>\n",
              "      <td>...</td>\n",
              "      <td>35.6665</td>\n",
              "      <td>-97.4798</td>\n",
              "      <td>116001</td>\n",
              "      <td>Media buyer</td>\n",
              "      <td>1993-05-10</td>\n",
              "      <td>1765bb45b3aa3224b4cdcb6e7a96cee3</td>\n",
              "      <td>1388534374</td>\n",
              "      <td>36.210097</td>\n",
              "      <td>-97.036372</td>\n",
              "      <td>0</td>\n",
              "    </tr>\n",
              "  </tbody>\n",
              "</table>\n",
              "<p>1852394 rows × 22 columns</p>\n",
              "</div>\n",
              "      <button class=\"colab-df-convert\" onclick=\"convertToInteractive('df-1a772ea8-daa6-4118-9131-49d252b181bc')\"\n",
              "              title=\"Convert this dataframe to an interactive table.\"\n",
              "              style=\"display:none;\">\n",
              "        \n",
              "  <svg xmlns=\"http://www.w3.org/2000/svg\" height=\"24px\"viewBox=\"0 0 24 24\"\n",
              "       width=\"24px\">\n",
              "    <path d=\"M0 0h24v24H0V0z\" fill=\"none\"/>\n",
              "    <path d=\"M18.56 5.44l.94 2.06.94-2.06 2.06-.94-2.06-.94-.94-2.06-.94 2.06-2.06.94zm-11 1L8.5 8.5l.94-2.06 2.06-.94-2.06-.94L8.5 2.5l-.94 2.06-2.06.94zm10 10l.94 2.06.94-2.06 2.06-.94-2.06-.94-.94-2.06-.94 2.06-2.06.94z\"/><path d=\"M17.41 7.96l-1.37-1.37c-.4-.4-.92-.59-1.43-.59-.52 0-1.04.2-1.43.59L10.3 9.45l-7.72 7.72c-.78.78-.78 2.05 0 2.83L4 21.41c.39.39.9.59 1.41.59.51 0 1.02-.2 1.41-.59l7.78-7.78 2.81-2.81c.8-.78.8-2.07 0-2.86zM5.41 20L4 18.59l7.72-7.72 1.47 1.35L5.41 20z\"/>\n",
              "  </svg>\n",
              "      </button>\n",
              "      \n",
              "  <style>\n",
              "    .colab-df-container {\n",
              "      display:flex;\n",
              "      flex-wrap:wrap;\n",
              "      gap: 12px;\n",
              "    }\n",
              "\n",
              "    .colab-df-convert {\n",
              "      background-color: #E8F0FE;\n",
              "      border: none;\n",
              "      border-radius: 50%;\n",
              "      cursor: pointer;\n",
              "      display: none;\n",
              "      fill: #1967D2;\n",
              "      height: 32px;\n",
              "      padding: 0 0 0 0;\n",
              "      width: 32px;\n",
              "    }\n",
              "\n",
              "    .colab-df-convert:hover {\n",
              "      background-color: #E2EBFA;\n",
              "      box-shadow: 0px 1px 2px rgba(60, 64, 67, 0.3), 0px 1px 3px 1px rgba(60, 64, 67, 0.15);\n",
              "      fill: #174EA6;\n",
              "    }\n",
              "\n",
              "    [theme=dark] .colab-df-convert {\n",
              "      background-color: #3B4455;\n",
              "      fill: #D2E3FC;\n",
              "    }\n",
              "\n",
              "    [theme=dark] .colab-df-convert:hover {\n",
              "      background-color: #434B5C;\n",
              "      box-shadow: 0px 1px 3px 1px rgba(0, 0, 0, 0.15);\n",
              "      filter: drop-shadow(0px 1px 2px rgba(0, 0, 0, 0.3));\n",
              "      fill: #FFFFFF;\n",
              "    }\n",
              "  </style>\n",
              "\n",
              "      <script>\n",
              "        const buttonEl =\n",
              "          document.querySelector('#df-1a772ea8-daa6-4118-9131-49d252b181bc button.colab-df-convert');\n",
              "        buttonEl.style.display =\n",
              "          google.colab.kernel.accessAllowed ? 'block' : 'none';\n",
              "\n",
              "        async function convertToInteractive(key) {\n",
              "          const element = document.querySelector('#df-1a772ea8-daa6-4118-9131-49d252b181bc');\n",
              "          const dataTable =\n",
              "            await google.colab.kernel.invokeFunction('convertToInteractive',\n",
              "                                                     [key], {});\n",
              "          if (!dataTable) return;\n",
              "\n",
              "          const docLinkHtml = 'Like what you see? Visit the ' +\n",
              "            '<a target=\"_blank\" href=https://colab.research.google.com/notebooks/data_table.ipynb>data table notebook</a>'\n",
              "            + ' to learn more about interactive tables.';\n",
              "          element.innerHTML = '';\n",
              "          dataTable['output_type'] = 'display_data';\n",
              "          await google.colab.output.renderOutput(dataTable, element);\n",
              "          const docLink = document.createElement('div');\n",
              "          docLink.innerHTML = docLinkHtml;\n",
              "          element.appendChild(docLink);\n",
              "        }\n",
              "      </script>\n",
              "    </div>\n",
              "  </div>\n",
              "  "
            ]
          },
          "metadata": {},
          "execution_count": 6
        }
      ]
    },
    {
      "cell_type": "markdown",
      "source": [
        "# 데이터 분석\n",
        "* https://www.kaggle.com/datasets/kartik2112/fraud-detection/code?datasetId=817870&sortBy=voteCount"
      ],
      "metadata": {
        "id": "w5KOHooUSiAh"
      }
    },
    {
      "cell_type": "code",
      "source": [
        "df.columns"
      ],
      "metadata": {
        "colab": {
          "base_uri": "https://localhost:8080/"
        },
        "id": "OHkxNOizRW4D",
        "outputId": "14cab8fb-a83e-4648-e397-91f865b95ed9"
      },
      "execution_count": null,
      "outputs": [
        {
          "output_type": "execute_result",
          "data": {
            "text/plain": [
              "Index(['trans_date_trans_time', 'cc_num', 'merchant', 'category', 'amt',\n",
              "       'first', 'last', 'gender', 'street', 'city', 'state', 'zip', 'lat',\n",
              "       'long', 'city_pop', 'job', 'dob', 'trans_num', 'unix_time', 'merch_lat',\n",
              "       'merch_long', 'is_fraud'],\n",
              "      dtype='object')"
            ]
          },
          "metadata": {},
          "execution_count": 7
        }
      ]
    },
    {
      "cell_type": "markdown",
      "source": [
        "**Credit Card Transactions Fraud Detection Dataset**\n",
        "* 이상거래 (fraud) : 갑자기 해킹이나 전산 오류 등으로 인해 잘못된 금액이 결제\n",
        "* 전산 측에서 갑작스러운 오류/전산상의 실수 데이터등을 잡아내서 '이상거래'를 분류\n",
        "* 카드 결제 데이터 셋 -> ( ... ) => is_fraud (예측값, 종속변수)"
      ],
      "metadata": {
        "id": "F-UABD7mVTUK"
      }
    },
    {
      "cell_type": "markdown",
      "source": [
        "* trans_date_trans_time : 거래 시간 (날짜로 표시된 시간)\n",
        "* cc_num : 카드 번호. 고윳값이기 때문에 여기서는 id처럼 활용할 수 있음(Credit Card) -> 동명 이인더라도 카드번호는 다르겠죠?\n",
        "* merchant : 거래 상점\n",
        "* category : 거래 상점의 범주(애완용품, 여행, 엔터테인먼트 등)\n",
        "* amt: 거래금액 (amount)\n",
        "* first / last : 이름\n",
        "* gender : 성별\n",
        "* city / street / state / zip : 고객 거주지 정보\n",
        "* lat / long : 고객주소에 대한 위도 및 경도\n",
        "    * 위경도 -> 지구/지도를 기준으로 했을 때 좌표값\n",
        "* city_pop : 고객의 zipcode (우편번호) 속하는 인구 수\n",
        "* job : 직업\n",
        "* dob : 생년월일\n",
        "* trans_num : 거래번호\n",
        "* unix_time : 거래시간 (유닉스 타임스탬프 - 전산상으로 변환된 시간)\n",
        "* merch_lat / merch_long : 상점의 위경도\n",
        "---\n",
        "* is_fraud : 사기거래 여부 (이상거래 여부) -> 종속변수"
      ],
      "metadata": {
        "id": "y5iN5QRjRdMB"
      }
    },
    {
      "cell_type": "code",
      "source": [
        "# df.info() # not-null count가 안나오고 있음 (데이터가 많아서)\n",
        "# 데이터가 많아도 not-null count를 보여줌\n",
        "# 다행히 null (결측치) 없는 데이터\n",
        "\n",
        "df.info(show_counts=True)"
      ],
      "metadata": {
        "colab": {
          "base_uri": "https://localhost:8080/"
        },
        "id": "U5UBDNS1Rput",
        "outputId": "c6593a4f-186e-4793-e06d-3798205bc282"
      },
      "execution_count": null,
      "outputs": [
        {
          "output_type": "stream",
          "name": "stdout",
          "text": [
            "<class 'pandas.core.frame.DataFrame'>\n",
            "RangeIndex: 1852394 entries, 0 to 1852393\n",
            "Data columns (total 22 columns):\n",
            " #   Column                 Non-Null Count    Dtype  \n",
            "---  ------                 --------------    -----  \n",
            " 0   trans_date_trans_time  1852394 non-null  object \n",
            " 1   cc_num                 1852394 non-null  int64  \n",
            " 2   merchant               1852394 non-null  object \n",
            " 3   category               1852394 non-null  object \n",
            " 4   amt                    1852394 non-null  float64\n",
            " 5   first                  1852394 non-null  object \n",
            " 6   last                   1852394 non-null  object \n",
            " 7   gender                 1852394 non-null  object \n",
            " 8   street                 1852394 non-null  object \n",
            " 9   city                   1852394 non-null  object \n",
            " 10  state                  1852394 non-null  object \n",
            " 11  zip                    1852394 non-null  int64  \n",
            " 12  lat                    1852394 non-null  float64\n",
            " 13  long                   1852394 non-null  float64\n",
            " 14  city_pop               1852394 non-null  int64  \n",
            " 15  job                    1852394 non-null  object \n",
            " 16  dob                    1852394 non-null  object \n",
            " 17  trans_num              1852394 non-null  object \n",
            " 18  unix_time              1852394 non-null  int64  \n",
            " 19  merch_lat              1852394 non-null  float64\n",
            " 20  merch_long             1852394 non-null  float64\n",
            " 21  is_fraud               1852394 non-null  int64  \n",
            "dtypes: float64(5), int64(5), object(12)\n",
            "memory usage: 310.9+ MB\n"
          ]
        }
      ]
    },
    {
      "cell_type": "code",
      "source": [
        "pd.options.display.float_format = '{:.2f}'.format\n",
        "df.describe() # int, float 수치형 데이터 관련 통계 데이터 표시\n",
        "# amt: 거래금액 (amount)\n",
        "# city_pop : 고객의 zipcode 속하는 인구 수\n",
        "# -> 선형 모델 어려움, 거리 기반 어렵겠다...\n",
        "\n"
      ],
      "metadata": {
        "colab": {
          "base_uri": "https://localhost:8080/",
          "height": 300
        },
        "id": "5C-2-FJXR_SZ",
        "outputId": "46a43fef-96e8-4e33-eb63-4c3b7ab7ec5e"
      },
      "execution_count": null,
      "outputs": [
        {
          "output_type": "execute_result",
          "data": {
            "text/plain": [
              "                      cc_num        amt        zip        lat       long  \\\n",
              "count             1852394.00 1852394.00 1852394.00 1852394.00 1852394.00   \n",
              "mean   417386038393710400.00      70.06   48813.26      38.54     -90.23   \n",
              "std   1309115265318734848.00     159.25   26881.85       5.07      13.75   \n",
              "min           60416207185.00       1.00    1257.00      20.03    -165.67   \n",
              "25%       180042946491150.00       9.64   26237.00      34.67     -96.80   \n",
              "50%      3521417320836166.00      47.45   48174.00      39.35     -87.48   \n",
              "75%      4642255475285942.00      83.10   72042.00      41.94     -80.16   \n",
              "max   4992346398065154048.00   28948.90   99921.00      66.69     -67.95   \n",
              "\n",
              "        city_pop     unix_time  merch_lat  merch_long   is_fraud  \n",
              "count 1852394.00    1852394.00 1852394.00  1852394.00 1852394.00  \n",
              "mean    88643.67 1358674218.83      38.54      -90.23       0.01  \n",
              "std    301487.62   18195081.39       5.11       13.76       0.07  \n",
              "min        23.00 1325376018.00      19.03     -166.67       0.00  \n",
              "25%       741.00 1343016823.75      34.74      -96.90       0.00  \n",
              "50%      2443.00 1357089331.00      39.37      -87.44       0.00  \n",
              "75%     20328.00 1374581485.25      41.96      -80.25       0.00  \n",
              "max   2906700.00 1388534374.00      67.51      -66.95       1.00  "
            ],
            "text/html": [
              "\n",
              "  <div id=\"df-c4c2ae9a-37dc-42a2-95f5-16e1b1696bca\">\n",
              "    <div class=\"colab-df-container\">\n",
              "      <div>\n",
              "<style scoped>\n",
              "    .dataframe tbody tr th:only-of-type {\n",
              "        vertical-align: middle;\n",
              "    }\n",
              "\n",
              "    .dataframe tbody tr th {\n",
              "        vertical-align: top;\n",
              "    }\n",
              "\n",
              "    .dataframe thead th {\n",
              "        text-align: right;\n",
              "    }\n",
              "</style>\n",
              "<table border=\"1\" class=\"dataframe\">\n",
              "  <thead>\n",
              "    <tr style=\"text-align: right;\">\n",
              "      <th></th>\n",
              "      <th>cc_num</th>\n",
              "      <th>amt</th>\n",
              "      <th>zip</th>\n",
              "      <th>lat</th>\n",
              "      <th>long</th>\n",
              "      <th>city_pop</th>\n",
              "      <th>unix_time</th>\n",
              "      <th>merch_lat</th>\n",
              "      <th>merch_long</th>\n",
              "      <th>is_fraud</th>\n",
              "    </tr>\n",
              "  </thead>\n",
              "  <tbody>\n",
              "    <tr>\n",
              "      <th>count</th>\n",
              "      <td>1852394.00</td>\n",
              "      <td>1852394.00</td>\n",
              "      <td>1852394.00</td>\n",
              "      <td>1852394.00</td>\n",
              "      <td>1852394.00</td>\n",
              "      <td>1852394.00</td>\n",
              "      <td>1852394.00</td>\n",
              "      <td>1852394.00</td>\n",
              "      <td>1852394.00</td>\n",
              "      <td>1852394.00</td>\n",
              "    </tr>\n",
              "    <tr>\n",
              "      <th>mean</th>\n",
              "      <td>417386038393710400.00</td>\n",
              "      <td>70.06</td>\n",
              "      <td>48813.26</td>\n",
              "      <td>38.54</td>\n",
              "      <td>-90.23</td>\n",
              "      <td>88643.67</td>\n",
              "      <td>1358674218.83</td>\n",
              "      <td>38.54</td>\n",
              "      <td>-90.23</td>\n",
              "      <td>0.01</td>\n",
              "    </tr>\n",
              "    <tr>\n",
              "      <th>std</th>\n",
              "      <td>1309115265318734848.00</td>\n",
              "      <td>159.25</td>\n",
              "      <td>26881.85</td>\n",
              "      <td>5.07</td>\n",
              "      <td>13.75</td>\n",
              "      <td>301487.62</td>\n",
              "      <td>18195081.39</td>\n",
              "      <td>5.11</td>\n",
              "      <td>13.76</td>\n",
              "      <td>0.07</td>\n",
              "    </tr>\n",
              "    <tr>\n",
              "      <th>min</th>\n",
              "      <td>60416207185.00</td>\n",
              "      <td>1.00</td>\n",
              "      <td>1257.00</td>\n",
              "      <td>20.03</td>\n",
              "      <td>-165.67</td>\n",
              "      <td>23.00</td>\n",
              "      <td>1325376018.00</td>\n",
              "      <td>19.03</td>\n",
              "      <td>-166.67</td>\n",
              "      <td>0.00</td>\n",
              "    </tr>\n",
              "    <tr>\n",
              "      <th>25%</th>\n",
              "      <td>180042946491150.00</td>\n",
              "      <td>9.64</td>\n",
              "      <td>26237.00</td>\n",
              "      <td>34.67</td>\n",
              "      <td>-96.80</td>\n",
              "      <td>741.00</td>\n",
              "      <td>1343016823.75</td>\n",
              "      <td>34.74</td>\n",
              "      <td>-96.90</td>\n",
              "      <td>0.00</td>\n",
              "    </tr>\n",
              "    <tr>\n",
              "      <th>50%</th>\n",
              "      <td>3521417320836166.00</td>\n",
              "      <td>47.45</td>\n",
              "      <td>48174.00</td>\n",
              "      <td>39.35</td>\n",
              "      <td>-87.48</td>\n",
              "      <td>2443.00</td>\n",
              "      <td>1357089331.00</td>\n",
              "      <td>39.37</td>\n",
              "      <td>-87.44</td>\n",
              "      <td>0.00</td>\n",
              "    </tr>\n",
              "    <tr>\n",
              "      <th>75%</th>\n",
              "      <td>4642255475285942.00</td>\n",
              "      <td>83.10</td>\n",
              "      <td>72042.00</td>\n",
              "      <td>41.94</td>\n",
              "      <td>-80.16</td>\n",
              "      <td>20328.00</td>\n",
              "      <td>1374581485.25</td>\n",
              "      <td>41.96</td>\n",
              "      <td>-80.25</td>\n",
              "      <td>0.00</td>\n",
              "    </tr>\n",
              "    <tr>\n",
              "      <th>max</th>\n",
              "      <td>4992346398065154048.00</td>\n",
              "      <td>28948.90</td>\n",
              "      <td>99921.00</td>\n",
              "      <td>66.69</td>\n",
              "      <td>-67.95</td>\n",
              "      <td>2906700.00</td>\n",
              "      <td>1388534374.00</td>\n",
              "      <td>67.51</td>\n",
              "      <td>-66.95</td>\n",
              "      <td>1.00</td>\n",
              "    </tr>\n",
              "  </tbody>\n",
              "</table>\n",
              "</div>\n",
              "      <button class=\"colab-df-convert\" onclick=\"convertToInteractive('df-c4c2ae9a-37dc-42a2-95f5-16e1b1696bca')\"\n",
              "              title=\"Convert this dataframe to an interactive table.\"\n",
              "              style=\"display:none;\">\n",
              "        \n",
              "  <svg xmlns=\"http://www.w3.org/2000/svg\" height=\"24px\"viewBox=\"0 0 24 24\"\n",
              "       width=\"24px\">\n",
              "    <path d=\"M0 0h24v24H0V0z\" fill=\"none\"/>\n",
              "    <path d=\"M18.56 5.44l.94 2.06.94-2.06 2.06-.94-2.06-.94-.94-2.06-.94 2.06-2.06.94zm-11 1L8.5 8.5l.94-2.06 2.06-.94-2.06-.94L8.5 2.5l-.94 2.06-2.06.94zm10 10l.94 2.06.94-2.06 2.06-.94-2.06-.94-.94-2.06-.94 2.06-2.06.94z\"/><path d=\"M17.41 7.96l-1.37-1.37c-.4-.4-.92-.59-1.43-.59-.52 0-1.04.2-1.43.59L10.3 9.45l-7.72 7.72c-.78.78-.78 2.05 0 2.83L4 21.41c.39.39.9.59 1.41.59.51 0 1.02-.2 1.41-.59l7.78-7.78 2.81-2.81c.8-.78.8-2.07 0-2.86zM5.41 20L4 18.59l7.72-7.72 1.47 1.35L5.41 20z\"/>\n",
              "  </svg>\n",
              "      </button>\n",
              "      \n",
              "  <style>\n",
              "    .colab-df-container {\n",
              "      display:flex;\n",
              "      flex-wrap:wrap;\n",
              "      gap: 12px;\n",
              "    }\n",
              "\n",
              "    .colab-df-convert {\n",
              "      background-color: #E8F0FE;\n",
              "      border: none;\n",
              "      border-radius: 50%;\n",
              "      cursor: pointer;\n",
              "      display: none;\n",
              "      fill: #1967D2;\n",
              "      height: 32px;\n",
              "      padding: 0 0 0 0;\n",
              "      width: 32px;\n",
              "    }\n",
              "\n",
              "    .colab-df-convert:hover {\n",
              "      background-color: #E2EBFA;\n",
              "      box-shadow: 0px 1px 2px rgba(60, 64, 67, 0.3), 0px 1px 3px 1px rgba(60, 64, 67, 0.15);\n",
              "      fill: #174EA6;\n",
              "    }\n",
              "\n",
              "    [theme=dark] .colab-df-convert {\n",
              "      background-color: #3B4455;\n",
              "      fill: #D2E3FC;\n",
              "    }\n",
              "\n",
              "    [theme=dark] .colab-df-convert:hover {\n",
              "      background-color: #434B5C;\n",
              "      box-shadow: 0px 1px 3px 1px rgba(0, 0, 0, 0.15);\n",
              "      filter: drop-shadow(0px 1px 2px rgba(0, 0, 0, 0.3));\n",
              "      fill: #FFFFFF;\n",
              "    }\n",
              "  </style>\n",
              "\n",
              "      <script>\n",
              "        const buttonEl =\n",
              "          document.querySelector('#df-c4c2ae9a-37dc-42a2-95f5-16e1b1696bca button.colab-df-convert');\n",
              "        buttonEl.style.display =\n",
              "          google.colab.kernel.accessAllowed ? 'block' : 'none';\n",
              "\n",
              "        async function convertToInteractive(key) {\n",
              "          const element = document.querySelector('#df-c4c2ae9a-37dc-42a2-95f5-16e1b1696bca');\n",
              "          const dataTable =\n",
              "            await google.colab.kernel.invokeFunction('convertToInteractive',\n",
              "                                                     [key], {});\n",
              "          if (!dataTable) return;\n",
              "\n",
              "          const docLinkHtml = 'Like what you see? Visit the ' +\n",
              "            '<a target=\"_blank\" href=https://colab.research.google.com/notebooks/data_table.ipynb>data table notebook</a>'\n",
              "            + ' to learn more about interactive tables.';\n",
              "          element.innerHTML = '';\n",
              "          dataTable['output_type'] = 'display_data';\n",
              "          await google.colab.output.renderOutput(dataTable, element);\n",
              "          const docLink = document.createElement('div');\n",
              "          docLink.innerHTML = docLinkHtml;\n",
              "          element.appendChild(docLink);\n",
              "        }\n",
              "      </script>\n",
              "    </div>\n",
              "  </div>\n",
              "  "
            ]
          },
          "metadata": {},
          "execution_count": 26
        }
      ]
    },
    {
      "cell_type": "code",
      "source": [
        "df.describe(include='O')"
      ],
      "metadata": {
        "colab": {
          "base_uri": "https://localhost:8080/",
          "height": 274
        },
        "id": "sF3XVod4SfKm",
        "outputId": "b4da5d3c-0be2-4336-912b-525c4b9565b7"
      },
      "execution_count": null,
      "outputs": [
        {
          "output_type": "execute_result",
          "data": {
            "text/plain": [
              "       trans_date_trans_time           merchant       category        first  \\\n",
              "count                1852394            1852394        1852394      1852394   \n",
              "unique               1819551                693             14          355   \n",
              "top      2019-04-22 16:02:01  fraud_Kilback LLC  gas_transport  Christopher   \n",
              "freq                       4               6262         188029        38112   \n",
              "\n",
              "           last   gender           street        city    state  \\\n",
              "count   1852394  1852394          1852394     1852394  1852394   \n",
              "unique      486        2              999         906       51   \n",
              "top       Smith        F  444 Robert Mews  Birmingham       TX   \n",
              "freq      40940  1014749             4392        8040   135269   \n",
              "\n",
              "                      job         dob                         trans_num  \n",
              "count             1852394     1852394                           1852394  \n",
              "unique                497         984                           1852394  \n",
              "top     Film/video editor  1977-03-23  0b242abb623afc578575680df30655b9  \n",
              "freq                13898        8044                                 1  "
            ],
            "text/html": [
              "\n",
              "  <div id=\"df-4ee67bbf-064e-4947-96b9-01146b175e0b\">\n",
              "    <div class=\"colab-df-container\">\n",
              "      <div>\n",
              "<style scoped>\n",
              "    .dataframe tbody tr th:only-of-type {\n",
              "        vertical-align: middle;\n",
              "    }\n",
              "\n",
              "    .dataframe tbody tr th {\n",
              "        vertical-align: top;\n",
              "    }\n",
              "\n",
              "    .dataframe thead th {\n",
              "        text-align: right;\n",
              "    }\n",
              "</style>\n",
              "<table border=\"1\" class=\"dataframe\">\n",
              "  <thead>\n",
              "    <tr style=\"text-align: right;\">\n",
              "      <th></th>\n",
              "      <th>trans_date_trans_time</th>\n",
              "      <th>merchant</th>\n",
              "      <th>category</th>\n",
              "      <th>first</th>\n",
              "      <th>last</th>\n",
              "      <th>gender</th>\n",
              "      <th>street</th>\n",
              "      <th>city</th>\n",
              "      <th>state</th>\n",
              "      <th>job</th>\n",
              "      <th>dob</th>\n",
              "      <th>trans_num</th>\n",
              "    </tr>\n",
              "  </thead>\n",
              "  <tbody>\n",
              "    <tr>\n",
              "      <th>count</th>\n",
              "      <td>1852394</td>\n",
              "      <td>1852394</td>\n",
              "      <td>1852394</td>\n",
              "      <td>1852394</td>\n",
              "      <td>1852394</td>\n",
              "      <td>1852394</td>\n",
              "      <td>1852394</td>\n",
              "      <td>1852394</td>\n",
              "      <td>1852394</td>\n",
              "      <td>1852394</td>\n",
              "      <td>1852394</td>\n",
              "      <td>1852394</td>\n",
              "    </tr>\n",
              "    <tr>\n",
              "      <th>unique</th>\n",
              "      <td>1819551</td>\n",
              "      <td>693</td>\n",
              "      <td>14</td>\n",
              "      <td>355</td>\n",
              "      <td>486</td>\n",
              "      <td>2</td>\n",
              "      <td>999</td>\n",
              "      <td>906</td>\n",
              "      <td>51</td>\n",
              "      <td>497</td>\n",
              "      <td>984</td>\n",
              "      <td>1852394</td>\n",
              "    </tr>\n",
              "    <tr>\n",
              "      <th>top</th>\n",
              "      <td>2019-04-22 16:02:01</td>\n",
              "      <td>fraud_Kilback LLC</td>\n",
              "      <td>gas_transport</td>\n",
              "      <td>Christopher</td>\n",
              "      <td>Smith</td>\n",
              "      <td>F</td>\n",
              "      <td>444 Robert Mews</td>\n",
              "      <td>Birmingham</td>\n",
              "      <td>TX</td>\n",
              "      <td>Film/video editor</td>\n",
              "      <td>1977-03-23</td>\n",
              "      <td>0b242abb623afc578575680df30655b9</td>\n",
              "    </tr>\n",
              "    <tr>\n",
              "      <th>freq</th>\n",
              "      <td>4</td>\n",
              "      <td>6262</td>\n",
              "      <td>188029</td>\n",
              "      <td>38112</td>\n",
              "      <td>40940</td>\n",
              "      <td>1014749</td>\n",
              "      <td>4392</td>\n",
              "      <td>8040</td>\n",
              "      <td>135269</td>\n",
              "      <td>13898</td>\n",
              "      <td>8044</td>\n",
              "      <td>1</td>\n",
              "    </tr>\n",
              "  </tbody>\n",
              "</table>\n",
              "</div>\n",
              "      <button class=\"colab-df-convert\" onclick=\"convertToInteractive('df-4ee67bbf-064e-4947-96b9-01146b175e0b')\"\n",
              "              title=\"Convert this dataframe to an interactive table.\"\n",
              "              style=\"display:none;\">\n",
              "        \n",
              "  <svg xmlns=\"http://www.w3.org/2000/svg\" height=\"24px\"viewBox=\"0 0 24 24\"\n",
              "       width=\"24px\">\n",
              "    <path d=\"M0 0h24v24H0V0z\" fill=\"none\"/>\n",
              "    <path d=\"M18.56 5.44l.94 2.06.94-2.06 2.06-.94-2.06-.94-.94-2.06-.94 2.06-2.06.94zm-11 1L8.5 8.5l.94-2.06 2.06-.94-2.06-.94L8.5 2.5l-.94 2.06-2.06.94zm10 10l.94 2.06.94-2.06 2.06-.94-2.06-.94-.94-2.06-.94 2.06-2.06.94z\"/><path d=\"M17.41 7.96l-1.37-1.37c-.4-.4-.92-.59-1.43-.59-.52 0-1.04.2-1.43.59L10.3 9.45l-7.72 7.72c-.78.78-.78 2.05 0 2.83L4 21.41c.39.39.9.59 1.41.59.51 0 1.02-.2 1.41-.59l7.78-7.78 2.81-2.81c.8-.78.8-2.07 0-2.86zM5.41 20L4 18.59l7.72-7.72 1.47 1.35L5.41 20z\"/>\n",
              "  </svg>\n",
              "      </button>\n",
              "      \n",
              "  <style>\n",
              "    .colab-df-container {\n",
              "      display:flex;\n",
              "      flex-wrap:wrap;\n",
              "      gap: 12px;\n",
              "    }\n",
              "\n",
              "    .colab-df-convert {\n",
              "      background-color: #E8F0FE;\n",
              "      border: none;\n",
              "      border-radius: 50%;\n",
              "      cursor: pointer;\n",
              "      display: none;\n",
              "      fill: #1967D2;\n",
              "      height: 32px;\n",
              "      padding: 0 0 0 0;\n",
              "      width: 32px;\n",
              "    }\n",
              "\n",
              "    .colab-df-convert:hover {\n",
              "      background-color: #E2EBFA;\n",
              "      box-shadow: 0px 1px 2px rgba(60, 64, 67, 0.3), 0px 1px 3px 1px rgba(60, 64, 67, 0.15);\n",
              "      fill: #174EA6;\n",
              "    }\n",
              "\n",
              "    [theme=dark] .colab-df-convert {\n",
              "      background-color: #3B4455;\n",
              "      fill: #D2E3FC;\n",
              "    }\n",
              "\n",
              "    [theme=dark] .colab-df-convert:hover {\n",
              "      background-color: #434B5C;\n",
              "      box-shadow: 0px 1px 3px 1px rgba(0, 0, 0, 0.15);\n",
              "      filter: drop-shadow(0px 1px 2px rgba(0, 0, 0, 0.3));\n",
              "      fill: #FFFFFF;\n",
              "    }\n",
              "  </style>\n",
              "\n",
              "      <script>\n",
              "        const buttonEl =\n",
              "          document.querySelector('#df-4ee67bbf-064e-4947-96b9-01146b175e0b button.colab-df-convert');\n",
              "        buttonEl.style.display =\n",
              "          google.colab.kernel.accessAllowed ? 'block' : 'none';\n",
              "\n",
              "        async function convertToInteractive(key) {\n",
              "          const element = document.querySelector('#df-4ee67bbf-064e-4947-96b9-01146b175e0b');\n",
              "          const dataTable =\n",
              "            await google.colab.kernel.invokeFunction('convertToInteractive',\n",
              "                                                     [key], {});\n",
              "          if (!dataTable) return;\n",
              "\n",
              "          const docLinkHtml = 'Like what you see? Visit the ' +\n",
              "            '<a target=\"_blank\" href=https://colab.research.google.com/notebooks/data_table.ipynb>data table notebook</a>'\n",
              "            + ' to learn more about interactive tables.';\n",
              "          element.innerHTML = '';\n",
              "          dataTable['output_type'] = 'display_data';\n",
              "          await google.colab.output.renderOutput(dataTable, element);\n",
              "          const docLink = document.createElement('div');\n",
              "          docLink.innerHTML = docLinkHtml;\n",
              "          element.appendChild(docLink);\n",
              "        }\n",
              "      </script>\n",
              "    </div>\n",
              "  </div>\n",
              "  "
            ]
          },
          "metadata": {},
          "execution_count": 32
        }
      ]
    },
    {
      "cell_type": "markdown",
      "source": [
        "* trans_date_trans_time : 거래 시간\n",
        "* merchant : 거래 상점\n",
        "* category : 거래 상점의 범주(애완용품, 여행, 엔터테인먼트 등)\n",
        "* first / last : 이름\n",
        "* gender : 성별 (F/M)\n",
        "* city / street / state / zip : 고객 거주지 정보\n",
        "* job : 직업\n",
        "* dob : 생년월일\n",
        "* trans_num : 거래번호"
      ],
      "metadata": {
        "id": "sbgdrxFbSpYb"
      }
    },
    {
      "cell_type": "markdown",
      "source": [
        "# 전처리"
      ],
      "metadata": {
        "id": "04H3GtbVTGVG"
      }
    },
    {
      "cell_type": "code",
      "source": [
        "# 사용되지 않는 변수 제거\n",
        "# df.drop(..., axis=1) -> 원본 안 바꿔주는 것\n",
        "\n",
        "# 1. df = df.drop(..., axis=1)\n",
        "# inplace=True -> 모든 df에 있는 메소드에서 존재하지 X\n",
        "# 깊은 복사, 얕은 복사 문제 때문에 가능하면 새로운 사본을 만들어서 처리 (immutable)\n",
        "\n",
        "# 2. df.drop(..., axis=1, inplace=True)\n",
        "# pd -> 판다스 자체에서 불러오는 것이기 때문에 inplace X\n",
        "df.drop([\n",
        "  'first','last',                 # cc_num - credit card number 특정\n",
        "  'street','city','state','zip',  #주소는 위도/경도로 대체가능\n",
        "  'trans_num','unix_time',          #거래가 일어난 시간 + cc_num으로 특정 가능함\n",
        "], axis=1, inplace=True)\n",
        "# 이름 -> 이름 조합을 만들어서 full name / cc_num 고객은 특정 가능\n",
        "# 주소 -> 위도경도(lat, long)\n",
        "# 거래번호 / 유닉스타임 (중복) -> trans_date_trans_time\n",
        "# 직업, 가게명"
      ],
      "metadata": {
        "id": "CaHc4vnDUR6r"
      },
      "execution_count": null,
      "outputs": []
    },
    {
      "cell_type": "code",
      "source": [
        "df.columns"
      ],
      "metadata": {
        "colab": {
          "base_uri": "https://localhost:8080/"
        },
        "id": "mr-XpFhjWO4S",
        "outputId": "5b2faebe-79cd-405b-f85f-c37af6d76032"
      },
      "execution_count": null,
      "outputs": [
        {
          "output_type": "execute_result",
          "data": {
            "text/plain": [
              "Index(['trans_date_trans_time', 'cc_num', 'merchant', 'category', 'amt',\n",
              "       'first', 'last', 'gender', 'street', 'city', 'state', 'zip', 'lat',\n",
              "       'long', 'city_pop', 'job', 'dob', 'trans_num', 'unix_time', 'merch_lat',\n",
              "       'merch_long', 'is_fraud'],\n",
              "      dtype='object')"
            ]
          },
          "metadata": {},
          "execution_count": 34
        }
      ]
    },
    {
      "cell_type": "markdown",
      "source": [
        "## trans_date_trans_time"
      ],
      "metadata": {
        "id": "gXTAy3m0ZUpD"
      }
    },
    {
      "cell_type": "code",
      "source": [
        "# trans_date_trans_time  object => datetime 타입으로 바꿔줘야함\n",
        "df.info()"
      ],
      "metadata": {
        "colab": {
          "base_uri": "https://localhost:8080/"
        },
        "id": "nNcsK96FZX78",
        "outputId": "f681ebf8-b88e-46aa-9fbe-0f7ce2cd8232"
      },
      "execution_count": null,
      "outputs": [
        {
          "output_type": "stream",
          "name": "stdout",
          "text": [
            "<class 'pandas.core.frame.DataFrame'>\n",
            "RangeIndex: 1852394 entries, 0 to 1852393\n",
            "Data columns (total 22 columns):\n",
            " #   Column                 Dtype  \n",
            "---  ------                 -----  \n",
            " 0   trans_date_trans_time  object \n",
            " 1   cc_num                 int64  \n",
            " 2   merchant               object \n",
            " 3   category               object \n",
            " 4   amt                    float64\n",
            " 5   first                  object \n",
            " 6   last                   object \n",
            " 7   gender                 object \n",
            " 8   street                 object \n",
            " 9   city                   object \n",
            " 10  state                  object \n",
            " 11  zip                    int64  \n",
            " 12  lat                    float64\n",
            " 13  long                   float64\n",
            " 14  city_pop               int64  \n",
            " 15  job                    object \n",
            " 16  dob                    object \n",
            " 17  trans_num              object \n",
            " 18  unix_time              int64  \n",
            " 19  merch_lat              float64\n",
            " 20  merch_long             float64\n",
            " 21  is_fraud               int64  \n",
            "dtypes: float64(5), int64(5), object(12)\n",
            "memory usage: 310.9+ MB\n"
          ]
        }
      ]
    },
    {
      "cell_type": "code",
      "source": [
        "# pd.to_datetime -> 문자열 형태의 날짜데이터를, dt으로 포맷을 바꿔줌\n",
        "# https://dataindependent.com/pandas/pandas-to-datetime-string-to-date-pd-to_datetime/\n",
        "\n",
        "df.trans_date_trans_time=pd.to_datetime(df.trans_date_trans_time)\n",
        "df.info()"
      ],
      "metadata": {
        "id": "tDcrYyFWZgSh"
      },
      "execution_count": null,
      "outputs": []
    },
    {
      "cell_type": "markdown",
      "source": [
        "## 피쳐 엔지니어링\n",
        "* 이상거래 : 원래 고객의 거래패턴에서 벗어나는 거래"
      ],
      "metadata": {
        "id": "hwd0pF1CaT_W"
      }
    },
    {
      "cell_type": "markdown",
      "source": [
        "### 결제 금액\n",
        "* 평균에서 벗어난다 -> 정규분포(z 점수)에서 얼마나 멀리 벗어나 있는지\n",
        "* 서로 다른 개인 -> 특정 -> cc_num : 카드번호별로 묶어서 -> 결제 금액 평균\n",
        "* 혹시나 너무 갑자기 큰 금액을 썼다면? => 이상거래"
      ],
      "metadata": {
        "id": "J1-ngjS6aeJh"
      }
    },
    {
      "cell_type": "code",
      "source": [
        "# (groupby로 묶어준 그룹/속성).agg : 특정한 그룹별로 통계값, 대표값 추출\n",
        "# mean -> 통계값 / std -> 표준편차 : Z점수 (x - 평균) / 표준편차 => 평균으로부터 얼마나 떨어져 있는지 표준화한 값\n",
        "df.groupby('cc_num').amt.agg(['mean','std'])\n",
        "# df.groupby('cc_num').amt.std()\n",
        "\n",
        "amt_info = df.groupby('cc_num').amt.agg(['mean','std'])\n",
        "# index(행 인덱스 이름)로 각 cc_num -> reset index?\n",
        "\n",
        "amt_info.head()\n",
        "# 카드번호별로 평균 소비액(mean), 표준편차(std)"
      ],
      "metadata": {
        "colab": {
          "base_uri": "https://localhost:8080/",
          "height": 238
        },
        "id": "HYzLQTuZa12W",
        "outputId": "8a6ade79-5364-4238-b022-8a83e89f61b5"
      },
      "execution_count": null,
      "outputs": [
        {
          "output_type": "execute_result",
          "data": {
            "text/plain": [
              "                   mean          std\n",
              "cc_num                              \n",
              "60416207185   59.257796   142.869746\n",
              "60422928733   65.483159    92.042844\n",
              "60423098130   96.376084  1000.693872\n",
              "60427851591  107.487550   131.014534\n",
              "60487002085   64.096925   153.207660"
            ],
            "text/html": [
              "\n",
              "  <div id=\"df-253a3c61-d91a-4d07-b467-35265705a0a5\">\n",
              "    <div class=\"colab-df-container\">\n",
              "      <div>\n",
              "<style scoped>\n",
              "    .dataframe tbody tr th:only-of-type {\n",
              "        vertical-align: middle;\n",
              "    }\n",
              "\n",
              "    .dataframe tbody tr th {\n",
              "        vertical-align: top;\n",
              "    }\n",
              "\n",
              "    .dataframe thead th {\n",
              "        text-align: right;\n",
              "    }\n",
              "</style>\n",
              "<table border=\"1\" class=\"dataframe\">\n",
              "  <thead>\n",
              "    <tr style=\"text-align: right;\">\n",
              "      <th></th>\n",
              "      <th>mean</th>\n",
              "      <th>std</th>\n",
              "    </tr>\n",
              "    <tr>\n",
              "      <th>cc_num</th>\n",
              "      <th></th>\n",
              "      <th></th>\n",
              "    </tr>\n",
              "  </thead>\n",
              "  <tbody>\n",
              "    <tr>\n",
              "      <th>60416207185</th>\n",
              "      <td>59.257796</td>\n",
              "      <td>142.869746</td>\n",
              "    </tr>\n",
              "    <tr>\n",
              "      <th>60422928733</th>\n",
              "      <td>65.483159</td>\n",
              "      <td>92.042844</td>\n",
              "    </tr>\n",
              "    <tr>\n",
              "      <th>60423098130</th>\n",
              "      <td>96.376084</td>\n",
              "      <td>1000.693872</td>\n",
              "    </tr>\n",
              "    <tr>\n",
              "      <th>60427851591</th>\n",
              "      <td>107.487550</td>\n",
              "      <td>131.014534</td>\n",
              "    </tr>\n",
              "    <tr>\n",
              "      <th>60487002085</th>\n",
              "      <td>64.096925</td>\n",
              "      <td>153.207660</td>\n",
              "    </tr>\n",
              "  </tbody>\n",
              "</table>\n",
              "</div>\n",
              "      <button class=\"colab-df-convert\" onclick=\"convertToInteractive('df-253a3c61-d91a-4d07-b467-35265705a0a5')\"\n",
              "              title=\"Convert this dataframe to an interactive table.\"\n",
              "              style=\"display:none;\">\n",
              "        \n",
              "  <svg xmlns=\"http://www.w3.org/2000/svg\" height=\"24px\"viewBox=\"0 0 24 24\"\n",
              "       width=\"24px\">\n",
              "    <path d=\"M0 0h24v24H0V0z\" fill=\"none\"/>\n",
              "    <path d=\"M18.56 5.44l.94 2.06.94-2.06 2.06-.94-2.06-.94-.94-2.06-.94 2.06-2.06.94zm-11 1L8.5 8.5l.94-2.06 2.06-.94-2.06-.94L8.5 2.5l-.94 2.06-2.06.94zm10 10l.94 2.06.94-2.06 2.06-.94-2.06-.94-.94-2.06-.94 2.06-2.06.94z\"/><path d=\"M17.41 7.96l-1.37-1.37c-.4-.4-.92-.59-1.43-.59-.52 0-1.04.2-1.43.59L10.3 9.45l-7.72 7.72c-.78.78-.78 2.05 0 2.83L4 21.41c.39.39.9.59 1.41.59.51 0 1.02-.2 1.41-.59l7.78-7.78 2.81-2.81c.8-.78.8-2.07 0-2.86zM5.41 20L4 18.59l7.72-7.72 1.47 1.35L5.41 20z\"/>\n",
              "  </svg>\n",
              "      </button>\n",
              "      \n",
              "  <style>\n",
              "    .colab-df-container {\n",
              "      display:flex;\n",
              "      flex-wrap:wrap;\n",
              "      gap: 12px;\n",
              "    }\n",
              "\n",
              "    .colab-df-convert {\n",
              "      background-color: #E8F0FE;\n",
              "      border: none;\n",
              "      border-radius: 50%;\n",
              "      cursor: pointer;\n",
              "      display: none;\n",
              "      fill: #1967D2;\n",
              "      height: 32px;\n",
              "      padding: 0 0 0 0;\n",
              "      width: 32px;\n",
              "    }\n",
              "\n",
              "    .colab-df-convert:hover {\n",
              "      background-color: #E2EBFA;\n",
              "      box-shadow: 0px 1px 2px rgba(60, 64, 67, 0.3), 0px 1px 3px 1px rgba(60, 64, 67, 0.15);\n",
              "      fill: #174EA6;\n",
              "    }\n",
              "\n",
              "    [theme=dark] .colab-df-convert {\n",
              "      background-color: #3B4455;\n",
              "      fill: #D2E3FC;\n",
              "    }\n",
              "\n",
              "    [theme=dark] .colab-df-convert:hover {\n",
              "      background-color: #434B5C;\n",
              "      box-shadow: 0px 1px 3px 1px rgba(0, 0, 0, 0.15);\n",
              "      filter: drop-shadow(0px 1px 2px rgba(0, 0, 0, 0.3));\n",
              "      fill: #FFFFFF;\n",
              "    }\n",
              "  </style>\n",
              "\n",
              "      <script>\n",
              "        const buttonEl =\n",
              "          document.querySelector('#df-253a3c61-d91a-4d07-b467-35265705a0a5 button.colab-df-convert');\n",
              "        buttonEl.style.display =\n",
              "          google.colab.kernel.accessAllowed ? 'block' : 'none';\n",
              "\n",
              "        async function convertToInteractive(key) {\n",
              "          const element = document.querySelector('#df-253a3c61-d91a-4d07-b467-35265705a0a5');\n",
              "          const dataTable =\n",
              "            await google.colab.kernel.invokeFunction('convertToInteractive',\n",
              "                                                     [key], {});\n",
              "          if (!dataTable) return;\n",
              "\n",
              "          const docLinkHtml = 'Like what you see? Visit the ' +\n",
              "            '<a target=\"_blank\" href=https://colab.research.google.com/notebooks/data_table.ipynb>data table notebook</a>'\n",
              "            + ' to learn more about interactive tables.';\n",
              "          element.innerHTML = '';\n",
              "          dataTable['output_type'] = 'display_data';\n",
              "          await google.colab.output.renderOutput(dataTable, element);\n",
              "          const docLink = document.createElement('div');\n",
              "          docLink.innerHTML = docLinkHtml;\n",
              "          element.appendChild(docLink);\n",
              "        }\n",
              "      </script>\n",
              "    </div>\n",
              "  </div>\n",
              "  "
            ]
          },
          "metadata": {},
          "execution_count": 39
        }
      ]
    },
    {
      "cell_type": "code",
      "source": [
        "# 두 개의 데이터프레임을 열 방향으로 합쳐줄 때 -> merge\n",
        "# A.merge(B) -> A가 왼쪽, B가 오른쪽해서 두 df을 합쳐줌\n",
        "# 같은 CC_NUM을 가진 거래 기록과, CC_NUM별 소비기록 평균 및 표준편차를 매칭\n",
        "# 거래 기록 수 > CC_NUM보다 많음 => 같은 CC_NUM을 가졌을 경우 같은 평균, 표준편차를 공유\n",
        "\n",
        "df=df.merge(amt_info, left_on = 'cc_num', right_index=True)"
      ],
      "metadata": {
        "id": "GtaBe_W1c9QB"
      },
      "execution_count": null,
      "outputs": []
    },
    {
      "cell_type": "code",
      "source": [
        "df.columns"
      ],
      "metadata": {
        "colab": {
          "base_uri": "https://localhost:8080/"
        },
        "id": "M6QVS1MbdXDP",
        "outputId": "d7148961-4ff9-46e5-f6b2-eacdb6835f41"
      },
      "execution_count": null,
      "outputs": [
        {
          "output_type": "execute_result",
          "data": {
            "text/plain": [
              "Index(['trans_date_trans_time', 'cc_num', 'merchant', 'category', 'amt',\n",
              "       'first', 'last', 'gender', 'street', 'city', 'state', 'zip', 'lat',\n",
              "       'long', 'city_pop', 'job', 'dob', 'trans_num', 'unix_time', 'merch_lat',\n",
              "       'merch_long', 'is_fraud', 'mean', 'std'],\n",
              "      dtype='object')"
            ]
          },
          "metadata": {},
          "execution_count": 41
        }
      ]
    },
    {
      "cell_type": "code",
      "source": [
        "# amt (각 거래 기록별 소비금액)\n",
        "# mean (cc_num별 평균 소비금액)\n",
        "# std (cc_num별 소비금액의 표준편차)\n",
        "# https://losskatsu.github.io/statistics/mean-vairance/\n",
        "# z점수 : 특정한 값이 평균 기준으로 얼마나 멀리 떨어져있는지\n",
        "\n",
        "df[['cc_num','amt','mean','std']].head()"
      ],
      "metadata": {
        "colab": {
          "base_uri": "https://localhost:8080/",
          "height": 206
        },
        "id": "3W90noACeHRM",
        "outputId": "7a85f031-fe1c-4213-97dd-a95c520643b9"
      },
      "execution_count": null,
      "outputs": [
        {
          "output_type": "execute_result",
          "data": {
            "text/plain": [
              "                cc_num     amt       mean         std\n",
              "0     2703186189652095    4.97  89.408743  127.530101\n",
              "1565  2703186189652095  114.79  89.408743  127.530101\n",
              "2299  2703186189652095   16.55  89.408743  127.530101\n",
              "3606  2703186189652095   27.70  89.408743  127.530101\n",
              "4227  2703186189652095   43.72  89.408743  127.530101"
            ],
            "text/html": [
              "\n",
              "  <div id=\"df-12d4b5b3-63c9-42ea-8acf-b0c4cf0c575b\">\n",
              "    <div class=\"colab-df-container\">\n",
              "      <div>\n",
              "<style scoped>\n",
              "    .dataframe tbody tr th:only-of-type {\n",
              "        vertical-align: middle;\n",
              "    }\n",
              "\n",
              "    .dataframe tbody tr th {\n",
              "        vertical-align: top;\n",
              "    }\n",
              "\n",
              "    .dataframe thead th {\n",
              "        text-align: right;\n",
              "    }\n",
              "</style>\n",
              "<table border=\"1\" class=\"dataframe\">\n",
              "  <thead>\n",
              "    <tr style=\"text-align: right;\">\n",
              "      <th></th>\n",
              "      <th>cc_num</th>\n",
              "      <th>amt</th>\n",
              "      <th>mean</th>\n",
              "      <th>std</th>\n",
              "    </tr>\n",
              "  </thead>\n",
              "  <tbody>\n",
              "    <tr>\n",
              "      <th>0</th>\n",
              "      <td>2703186189652095</td>\n",
              "      <td>4.97</td>\n",
              "      <td>89.408743</td>\n",
              "      <td>127.530101</td>\n",
              "    </tr>\n",
              "    <tr>\n",
              "      <th>1565</th>\n",
              "      <td>2703186189652095</td>\n",
              "      <td>114.79</td>\n",
              "      <td>89.408743</td>\n",
              "      <td>127.530101</td>\n",
              "    </tr>\n",
              "    <tr>\n",
              "      <th>2299</th>\n",
              "      <td>2703186189652095</td>\n",
              "      <td>16.55</td>\n",
              "      <td>89.408743</td>\n",
              "      <td>127.530101</td>\n",
              "    </tr>\n",
              "    <tr>\n",
              "      <th>3606</th>\n",
              "      <td>2703186189652095</td>\n",
              "      <td>27.70</td>\n",
              "      <td>89.408743</td>\n",
              "      <td>127.530101</td>\n",
              "    </tr>\n",
              "    <tr>\n",
              "      <th>4227</th>\n",
              "      <td>2703186189652095</td>\n",
              "      <td>43.72</td>\n",
              "      <td>89.408743</td>\n",
              "      <td>127.530101</td>\n",
              "    </tr>\n",
              "  </tbody>\n",
              "</table>\n",
              "</div>\n",
              "      <button class=\"colab-df-convert\" onclick=\"convertToInteractive('df-12d4b5b3-63c9-42ea-8acf-b0c4cf0c575b')\"\n",
              "              title=\"Convert this dataframe to an interactive table.\"\n",
              "              style=\"display:none;\">\n",
              "        \n",
              "  <svg xmlns=\"http://www.w3.org/2000/svg\" height=\"24px\"viewBox=\"0 0 24 24\"\n",
              "       width=\"24px\">\n",
              "    <path d=\"M0 0h24v24H0V0z\" fill=\"none\"/>\n",
              "    <path d=\"M18.56 5.44l.94 2.06.94-2.06 2.06-.94-2.06-.94-.94-2.06-.94 2.06-2.06.94zm-11 1L8.5 8.5l.94-2.06 2.06-.94-2.06-.94L8.5 2.5l-.94 2.06-2.06.94zm10 10l.94 2.06.94-2.06 2.06-.94-2.06-.94-.94-2.06-.94 2.06-2.06.94z\"/><path d=\"M17.41 7.96l-1.37-1.37c-.4-.4-.92-.59-1.43-.59-.52 0-1.04.2-1.43.59L10.3 9.45l-7.72 7.72c-.78.78-.78 2.05 0 2.83L4 21.41c.39.39.9.59 1.41.59.51 0 1.02-.2 1.41-.59l7.78-7.78 2.81-2.81c.8-.78.8-2.07 0-2.86zM5.41 20L4 18.59l7.72-7.72 1.47 1.35L5.41 20z\"/>\n",
              "  </svg>\n",
              "      </button>\n",
              "      \n",
              "  <style>\n",
              "    .colab-df-container {\n",
              "      display:flex;\n",
              "      flex-wrap:wrap;\n",
              "      gap: 12px;\n",
              "    }\n",
              "\n",
              "    .colab-df-convert {\n",
              "      background-color: #E8F0FE;\n",
              "      border: none;\n",
              "      border-radius: 50%;\n",
              "      cursor: pointer;\n",
              "      display: none;\n",
              "      fill: #1967D2;\n",
              "      height: 32px;\n",
              "      padding: 0 0 0 0;\n",
              "      width: 32px;\n",
              "    }\n",
              "\n",
              "    .colab-df-convert:hover {\n",
              "      background-color: #E2EBFA;\n",
              "      box-shadow: 0px 1px 2px rgba(60, 64, 67, 0.3), 0px 1px 3px 1px rgba(60, 64, 67, 0.15);\n",
              "      fill: #174EA6;\n",
              "    }\n",
              "\n",
              "    [theme=dark] .colab-df-convert {\n",
              "      background-color: #3B4455;\n",
              "      fill: #D2E3FC;\n",
              "    }\n",
              "\n",
              "    [theme=dark] .colab-df-convert:hover {\n",
              "      background-color: #434B5C;\n",
              "      box-shadow: 0px 1px 3px 1px rgba(0, 0, 0, 0.15);\n",
              "      filter: drop-shadow(0px 1px 2px rgba(0, 0, 0, 0.3));\n",
              "      fill: #FFFFFF;\n",
              "    }\n",
              "  </style>\n",
              "\n",
              "      <script>\n",
              "        const buttonEl =\n",
              "          document.querySelector('#df-12d4b5b3-63c9-42ea-8acf-b0c4cf0c575b button.colab-df-convert');\n",
              "        buttonEl.style.display =\n",
              "          google.colab.kernel.accessAllowed ? 'block' : 'none';\n",
              "\n",
              "        async function convertToInteractive(key) {\n",
              "          const element = document.querySelector('#df-12d4b5b3-63c9-42ea-8acf-b0c4cf0c575b');\n",
              "          const dataTable =\n",
              "            await google.colab.kernel.invokeFunction('convertToInteractive',\n",
              "                                                     [key], {});\n",
              "          if (!dataTable) return;\n",
              "\n",
              "          const docLinkHtml = 'Like what you see? Visit the ' +\n",
              "            '<a target=\"_blank\" href=https://colab.research.google.com/notebooks/data_table.ipynb>data table notebook</a>'\n",
              "            + ' to learn more about interactive tables.';\n",
              "          element.innerHTML = '';\n",
              "          dataTable['output_type'] = 'display_data';\n",
              "          await google.colab.output.renderOutput(dataTable, element);\n",
              "          const docLink = document.createElement('div');\n",
              "          docLink.innerHTML = docLinkHtml;\n",
              "          element.appendChild(docLink);\n",
              "        }\n",
              "      </script>\n",
              "    </div>\n",
              "  </div>\n",
              "  "
            ]
          },
          "metadata": {},
          "execution_count": 42
        }
      ]
    },
    {
      "cell_type": "code",
      "source": [
        "# z-score = (amt / mean) / std\n",
        "# 벡터화 연산 (행들을 열들간 연산)\n",
        "\n",
        "(df['amt'] - df['mean']) / df['std']    #각 거래가 얼마나 평균과 동떨어짐?"
      ],
      "metadata": {
        "id": "4duQYuH4erie",
        "colab": {
          "base_uri": "https://localhost:8080/"
        },
        "outputId": "48208e90-e720-4f5e-82df-584dfeca8da4"
      },
      "execution_count": null,
      "outputs": [
        {
          "output_type": "execute_result",
          "data": {
            "text/plain": [
              "0         -0.662108\n",
              "1565       0.199022\n",
              "2299      -0.571306\n",
              "3606      -0.483876\n",
              "4227      -0.358259\n",
              "             ...   \n",
              "1813872    0.846240\n",
              "1813949    0.432501\n",
              "1814016    0.841254\n",
              "1814204   -0.948427\n",
              "1814246    0.189845\n",
              "Length: 1852394, dtype: float64"
            ]
          },
          "metadata": {},
          "execution_count": 43
        }
      ]
    },
    {
      "cell_type": "code",
      "source": [
        "df.apply(lambda x: (x['amt']-x['mean']) / x['std'], axis=1)"
      ],
      "metadata": {
        "colab": {
          "base_uri": "https://localhost:8080/"
        },
        "id": "KBPh0eOKZeUO",
        "outputId": "ec2dab08-ee44-4222-f0a0-cd768dd957ba"
      },
      "execution_count": null,
      "outputs": [
        {
          "output_type": "execute_result",
          "data": {
            "text/plain": [
              "0         -0.662108\n",
              "1565       0.199022\n",
              "2299      -0.571306\n",
              "3606      -0.483876\n",
              "4227      -0.358259\n",
              "             ...   \n",
              "1813872    0.846240\n",
              "1813949    0.432501\n",
              "1814016    0.841254\n",
              "1814204   -0.948427\n",
              "1814246    0.189845\n",
              "Length: 1852394, dtype: float64"
            ]
          },
          "metadata": {},
          "execution_count": 48
        }
      ]
    },
    {
      "cell_type": "code",
      "source": [
        "df['amt_z_score'] = (df['amt'] - df['mean']) / df['std']"
      ],
      "metadata": {
        "id": "LtAzFM7sZ184"
      },
      "execution_count": null,
      "outputs": []
    },
    {
      "cell_type": "code",
      "source": [
        "# 특정 amt값이 평균 대비 얼마나 떨어져 있는지 (부호 : 어느 방향)\n",
        "\n",
        "df['amt_z_score'].head()"
      ],
      "metadata": {
        "colab": {
          "base_uri": "https://localhost:8080/"
        },
        "id": "juzMsf_ee1xu",
        "outputId": "fb28c214-d1ff-4676-a7f0-4de09f0dcee2"
      },
      "execution_count": null,
      "outputs": [
        {
          "output_type": "execute_result",
          "data": {
            "text/plain": [
              "0      -0.662108\n",
              "1565    0.199022\n",
              "2299   -0.571306\n",
              "3606   -0.483876\n",
              "4227   -0.358259\n",
              "Name: amt_z_score, dtype: float64"
            ]
          },
          "metadata": {},
          "execution_count": 50
        }
      ]
    },
    {
      "cell_type": "code",
      "source": [
        "# z-score 산출을 위해 쓰인 다른 열들 drop\n",
        "df.drop(['mean','std'],axis=1, inplace=True)"
      ],
      "metadata": {
        "id": "1j8CMERnfXAF"
      },
      "execution_count": null,
      "outputs": []
    },
    {
      "cell_type": "markdown",
      "source": [
        "### 범주별 결제금액\n",
        "* cc_num -> 카드번호별 / category -> (상점의) 분류.카테고리.범주"
      ],
      "metadata": {
        "id": "IHL60q7-fhg2"
      }
    },
    {
      "cell_type": "code",
      "source": [
        "# 2개 이상의 그룹으로 나눌 때는 df.groupby([열 이름들...])\n",
        "category_info = df.groupby(['cc_num', 'category']).amt.agg(['mean', 'std'])\n",
        "category_info\n",
        "# cc_num, category별로 -> 평균값 (결제액), 표준편차"
      ],
      "metadata": {
        "colab": {
          "base_uri": "https://localhost:8080/",
          "height": 455
        },
        "id": "tjESMmTafdKu",
        "outputId": "0dd421e2-9dd1-4d5e-a80a-2c279d355bd4"
      },
      "execution_count": null,
      "outputs": [
        {
          "output_type": "execute_result",
          "data": {
            "text/plain": [
              "                                         mean         std\n",
              "cc_num              category                             \n",
              "60416207185         entertainment   51.838855   65.485714\n",
              "                    food_dining     26.737097   46.382603\n",
              "                    gas_transport   59.779429   15.758267\n",
              "                    grocery_net     52.152973   17.694871\n",
              "                    grocery_pos    101.557761   21.894156\n",
              "...                                       ...         ...\n",
              "4992346398065154184 misc_pos        60.003043  167.226191\n",
              "                    personal_care   48.777227   49.523818\n",
              "                    shopping_net    86.280136  217.047242\n",
              "                    shopping_pos    64.213333  169.239073\n",
              "                    travel          70.527193  496.590801\n",
              "\n",
              "[13171 rows x 2 columns]"
            ],
            "text/html": [
              "\n",
              "  <div id=\"df-7f198982-8c72-4022-8203-110b0127dfb4\">\n",
              "    <div class=\"colab-df-container\">\n",
              "      <div>\n",
              "<style scoped>\n",
              "    .dataframe tbody tr th:only-of-type {\n",
              "        vertical-align: middle;\n",
              "    }\n",
              "\n",
              "    .dataframe tbody tr th {\n",
              "        vertical-align: top;\n",
              "    }\n",
              "\n",
              "    .dataframe thead th {\n",
              "        text-align: right;\n",
              "    }\n",
              "</style>\n",
              "<table border=\"1\" class=\"dataframe\">\n",
              "  <thead>\n",
              "    <tr style=\"text-align: right;\">\n",
              "      <th></th>\n",
              "      <th></th>\n",
              "      <th>mean</th>\n",
              "      <th>std</th>\n",
              "    </tr>\n",
              "    <tr>\n",
              "      <th>cc_num</th>\n",
              "      <th>category</th>\n",
              "      <th></th>\n",
              "      <th></th>\n",
              "    </tr>\n",
              "  </thead>\n",
              "  <tbody>\n",
              "    <tr>\n",
              "      <th rowspan=\"5\" valign=\"top\">60416207185</th>\n",
              "      <th>entertainment</th>\n",
              "      <td>51.838855</td>\n",
              "      <td>65.485714</td>\n",
              "    </tr>\n",
              "    <tr>\n",
              "      <th>food_dining</th>\n",
              "      <td>26.737097</td>\n",
              "      <td>46.382603</td>\n",
              "    </tr>\n",
              "    <tr>\n",
              "      <th>gas_transport</th>\n",
              "      <td>59.779429</td>\n",
              "      <td>15.758267</td>\n",
              "    </tr>\n",
              "    <tr>\n",
              "      <th>grocery_net</th>\n",
              "      <td>52.152973</td>\n",
              "      <td>17.694871</td>\n",
              "    </tr>\n",
              "    <tr>\n",
              "      <th>grocery_pos</th>\n",
              "      <td>101.557761</td>\n",
              "      <td>21.894156</td>\n",
              "    </tr>\n",
              "    <tr>\n",
              "      <th>...</th>\n",
              "      <th>...</th>\n",
              "      <td>...</td>\n",
              "      <td>...</td>\n",
              "    </tr>\n",
              "    <tr>\n",
              "      <th rowspan=\"5\" valign=\"top\">4992346398065154184</th>\n",
              "      <th>misc_pos</th>\n",
              "      <td>60.003043</td>\n",
              "      <td>167.226191</td>\n",
              "    </tr>\n",
              "    <tr>\n",
              "      <th>personal_care</th>\n",
              "      <td>48.777227</td>\n",
              "      <td>49.523818</td>\n",
              "    </tr>\n",
              "    <tr>\n",
              "      <th>shopping_net</th>\n",
              "      <td>86.280136</td>\n",
              "      <td>217.047242</td>\n",
              "    </tr>\n",
              "    <tr>\n",
              "      <th>shopping_pos</th>\n",
              "      <td>64.213333</td>\n",
              "      <td>169.239073</td>\n",
              "    </tr>\n",
              "    <tr>\n",
              "      <th>travel</th>\n",
              "      <td>70.527193</td>\n",
              "      <td>496.590801</td>\n",
              "    </tr>\n",
              "  </tbody>\n",
              "</table>\n",
              "<p>13171 rows × 2 columns</p>\n",
              "</div>\n",
              "      <button class=\"colab-df-convert\" onclick=\"convertToInteractive('df-7f198982-8c72-4022-8203-110b0127dfb4')\"\n",
              "              title=\"Convert this dataframe to an interactive table.\"\n",
              "              style=\"display:none;\">\n",
              "        \n",
              "  <svg xmlns=\"http://www.w3.org/2000/svg\" height=\"24px\"viewBox=\"0 0 24 24\"\n",
              "       width=\"24px\">\n",
              "    <path d=\"M0 0h24v24H0V0z\" fill=\"none\"/>\n",
              "    <path d=\"M18.56 5.44l.94 2.06.94-2.06 2.06-.94-2.06-.94-.94-2.06-.94 2.06-2.06.94zm-11 1L8.5 8.5l.94-2.06 2.06-.94-2.06-.94L8.5 2.5l-.94 2.06-2.06.94zm10 10l.94 2.06.94-2.06 2.06-.94-2.06-.94-.94-2.06-.94 2.06-2.06.94z\"/><path d=\"M17.41 7.96l-1.37-1.37c-.4-.4-.92-.59-1.43-.59-.52 0-1.04.2-1.43.59L10.3 9.45l-7.72 7.72c-.78.78-.78 2.05 0 2.83L4 21.41c.39.39.9.59 1.41.59.51 0 1.02-.2 1.41-.59l7.78-7.78 2.81-2.81c.8-.78.8-2.07 0-2.86zM5.41 20L4 18.59l7.72-7.72 1.47 1.35L5.41 20z\"/>\n",
              "  </svg>\n",
              "      </button>\n",
              "      \n",
              "  <style>\n",
              "    .colab-df-container {\n",
              "      display:flex;\n",
              "      flex-wrap:wrap;\n",
              "      gap: 12px;\n",
              "    }\n",
              "\n",
              "    .colab-df-convert {\n",
              "      background-color: #E8F0FE;\n",
              "      border: none;\n",
              "      border-radius: 50%;\n",
              "      cursor: pointer;\n",
              "      display: none;\n",
              "      fill: #1967D2;\n",
              "      height: 32px;\n",
              "      padding: 0 0 0 0;\n",
              "      width: 32px;\n",
              "    }\n",
              "\n",
              "    .colab-df-convert:hover {\n",
              "      background-color: #E2EBFA;\n",
              "      box-shadow: 0px 1px 2px rgba(60, 64, 67, 0.3), 0px 1px 3px 1px rgba(60, 64, 67, 0.15);\n",
              "      fill: #174EA6;\n",
              "    }\n",
              "\n",
              "    [theme=dark] .colab-df-convert {\n",
              "      background-color: #3B4455;\n",
              "      fill: #D2E3FC;\n",
              "    }\n",
              "\n",
              "    [theme=dark] .colab-df-convert:hover {\n",
              "      background-color: #434B5C;\n",
              "      box-shadow: 0px 1px 3px 1px rgba(0, 0, 0, 0.15);\n",
              "      filter: drop-shadow(0px 1px 2px rgba(0, 0, 0, 0.3));\n",
              "      fill: #FFFFFF;\n",
              "    }\n",
              "  </style>\n",
              "\n",
              "      <script>\n",
              "        const buttonEl =\n",
              "          document.querySelector('#df-7f198982-8c72-4022-8203-110b0127dfb4 button.colab-df-convert');\n",
              "        buttonEl.style.display =\n",
              "          google.colab.kernel.accessAllowed ? 'block' : 'none';\n",
              "\n",
              "        async function convertToInteractive(key) {\n",
              "          const element = document.querySelector('#df-7f198982-8c72-4022-8203-110b0127dfb4');\n",
              "          const dataTable =\n",
              "            await google.colab.kernel.invokeFunction('convertToInteractive',\n",
              "                                                     [key], {});\n",
              "          if (!dataTable) return;\n",
              "\n",
              "          const docLinkHtml = 'Like what you see? Visit the ' +\n",
              "            '<a target=\"_blank\" href=https://colab.research.google.com/notebooks/data_table.ipynb>data table notebook</a>'\n",
              "            + ' to learn more about interactive tables.';\n",
              "          element.innerHTML = '';\n",
              "          dataTable['output_type'] = 'display_data';\n",
              "          await google.colab.output.renderOutput(dataTable, element);\n",
              "          const docLink = document.createElement('div');\n",
              "          docLink.innerHTML = docLinkHtml;\n",
              "          element.appendChild(docLink);\n",
              "        }\n",
              "      </script>\n",
              "    </div>\n",
              "  </div>\n",
              "  "
            ]
          },
          "metadata": {},
          "execution_count": 57
        }
      ]
    },
    {
      "cell_type": "code",
      "source": [
        "# df와 category_info를 합쳐주겠다 -> cc_num과 category를 기준으로\n",
        "# mean, std\n",
        "df = df.merge(category_info, left_on=['cc_num', 'category'], right_index=True, how='left')\n",
        "\n",
        "# reset index 안했다?\n"
      ],
      "metadata": {
        "id": "Zo6FNhOLf2Xc"
      },
      "execution_count": null,
      "outputs": []
    },
    {
      "cell_type": "code",
      "source": [
        "# cc_num, category / mean, std / amt => z-score\n",
        "df[['cc_num', 'category', 'amt', 'mean', 'std']].head()"
      ],
      "metadata": {
        "colab": {
          "base_uri": "https://localhost:8080/",
          "height": 206
        },
        "id": "M7prFpuPgd0F",
        "outputId": "71b3ef9a-9e36-49dc-eec2-60844fdf7b3e"
      },
      "execution_count": null,
      "outputs": [
        {
          "output_type": "execute_result",
          "data": {
            "text/plain": [
              "                cc_num       category     amt       mean         std\n",
              "0     2703186189652095       misc_net    4.97  84.860809  116.070300\n",
              "1565  2703186189652095      kids_pets  114.79  61.071937   52.523102\n",
              "2299  2703186189652095      kids_pets   16.55  61.071937   52.523102\n",
              "3606  2703186189652095       misc_net   27.70  84.860809  116.070300\n",
              "4227  2703186189652095  entertainment   43.72  99.261980   83.469318"
            ],
            "text/html": [
              "\n",
              "  <div id=\"df-132ad322-b77f-406c-824c-2b29f599b1fb\">\n",
              "    <div class=\"colab-df-container\">\n",
              "      <div>\n",
              "<style scoped>\n",
              "    .dataframe tbody tr th:only-of-type {\n",
              "        vertical-align: middle;\n",
              "    }\n",
              "\n",
              "    .dataframe tbody tr th {\n",
              "        vertical-align: top;\n",
              "    }\n",
              "\n",
              "    .dataframe thead th {\n",
              "        text-align: right;\n",
              "    }\n",
              "</style>\n",
              "<table border=\"1\" class=\"dataframe\">\n",
              "  <thead>\n",
              "    <tr style=\"text-align: right;\">\n",
              "      <th></th>\n",
              "      <th>cc_num</th>\n",
              "      <th>category</th>\n",
              "      <th>amt</th>\n",
              "      <th>mean</th>\n",
              "      <th>std</th>\n",
              "    </tr>\n",
              "  </thead>\n",
              "  <tbody>\n",
              "    <tr>\n",
              "      <th>0</th>\n",
              "      <td>2703186189652095</td>\n",
              "      <td>misc_net</td>\n",
              "      <td>4.97</td>\n",
              "      <td>84.860809</td>\n",
              "      <td>116.070300</td>\n",
              "    </tr>\n",
              "    <tr>\n",
              "      <th>1565</th>\n",
              "      <td>2703186189652095</td>\n",
              "      <td>kids_pets</td>\n",
              "      <td>114.79</td>\n",
              "      <td>61.071937</td>\n",
              "      <td>52.523102</td>\n",
              "    </tr>\n",
              "    <tr>\n",
              "      <th>2299</th>\n",
              "      <td>2703186189652095</td>\n",
              "      <td>kids_pets</td>\n",
              "      <td>16.55</td>\n",
              "      <td>61.071937</td>\n",
              "      <td>52.523102</td>\n",
              "    </tr>\n",
              "    <tr>\n",
              "      <th>3606</th>\n",
              "      <td>2703186189652095</td>\n",
              "      <td>misc_net</td>\n",
              "      <td>27.70</td>\n",
              "      <td>84.860809</td>\n",
              "      <td>116.070300</td>\n",
              "    </tr>\n",
              "    <tr>\n",
              "      <th>4227</th>\n",
              "      <td>2703186189652095</td>\n",
              "      <td>entertainment</td>\n",
              "      <td>43.72</td>\n",
              "      <td>99.261980</td>\n",
              "      <td>83.469318</td>\n",
              "    </tr>\n",
              "  </tbody>\n",
              "</table>\n",
              "</div>\n",
              "      <button class=\"colab-df-convert\" onclick=\"convertToInteractive('df-132ad322-b77f-406c-824c-2b29f599b1fb')\"\n",
              "              title=\"Convert this dataframe to an interactive table.\"\n",
              "              style=\"display:none;\">\n",
              "        \n",
              "  <svg xmlns=\"http://www.w3.org/2000/svg\" height=\"24px\"viewBox=\"0 0 24 24\"\n",
              "       width=\"24px\">\n",
              "    <path d=\"M0 0h24v24H0V0z\" fill=\"none\"/>\n",
              "    <path d=\"M18.56 5.44l.94 2.06.94-2.06 2.06-.94-2.06-.94-.94-2.06-.94 2.06-2.06.94zm-11 1L8.5 8.5l.94-2.06 2.06-.94-2.06-.94L8.5 2.5l-.94 2.06-2.06.94zm10 10l.94 2.06.94-2.06 2.06-.94-2.06-.94-.94-2.06-.94 2.06-2.06.94z\"/><path d=\"M17.41 7.96l-1.37-1.37c-.4-.4-.92-.59-1.43-.59-.52 0-1.04.2-1.43.59L10.3 9.45l-7.72 7.72c-.78.78-.78 2.05 0 2.83L4 21.41c.39.39.9.59 1.41.59.51 0 1.02-.2 1.41-.59l7.78-7.78 2.81-2.81c.8-.78.8-2.07 0-2.86zM5.41 20L4 18.59l7.72-7.72 1.47 1.35L5.41 20z\"/>\n",
              "  </svg>\n",
              "      </button>\n",
              "      \n",
              "  <style>\n",
              "    .colab-df-container {\n",
              "      display:flex;\n",
              "      flex-wrap:wrap;\n",
              "      gap: 12px;\n",
              "    }\n",
              "\n",
              "    .colab-df-convert {\n",
              "      background-color: #E8F0FE;\n",
              "      border: none;\n",
              "      border-radius: 50%;\n",
              "      cursor: pointer;\n",
              "      display: none;\n",
              "      fill: #1967D2;\n",
              "      height: 32px;\n",
              "      padding: 0 0 0 0;\n",
              "      width: 32px;\n",
              "    }\n",
              "\n",
              "    .colab-df-convert:hover {\n",
              "      background-color: #E2EBFA;\n",
              "      box-shadow: 0px 1px 2px rgba(60, 64, 67, 0.3), 0px 1px 3px 1px rgba(60, 64, 67, 0.15);\n",
              "      fill: #174EA6;\n",
              "    }\n",
              "\n",
              "    [theme=dark] .colab-df-convert {\n",
              "      background-color: #3B4455;\n",
              "      fill: #D2E3FC;\n",
              "    }\n",
              "\n",
              "    [theme=dark] .colab-df-convert:hover {\n",
              "      background-color: #434B5C;\n",
              "      box-shadow: 0px 1px 3px 1px rgba(0, 0, 0, 0.15);\n",
              "      filter: drop-shadow(0px 1px 2px rgba(0, 0, 0, 0.3));\n",
              "      fill: #FFFFFF;\n",
              "    }\n",
              "  </style>\n",
              "\n",
              "      <script>\n",
              "        const buttonEl =\n",
              "          document.querySelector('#df-132ad322-b77f-406c-824c-2b29f599b1fb button.colab-df-convert');\n",
              "        buttonEl.style.display =\n",
              "          google.colab.kernel.accessAllowed ? 'block' : 'none';\n",
              "\n",
              "        async function convertToInteractive(key) {\n",
              "          const element = document.querySelector('#df-132ad322-b77f-406c-824c-2b29f599b1fb');\n",
              "          const dataTable =\n",
              "            await google.colab.kernel.invokeFunction('convertToInteractive',\n",
              "                                                     [key], {});\n",
              "          if (!dataTable) return;\n",
              "\n",
              "          const docLinkHtml = 'Like what you see? Visit the ' +\n",
              "            '<a target=\"_blank\" href=https://colab.research.google.com/notebooks/data_table.ipynb>data table notebook</a>'\n",
              "            + ' to learn more about interactive tables.';\n",
              "          element.innerHTML = '';\n",
              "          dataTable['output_type'] = 'display_data';\n",
              "          await google.colab.output.renderOutput(dataTable, element);\n",
              "          const docLink = document.createElement('div');\n",
              "          docLink.innerHTML = docLinkHtml;\n",
              "          element.appendChild(docLink);\n",
              "        }\n",
              "      </script>\n",
              "    </div>\n",
              "  </div>\n",
              "  "
            ]
          },
          "metadata": {},
          "execution_count": 59
        }
      ]
    },
    {
      "cell_type": "code",
      "source": [
        "# 범주별 결제금액 z-score\n",
        "df['cat_z_score'] = (df['amt'] - df['mean']) / df['std']"
      ],
      "metadata": {
        "id": "IHt6qzeWgsN1"
      },
      "execution_count": null,
      "outputs": []
    },
    {
      "cell_type": "code",
      "source": [
        "# 1.69 (95%), 2.58 (99%)\n",
        "df['cat_z_score'].head()"
      ],
      "metadata": {
        "colab": {
          "base_uri": "https://localhost:8080/"
        },
        "id": "mOPh13xcg1Q9",
        "outputId": "bac949f7-436c-48c1-b94b-18eb7ca86834"
      },
      "execution_count": null,
      "outputs": [
        {
          "output_type": "execute_result",
          "data": {
            "text/plain": [
              "0      -0.688297\n",
              "1565    1.022751\n",
              "2299   -0.847664\n",
              "3606   -0.492467\n",
              "4227   -0.665418\n",
              "Name: cat_z_score, dtype: float64"
            ]
          },
          "metadata": {},
          "execution_count": 65
        }
      ]
    },
    {
      "cell_type": "code",
      "source": [
        "# z-score 산출을 위해 쓰인 다른 열들 drop\n",
        "df.drop(['mean', 'std'], axis=1, inplace=True)"
      ],
      "metadata": {
        "id": "j4FtZDZjhXNr"
      },
      "execution_count": null,
      "outputs": []
    },
    {
      "cell_type": "markdown",
      "source": [
        "### 위.경도 -> 거리 산출"
      ],
      "metadata": {
        "id": "KHvjQBKXhZOI"
      }
    },
    {
      "cell_type": "code",
      "source": [
        "# 두 지점 간의 거리 (위경도)\n",
        "# latitude(위도, lat), longitude(경도, long, lng)\n",
        "# geopy.distance.distance((lat1, lng1), (lat2, lng2)) -> 거리"
      ],
      "metadata": {
        "id": "h91E4kVrhXdb"
      },
      "execution_count": null,
      "outputs": []
    },
    {
      "cell_type": "code",
      "source": [
        "# coordinate(좌표) - 위,경도.\n",
        "# -- 좌표 : (위도, 경도) - latitude : 북/남 | logitude : 동/서\n",
        "# 1. 상점 위경도 (merchant)\n",
        "# 2. 고객 위경도 (customer)\n",
        "# zip -> 2개 이상의 리스트를 원소 순서대로 묶어주겠음\n",
        "\n",
        "df['merch_coord'] = pd.Series(zip(df.merch_lat, df.merch_long))      #coordinate\n",
        "df['cust_coord'] = pd.Series(zip(df['lat'], df['long']))      #coordinate"
      ],
      "metadata": {
        "id": "-JaTUhGbhwhO"
      },
      "execution_count": null,
      "outputs": []
    },
    {
      "cell_type": "code",
      "source": [
        "import geopy.distance # 거리 구하는 파이썬 라이브러리\n",
        "#  df.apply(lambda x: geopy.distance.distance(x['merch_coord'], x['cust_coord']).km, axis=1)\n",
        "def get_distance(row): \n",
        "    coord1 = row['merch_coord'] # [merch_lat, merch_long] / 상점 위경도\n",
        "    coord2 = row['cust_coord'] # [lat, long] / 고객 위경도\n",
        "    return geopy.distance.distance(coord1, coord2).km"
      ],
      "metadata": {
        "id": "Q3KWPY1PijgA"
      },
      "execution_count": null,
      "outputs": []
    },
    {
      "cell_type": "code",
      "source": [
        "df['distance'] = df.apply(get_distance, axis=1)"
      ],
      "metadata": {
        "id": "c0e0Gd5Eia1q"
      },
      "execution_count": null,
      "outputs": []
    },
    {
      "cell_type": "code",
      "source": [
        "df['distance'].head()\n",
        "# km"
      ],
      "metadata": {
        "colab": {
          "base_uri": "https://localhost:8080/"
        },
        "id": "55g62jz8jUbS",
        "outputId": "5c465a1d-4724-44e2-ae99-397c54231bbe"
      },
      "execution_count": null,
      "outputs": [
        {
          "output_type": "execute_result",
          "data": {
            "text/plain": [
              "0        78.773821\n",
              "1565    123.065882\n",
              "2299     73.272922\n",
              "3606     51.207532\n",
              "4227     88.219910\n",
              "Name: distance, dtype: float64"
            ]
          },
          "metadata": {},
          "execution_count": 74
        }
      ]
    },
    {
      "cell_type": "code",
      "source": [
        "df2=df.copy()"
      ],
      "metadata": {
        "id": "c-LzDwHxgSRP"
      },
      "execution_count": null,
      "outputs": []
    },
    {
      "cell_type": "code",
      "source": [
        "# .km 빼먹고 했다?\n",
        "# 78.77 km => 78.77 / km => 78.77 (string) => float\n",
        "# df['distance'] = df['distance'].str.split(expand=True)[0].astype('float64')"
      ],
      "metadata": {
        "id": "NZ47haBE3jKe"
      },
      "execution_count": null,
      "outputs": []
    },
    {
      "cell_type": "code",
      "source": [
        "# 거주 위치 - 결제 위치가 너무 차이난다?\n",
        "# z-점수\n",
        "\n",
        "distance_info = df.groupby('cc_num').distance.agg(['mean','std'])"
      ],
      "metadata": {
        "id": "Tzvnvf7G4Mpe"
      },
      "execution_count": null,
      "outputs": []
    },
    {
      "cell_type": "code",
      "source": [
        "distance_info"
      ],
      "metadata": {
        "colab": {
          "base_uri": "https://localhost:8080/",
          "height": 455
        },
        "id": "ZfZLA4Va4gQO",
        "outputId": "5e8463b3-495e-4e64-f4b9-05007e122ce5"
      },
      "execution_count": null,
      "outputs": [
        {
          "output_type": "execute_result",
          "data": {
            "text/plain": [
              "                          mean        std\n",
              "cc_num                                   \n",
              "60416207185          75.468299  29.552286\n",
              "60422928733          74.809817  29.971759\n",
              "60423098130          77.700702  28.441005\n",
              "60427851591          76.429989  29.251865\n",
              "60487002085          76.755152  28.890226\n",
              "...                        ...        ...\n",
              "4958589671582726883  76.201705  28.678743\n",
              "4973530368125489546  76.053650  28.394470\n",
              "4980323467523543940  76.444074  29.508545\n",
              "4989847570577635369  76.612427  28.914765\n",
              "4992346398065154184  76.395484  29.435082\n",
              "\n",
              "[999 rows x 2 columns]"
            ],
            "text/html": [
              "\n",
              "  <div id=\"df-b1f3c12f-cb28-4a75-9f6c-18fbb60540ed\">\n",
              "    <div class=\"colab-df-container\">\n",
              "      <div>\n",
              "<style scoped>\n",
              "    .dataframe tbody tr th:only-of-type {\n",
              "        vertical-align: middle;\n",
              "    }\n",
              "\n",
              "    .dataframe tbody tr th {\n",
              "        vertical-align: top;\n",
              "    }\n",
              "\n",
              "    .dataframe thead th {\n",
              "        text-align: right;\n",
              "    }\n",
              "</style>\n",
              "<table border=\"1\" class=\"dataframe\">\n",
              "  <thead>\n",
              "    <tr style=\"text-align: right;\">\n",
              "      <th></th>\n",
              "      <th>mean</th>\n",
              "      <th>std</th>\n",
              "    </tr>\n",
              "    <tr>\n",
              "      <th>cc_num</th>\n",
              "      <th></th>\n",
              "      <th></th>\n",
              "    </tr>\n",
              "  </thead>\n",
              "  <tbody>\n",
              "    <tr>\n",
              "      <th>60416207185</th>\n",
              "      <td>75.468299</td>\n",
              "      <td>29.552286</td>\n",
              "    </tr>\n",
              "    <tr>\n",
              "      <th>60422928733</th>\n",
              "      <td>74.809817</td>\n",
              "      <td>29.971759</td>\n",
              "    </tr>\n",
              "    <tr>\n",
              "      <th>60423098130</th>\n",
              "      <td>77.700702</td>\n",
              "      <td>28.441005</td>\n",
              "    </tr>\n",
              "    <tr>\n",
              "      <th>60427851591</th>\n",
              "      <td>76.429989</td>\n",
              "      <td>29.251865</td>\n",
              "    </tr>\n",
              "    <tr>\n",
              "      <th>60487002085</th>\n",
              "      <td>76.755152</td>\n",
              "      <td>28.890226</td>\n",
              "    </tr>\n",
              "    <tr>\n",
              "      <th>...</th>\n",
              "      <td>...</td>\n",
              "      <td>...</td>\n",
              "    </tr>\n",
              "    <tr>\n",
              "      <th>4958589671582726883</th>\n",
              "      <td>76.201705</td>\n",
              "      <td>28.678743</td>\n",
              "    </tr>\n",
              "    <tr>\n",
              "      <th>4973530368125489546</th>\n",
              "      <td>76.053650</td>\n",
              "      <td>28.394470</td>\n",
              "    </tr>\n",
              "    <tr>\n",
              "      <th>4980323467523543940</th>\n",
              "      <td>76.444074</td>\n",
              "      <td>29.508545</td>\n",
              "    </tr>\n",
              "    <tr>\n",
              "      <th>4989847570577635369</th>\n",
              "      <td>76.612427</td>\n",
              "      <td>28.914765</td>\n",
              "    </tr>\n",
              "    <tr>\n",
              "      <th>4992346398065154184</th>\n",
              "      <td>76.395484</td>\n",
              "      <td>29.435082</td>\n",
              "    </tr>\n",
              "  </tbody>\n",
              "</table>\n",
              "<p>999 rows × 2 columns</p>\n",
              "</div>\n",
              "      <button class=\"colab-df-convert\" onclick=\"convertToInteractive('df-b1f3c12f-cb28-4a75-9f6c-18fbb60540ed')\"\n",
              "              title=\"Convert this dataframe to an interactive table.\"\n",
              "              style=\"display:none;\">\n",
              "        \n",
              "  <svg xmlns=\"http://www.w3.org/2000/svg\" height=\"24px\"viewBox=\"0 0 24 24\"\n",
              "       width=\"24px\">\n",
              "    <path d=\"M0 0h24v24H0V0z\" fill=\"none\"/>\n",
              "    <path d=\"M18.56 5.44l.94 2.06.94-2.06 2.06-.94-2.06-.94-.94-2.06-.94 2.06-2.06.94zm-11 1L8.5 8.5l.94-2.06 2.06-.94-2.06-.94L8.5 2.5l-.94 2.06-2.06.94zm10 10l.94 2.06.94-2.06 2.06-.94-2.06-.94-.94-2.06-.94 2.06-2.06.94z\"/><path d=\"M17.41 7.96l-1.37-1.37c-.4-.4-.92-.59-1.43-.59-.52 0-1.04.2-1.43.59L10.3 9.45l-7.72 7.72c-.78.78-.78 2.05 0 2.83L4 21.41c.39.39.9.59 1.41.59.51 0 1.02-.2 1.41-.59l7.78-7.78 2.81-2.81c.8-.78.8-2.07 0-2.86zM5.41 20L4 18.59l7.72-7.72 1.47 1.35L5.41 20z\"/>\n",
              "  </svg>\n",
              "      </button>\n",
              "      \n",
              "  <style>\n",
              "    .colab-df-container {\n",
              "      display:flex;\n",
              "      flex-wrap:wrap;\n",
              "      gap: 12px;\n",
              "    }\n",
              "\n",
              "    .colab-df-convert {\n",
              "      background-color: #E8F0FE;\n",
              "      border: none;\n",
              "      border-radius: 50%;\n",
              "      cursor: pointer;\n",
              "      display: none;\n",
              "      fill: #1967D2;\n",
              "      height: 32px;\n",
              "      padding: 0 0 0 0;\n",
              "      width: 32px;\n",
              "    }\n",
              "\n",
              "    .colab-df-convert:hover {\n",
              "      background-color: #E2EBFA;\n",
              "      box-shadow: 0px 1px 2px rgba(60, 64, 67, 0.3), 0px 1px 3px 1px rgba(60, 64, 67, 0.15);\n",
              "      fill: #174EA6;\n",
              "    }\n",
              "\n",
              "    [theme=dark] .colab-df-convert {\n",
              "      background-color: #3B4455;\n",
              "      fill: #D2E3FC;\n",
              "    }\n",
              "\n",
              "    [theme=dark] .colab-df-convert:hover {\n",
              "      background-color: #434B5C;\n",
              "      box-shadow: 0px 1px 3px 1px rgba(0, 0, 0, 0.15);\n",
              "      filter: drop-shadow(0px 1px 2px rgba(0, 0, 0, 0.3));\n",
              "      fill: #FFFFFF;\n",
              "    }\n",
              "  </style>\n",
              "\n",
              "      <script>\n",
              "        const buttonEl =\n",
              "          document.querySelector('#df-b1f3c12f-cb28-4a75-9f6c-18fbb60540ed button.colab-df-convert');\n",
              "        buttonEl.style.display =\n",
              "          google.colab.kernel.accessAllowed ? 'block' : 'none';\n",
              "\n",
              "        async function convertToInteractive(key) {\n",
              "          const element = document.querySelector('#df-b1f3c12f-cb28-4a75-9f6c-18fbb60540ed');\n",
              "          const dataTable =\n",
              "            await google.colab.kernel.invokeFunction('convertToInteractive',\n",
              "                                                     [key], {});\n",
              "          if (!dataTable) return;\n",
              "\n",
              "          const docLinkHtml = 'Like what you see? Visit the ' +\n",
              "            '<a target=\"_blank\" href=https://colab.research.google.com/notebooks/data_table.ipynb>data table notebook</a>'\n",
              "            + ' to learn more about interactive tables.';\n",
              "          element.innerHTML = '';\n",
              "          dataTable['output_type'] = 'display_data';\n",
              "          await google.colab.output.renderOutput(dataTable, element);\n",
              "          const docLink = document.createElement('div');\n",
              "          docLink.innerHTML = docLinkHtml;\n",
              "          element.appendChild(docLink);\n",
              "        }\n",
              "      </script>\n",
              "    </div>\n",
              "  </div>\n",
              "  "
            ]
          },
          "metadata": {},
          "execution_count": 77
        }
      ]
    },
    {
      "cell_type": "code",
      "source": [
        "# 1.\n",
        "df=df.merge(distance_info, left_on='cc_num', right_index=True, how='left')  #특정할 수 있는 값들을 합침\n",
        "df\n",
        "# 2.\n"
      ],
      "metadata": {
        "id": "QbwYsMJQ4oVv",
        "colab": {
          "base_uri": "https://localhost:8080/",
          "height": 852
        },
        "outputId": "0bf223b7-7d3e-4e52-f4ed-853a15205549"
      },
      "execution_count": null,
      "outputs": [
        {
          "output_type": "execute_result",
          "data": {
            "text/plain": [
              "        trans_date_trans_time            cc_num  \\\n",
              "0         2019-01-01 00:00:18  2703186189652095   \n",
              "1565      2019-01-01 16:53:34  2703186189652095   \n",
              "2299      2019-01-01 23:02:37  2703186189652095   \n",
              "3606      2019-01-03 01:40:38  2703186189652095   \n",
              "4227      2019-01-03 15:24:11  2703186189652095   \n",
              "...                       ...               ...   \n",
              "1813872   2020-12-22 22:05:48  2242176657877538   \n",
              "1813949   2020-12-22 22:18:07  2242176657877538   \n",
              "1814016   2020-12-22 22:31:48  2242176657877538   \n",
              "1814204   2020-12-22 23:06:03  2242176657877538   \n",
              "1814246   2020-12-22 23:13:39  2242176657877538   \n",
              "\n",
              "                                    merchant       category      amt  \\\n",
              "0                 fraud_Rippin, Kub and Mann       misc_net     4.97   \n",
              "1565                    fraud_Ruecker-Mayert      kids_pets   114.79   \n",
              "2299                  fraud_Pacocha-Weissnat      kids_pets    16.55   \n",
              "3606                          fraud_Kuhn LLC       misc_net    27.70   \n",
              "4227        fraud_Nicolas, Hills and McGlynn  entertainment    43.72   \n",
              "...                                      ...            ...      ...   \n",
              "1813872      fraud_Willms, Kris and Bergnaum   shopping_pos  1041.51   \n",
              "1813949                       fraud_Kuhn LLC   shopping_pos   868.09   \n",
              "1814016  fraud_Mosciski, Ziemann and Farrell   shopping_net  1039.42   \n",
              "1814204                   fraud_Bauch-Raynor    grocery_pos   289.27   \n",
              "1814246           fraud_Jaskolski-Vandervort       misc_net   766.38   \n",
              "\n",
              "            first    last gender                       street            city  \\\n",
              "0        Jennifer   Banks      F               561 Perry Cove  Moravian Falls   \n",
              "1565     Jennifer   Banks      F               561 Perry Cove  Moravian Falls   \n",
              "2299     Jennifer   Banks      F               561 Perry Cove  Moravian Falls   \n",
              "3606     Jennifer   Banks      F               561 Perry Cove  Moravian Falls   \n",
              "4227     Jennifer   Banks      F               561 Perry Cove  Moravian Falls   \n",
              "...           ...     ...    ...                          ...             ...   \n",
              "1813872    Travis  Daniel      M  1327 Rose Causeway Apt. 610       Senatobia   \n",
              "1813949    Travis  Daniel      M  1327 Rose Causeway Apt. 610       Senatobia   \n",
              "1814016    Travis  Daniel      M  1327 Rose Causeway Apt. 610       Senatobia   \n",
              "1814204    Travis  Daniel      M  1327 Rose Causeway Apt. 610       Senatobia   \n",
              "1814246    Travis  Daniel      M  1327 Rose Causeway Apt. 610       Senatobia   \n",
              "\n",
              "         ... merch_long  is_fraud  amt_z_score  cat_z_score  \\\n",
              "0        ... -82.048315         0    -0.662108    -0.688297   \n",
              "1565     ... -80.625951         0     0.199022     1.022751   \n",
              "2299     ... -82.170017         0    -0.571306    -0.847664   \n",
              "3606     ... -80.666723         0    -0.483876    -0.492467   \n",
              "4227     ... -80.343520         0    -0.358259    -0.665418   \n",
              "...      ...        ...       ...          ...          ...   \n",
              "1813872  ... -89.911011         1     0.846240     0.707107   \n",
              "1813949  ... -90.390612         1     0.432501    -0.707107   \n",
              "1814016  ... -90.284780         1     0.841254     0.920456   \n",
              "1814204  ... -90.401093         1    -0.948427          NaN   \n",
              "1814246  ... -90.651342         1     0.189845          NaN   \n",
              "\n",
              "                              mearch_coord            cust_coord  \\\n",
              "0                  (36.011293, -82.048315)   (36.0788, -81.1781)   \n",
              "1565               (35.281579, -80.232901)   (36.0788, -81.1781)   \n",
              "2299       (35.576236, -81.70415799999999)   (36.0788, -81.1781)   \n",
              "3606     (49.279528000000006, -118.578934)  (48.8878, -118.2105)   \n",
              "4227              (48.256156, -117.487178)  (48.8878, -118.2105)   \n",
              "...                                    ...                   ...   \n",
              "1813872            (33.239989, -81.159183)   (33.6028, -81.9748)   \n",
              "1813949              (33.81683, -81.55373)   (33.6028, -81.9748)   \n",
              "1814016            (34.037818, -81.149054)   (33.6028, -81.9748)   \n",
              "1814204              (34.29182, -81.11706)   (33.6028, -81.9748)   \n",
              "1814246            (32.716293, -81.517067)   (33.6028, -81.9748)   \n",
              "\n",
              "                               merch_coord    distance       mean        std  \n",
              "0                  (36.011293, -82.048315)   78.773821  75.891543  28.871944  \n",
              "1565               (35.281579, -80.232901)  123.065882  75.891543  28.871944  \n",
              "2299       (35.576236, -81.70415799999999)   73.272922  75.891543  28.871944  \n",
              "3606     (49.279528000000006, -118.578934)   51.207532  75.891543  28.871944  \n",
              "4227              (48.256156, -117.487178)   88.219910  75.891543  28.871944  \n",
              "...                                    ...         ...        ...        ...  \n",
              "1813872            (33.239989, -81.159183)   85.869503  79.426986  22.581532  \n",
              "1813949              (33.81683, -81.55373)   45.684549  79.426986  22.581532  \n",
              "1814016            (34.037818, -81.149054)   90.400374  79.426986  22.581532  \n",
              "1814204              (34.29182, -81.11706)  110.126974  79.426986  22.581532  \n",
              "1814246            (32.716293, -81.517067)  107.191424  79.426986  22.581532  \n",
              "\n",
              "[1852394 rows x 30 columns]"
            ],
            "text/html": [
              "\n",
              "  <div id=\"df-60ab24fa-ee98-4ec9-a8a9-3a5ba29adf66\">\n",
              "    <div class=\"colab-df-container\">\n",
              "      <div>\n",
              "<style scoped>\n",
              "    .dataframe tbody tr th:only-of-type {\n",
              "        vertical-align: middle;\n",
              "    }\n",
              "\n",
              "    .dataframe tbody tr th {\n",
              "        vertical-align: top;\n",
              "    }\n",
              "\n",
              "    .dataframe thead th {\n",
              "        text-align: right;\n",
              "    }\n",
              "</style>\n",
              "<table border=\"1\" class=\"dataframe\">\n",
              "  <thead>\n",
              "    <tr style=\"text-align: right;\">\n",
              "      <th></th>\n",
              "      <th>trans_date_trans_time</th>\n",
              "      <th>cc_num</th>\n",
              "      <th>merchant</th>\n",
              "      <th>category</th>\n",
              "      <th>amt</th>\n",
              "      <th>first</th>\n",
              "      <th>last</th>\n",
              "      <th>gender</th>\n",
              "      <th>street</th>\n",
              "      <th>city</th>\n",
              "      <th>...</th>\n",
              "      <th>merch_long</th>\n",
              "      <th>is_fraud</th>\n",
              "      <th>amt_z_score</th>\n",
              "      <th>cat_z_score</th>\n",
              "      <th>mearch_coord</th>\n",
              "      <th>cust_coord</th>\n",
              "      <th>merch_coord</th>\n",
              "      <th>distance</th>\n",
              "      <th>mean</th>\n",
              "      <th>std</th>\n",
              "    </tr>\n",
              "  </thead>\n",
              "  <tbody>\n",
              "    <tr>\n",
              "      <th>0</th>\n",
              "      <td>2019-01-01 00:00:18</td>\n",
              "      <td>2703186189652095</td>\n",
              "      <td>fraud_Rippin, Kub and Mann</td>\n",
              "      <td>misc_net</td>\n",
              "      <td>4.97</td>\n",
              "      <td>Jennifer</td>\n",
              "      <td>Banks</td>\n",
              "      <td>F</td>\n",
              "      <td>561 Perry Cove</td>\n",
              "      <td>Moravian Falls</td>\n",
              "      <td>...</td>\n",
              "      <td>-82.048315</td>\n",
              "      <td>0</td>\n",
              "      <td>-0.662108</td>\n",
              "      <td>-0.688297</td>\n",
              "      <td>(36.011293, -82.048315)</td>\n",
              "      <td>(36.0788, -81.1781)</td>\n",
              "      <td>(36.011293, -82.048315)</td>\n",
              "      <td>78.773821</td>\n",
              "      <td>75.891543</td>\n",
              "      <td>28.871944</td>\n",
              "    </tr>\n",
              "    <tr>\n",
              "      <th>1565</th>\n",
              "      <td>2019-01-01 16:53:34</td>\n",
              "      <td>2703186189652095</td>\n",
              "      <td>fraud_Ruecker-Mayert</td>\n",
              "      <td>kids_pets</td>\n",
              "      <td>114.79</td>\n",
              "      <td>Jennifer</td>\n",
              "      <td>Banks</td>\n",
              "      <td>F</td>\n",
              "      <td>561 Perry Cove</td>\n",
              "      <td>Moravian Falls</td>\n",
              "      <td>...</td>\n",
              "      <td>-80.625951</td>\n",
              "      <td>0</td>\n",
              "      <td>0.199022</td>\n",
              "      <td>1.022751</td>\n",
              "      <td>(35.281579, -80.232901)</td>\n",
              "      <td>(36.0788, -81.1781)</td>\n",
              "      <td>(35.281579, -80.232901)</td>\n",
              "      <td>123.065882</td>\n",
              "      <td>75.891543</td>\n",
              "      <td>28.871944</td>\n",
              "    </tr>\n",
              "    <tr>\n",
              "      <th>2299</th>\n",
              "      <td>2019-01-01 23:02:37</td>\n",
              "      <td>2703186189652095</td>\n",
              "      <td>fraud_Pacocha-Weissnat</td>\n",
              "      <td>kids_pets</td>\n",
              "      <td>16.55</td>\n",
              "      <td>Jennifer</td>\n",
              "      <td>Banks</td>\n",
              "      <td>F</td>\n",
              "      <td>561 Perry Cove</td>\n",
              "      <td>Moravian Falls</td>\n",
              "      <td>...</td>\n",
              "      <td>-82.170017</td>\n",
              "      <td>0</td>\n",
              "      <td>-0.571306</td>\n",
              "      <td>-0.847664</td>\n",
              "      <td>(35.576236, -81.70415799999999)</td>\n",
              "      <td>(36.0788, -81.1781)</td>\n",
              "      <td>(35.576236, -81.70415799999999)</td>\n",
              "      <td>73.272922</td>\n",
              "      <td>75.891543</td>\n",
              "      <td>28.871944</td>\n",
              "    </tr>\n",
              "    <tr>\n",
              "      <th>3606</th>\n",
              "      <td>2019-01-03 01:40:38</td>\n",
              "      <td>2703186189652095</td>\n",
              "      <td>fraud_Kuhn LLC</td>\n",
              "      <td>misc_net</td>\n",
              "      <td>27.70</td>\n",
              "      <td>Jennifer</td>\n",
              "      <td>Banks</td>\n",
              "      <td>F</td>\n",
              "      <td>561 Perry Cove</td>\n",
              "      <td>Moravian Falls</td>\n",
              "      <td>...</td>\n",
              "      <td>-80.666723</td>\n",
              "      <td>0</td>\n",
              "      <td>-0.483876</td>\n",
              "      <td>-0.492467</td>\n",
              "      <td>(49.279528000000006, -118.578934)</td>\n",
              "      <td>(48.8878, -118.2105)</td>\n",
              "      <td>(49.279528000000006, -118.578934)</td>\n",
              "      <td>51.207532</td>\n",
              "      <td>75.891543</td>\n",
              "      <td>28.871944</td>\n",
              "    </tr>\n",
              "    <tr>\n",
              "      <th>4227</th>\n",
              "      <td>2019-01-03 15:24:11</td>\n",
              "      <td>2703186189652095</td>\n",
              "      <td>fraud_Nicolas, Hills and McGlynn</td>\n",
              "      <td>entertainment</td>\n",
              "      <td>43.72</td>\n",
              "      <td>Jennifer</td>\n",
              "      <td>Banks</td>\n",
              "      <td>F</td>\n",
              "      <td>561 Perry Cove</td>\n",
              "      <td>Moravian Falls</td>\n",
              "      <td>...</td>\n",
              "      <td>-80.343520</td>\n",
              "      <td>0</td>\n",
              "      <td>-0.358259</td>\n",
              "      <td>-0.665418</td>\n",
              "      <td>(48.256156, -117.487178)</td>\n",
              "      <td>(48.8878, -118.2105)</td>\n",
              "      <td>(48.256156, -117.487178)</td>\n",
              "      <td>88.219910</td>\n",
              "      <td>75.891543</td>\n",
              "      <td>28.871944</td>\n",
              "    </tr>\n",
              "    <tr>\n",
              "      <th>...</th>\n",
              "      <td>...</td>\n",
              "      <td>...</td>\n",
              "      <td>...</td>\n",
              "      <td>...</td>\n",
              "      <td>...</td>\n",
              "      <td>...</td>\n",
              "      <td>...</td>\n",
              "      <td>...</td>\n",
              "      <td>...</td>\n",
              "      <td>...</td>\n",
              "      <td>...</td>\n",
              "      <td>...</td>\n",
              "      <td>...</td>\n",
              "      <td>...</td>\n",
              "      <td>...</td>\n",
              "      <td>...</td>\n",
              "      <td>...</td>\n",
              "      <td>...</td>\n",
              "      <td>...</td>\n",
              "      <td>...</td>\n",
              "      <td>...</td>\n",
              "    </tr>\n",
              "    <tr>\n",
              "      <th>1813872</th>\n",
              "      <td>2020-12-22 22:05:48</td>\n",
              "      <td>2242176657877538</td>\n",
              "      <td>fraud_Willms, Kris and Bergnaum</td>\n",
              "      <td>shopping_pos</td>\n",
              "      <td>1041.51</td>\n",
              "      <td>Travis</td>\n",
              "      <td>Daniel</td>\n",
              "      <td>M</td>\n",
              "      <td>1327 Rose Causeway Apt. 610</td>\n",
              "      <td>Senatobia</td>\n",
              "      <td>...</td>\n",
              "      <td>-89.911011</td>\n",
              "      <td>1</td>\n",
              "      <td>0.846240</td>\n",
              "      <td>0.707107</td>\n",
              "      <td>(33.239989, -81.159183)</td>\n",
              "      <td>(33.6028, -81.9748)</td>\n",
              "      <td>(33.239989, -81.159183)</td>\n",
              "      <td>85.869503</td>\n",
              "      <td>79.426986</td>\n",
              "      <td>22.581532</td>\n",
              "    </tr>\n",
              "    <tr>\n",
              "      <th>1813949</th>\n",
              "      <td>2020-12-22 22:18:07</td>\n",
              "      <td>2242176657877538</td>\n",
              "      <td>fraud_Kuhn LLC</td>\n",
              "      <td>shopping_pos</td>\n",
              "      <td>868.09</td>\n",
              "      <td>Travis</td>\n",
              "      <td>Daniel</td>\n",
              "      <td>M</td>\n",
              "      <td>1327 Rose Causeway Apt. 610</td>\n",
              "      <td>Senatobia</td>\n",
              "      <td>...</td>\n",
              "      <td>-90.390612</td>\n",
              "      <td>1</td>\n",
              "      <td>0.432501</td>\n",
              "      <td>-0.707107</td>\n",
              "      <td>(33.81683, -81.55373)</td>\n",
              "      <td>(33.6028, -81.9748)</td>\n",
              "      <td>(33.81683, -81.55373)</td>\n",
              "      <td>45.684549</td>\n",
              "      <td>79.426986</td>\n",
              "      <td>22.581532</td>\n",
              "    </tr>\n",
              "    <tr>\n",
              "      <th>1814016</th>\n",
              "      <td>2020-12-22 22:31:48</td>\n",
              "      <td>2242176657877538</td>\n",
              "      <td>fraud_Mosciski, Ziemann and Farrell</td>\n",
              "      <td>shopping_net</td>\n",
              "      <td>1039.42</td>\n",
              "      <td>Travis</td>\n",
              "      <td>Daniel</td>\n",
              "      <td>M</td>\n",
              "      <td>1327 Rose Causeway Apt. 610</td>\n",
              "      <td>Senatobia</td>\n",
              "      <td>...</td>\n",
              "      <td>-90.284780</td>\n",
              "      <td>1</td>\n",
              "      <td>0.841254</td>\n",
              "      <td>0.920456</td>\n",
              "      <td>(34.037818, -81.149054)</td>\n",
              "      <td>(33.6028, -81.9748)</td>\n",
              "      <td>(34.037818, -81.149054)</td>\n",
              "      <td>90.400374</td>\n",
              "      <td>79.426986</td>\n",
              "      <td>22.581532</td>\n",
              "    </tr>\n",
              "    <tr>\n",
              "      <th>1814204</th>\n",
              "      <td>2020-12-22 23:06:03</td>\n",
              "      <td>2242176657877538</td>\n",
              "      <td>fraud_Bauch-Raynor</td>\n",
              "      <td>grocery_pos</td>\n",
              "      <td>289.27</td>\n",
              "      <td>Travis</td>\n",
              "      <td>Daniel</td>\n",
              "      <td>M</td>\n",
              "      <td>1327 Rose Causeway Apt. 610</td>\n",
              "      <td>Senatobia</td>\n",
              "      <td>...</td>\n",
              "      <td>-90.401093</td>\n",
              "      <td>1</td>\n",
              "      <td>-0.948427</td>\n",
              "      <td>NaN</td>\n",
              "      <td>(34.29182, -81.11706)</td>\n",
              "      <td>(33.6028, -81.9748)</td>\n",
              "      <td>(34.29182, -81.11706)</td>\n",
              "      <td>110.126974</td>\n",
              "      <td>79.426986</td>\n",
              "      <td>22.581532</td>\n",
              "    </tr>\n",
              "    <tr>\n",
              "      <th>1814246</th>\n",
              "      <td>2020-12-22 23:13:39</td>\n",
              "      <td>2242176657877538</td>\n",
              "      <td>fraud_Jaskolski-Vandervort</td>\n",
              "      <td>misc_net</td>\n",
              "      <td>766.38</td>\n",
              "      <td>Travis</td>\n",
              "      <td>Daniel</td>\n",
              "      <td>M</td>\n",
              "      <td>1327 Rose Causeway Apt. 610</td>\n",
              "      <td>Senatobia</td>\n",
              "      <td>...</td>\n",
              "      <td>-90.651342</td>\n",
              "      <td>1</td>\n",
              "      <td>0.189845</td>\n",
              "      <td>NaN</td>\n",
              "      <td>(32.716293, -81.517067)</td>\n",
              "      <td>(33.6028, -81.9748)</td>\n",
              "      <td>(32.716293, -81.517067)</td>\n",
              "      <td>107.191424</td>\n",
              "      <td>79.426986</td>\n",
              "      <td>22.581532</td>\n",
              "    </tr>\n",
              "  </tbody>\n",
              "</table>\n",
              "<p>1852394 rows × 30 columns</p>\n",
              "</div>\n",
              "      <button class=\"colab-df-convert\" onclick=\"convertToInteractive('df-60ab24fa-ee98-4ec9-a8a9-3a5ba29adf66')\"\n",
              "              title=\"Convert this dataframe to an interactive table.\"\n",
              "              style=\"display:none;\">\n",
              "        \n",
              "  <svg xmlns=\"http://www.w3.org/2000/svg\" height=\"24px\"viewBox=\"0 0 24 24\"\n",
              "       width=\"24px\">\n",
              "    <path d=\"M0 0h24v24H0V0z\" fill=\"none\"/>\n",
              "    <path d=\"M18.56 5.44l.94 2.06.94-2.06 2.06-.94-2.06-.94-.94-2.06-.94 2.06-2.06.94zm-11 1L8.5 8.5l.94-2.06 2.06-.94-2.06-.94L8.5 2.5l-.94 2.06-2.06.94zm10 10l.94 2.06.94-2.06 2.06-.94-2.06-.94-.94-2.06-.94 2.06-2.06.94z\"/><path d=\"M17.41 7.96l-1.37-1.37c-.4-.4-.92-.59-1.43-.59-.52 0-1.04.2-1.43.59L10.3 9.45l-7.72 7.72c-.78.78-.78 2.05 0 2.83L4 21.41c.39.39.9.59 1.41.59.51 0 1.02-.2 1.41-.59l7.78-7.78 2.81-2.81c.8-.78.8-2.07 0-2.86zM5.41 20L4 18.59l7.72-7.72 1.47 1.35L5.41 20z\"/>\n",
              "  </svg>\n",
              "      </button>\n",
              "      \n",
              "  <style>\n",
              "    .colab-df-container {\n",
              "      display:flex;\n",
              "      flex-wrap:wrap;\n",
              "      gap: 12px;\n",
              "    }\n",
              "\n",
              "    .colab-df-convert {\n",
              "      background-color: #E8F0FE;\n",
              "      border: none;\n",
              "      border-radius: 50%;\n",
              "      cursor: pointer;\n",
              "      display: none;\n",
              "      fill: #1967D2;\n",
              "      height: 32px;\n",
              "      padding: 0 0 0 0;\n",
              "      width: 32px;\n",
              "    }\n",
              "\n",
              "    .colab-df-convert:hover {\n",
              "      background-color: #E2EBFA;\n",
              "      box-shadow: 0px 1px 2px rgba(60, 64, 67, 0.3), 0px 1px 3px 1px rgba(60, 64, 67, 0.15);\n",
              "      fill: #174EA6;\n",
              "    }\n",
              "\n",
              "    [theme=dark] .colab-df-convert {\n",
              "      background-color: #3B4455;\n",
              "      fill: #D2E3FC;\n",
              "    }\n",
              "\n",
              "    [theme=dark] .colab-df-convert:hover {\n",
              "      background-color: #434B5C;\n",
              "      box-shadow: 0px 1px 3px 1px rgba(0, 0, 0, 0.15);\n",
              "      filter: drop-shadow(0px 1px 2px rgba(0, 0, 0, 0.3));\n",
              "      fill: #FFFFFF;\n",
              "    }\n",
              "  </style>\n",
              "\n",
              "      <script>\n",
              "        const buttonEl =\n",
              "          document.querySelector('#df-60ab24fa-ee98-4ec9-a8a9-3a5ba29adf66 button.colab-df-convert');\n",
              "        buttonEl.style.display =\n",
              "          google.colab.kernel.accessAllowed ? 'block' : 'none';\n",
              "\n",
              "        async function convertToInteractive(key) {\n",
              "          const element = document.querySelector('#df-60ab24fa-ee98-4ec9-a8a9-3a5ba29adf66');\n",
              "          const dataTable =\n",
              "            await google.colab.kernel.invokeFunction('convertToInteractive',\n",
              "                                                     [key], {});\n",
              "          if (!dataTable) return;\n",
              "\n",
              "          const docLinkHtml = 'Like what you see? Visit the ' +\n",
              "            '<a target=\"_blank\" href=https://colab.research.google.com/notebooks/data_table.ipynb>data table notebook</a>'\n",
              "            + ' to learn more about interactive tables.';\n",
              "          element.innerHTML = '';\n",
              "          dataTable['output_type'] = 'display_data';\n",
              "          await google.colab.output.renderOutput(dataTable, element);\n",
              "          const docLink = document.createElement('div');\n",
              "          docLink.innerHTML = docLinkHtml;\n",
              "          element.appendChild(docLink);\n",
              "        }\n",
              "      </script>\n",
              "    </div>\n",
              "  </div>\n",
              "  "
            ]
          },
          "metadata": {},
          "execution_count": 78
        }
      ]
    },
    {
      "cell_type": "code",
      "source": [
        "# z_score : 평균을 0으로 뒀을 때 얼마나 떨어있는지를 표준화 (z점수, 표준정규분포)\n",
        "df['distance_z_score'] = (df['distance']-df['mean']) / df['std']"
      ],
      "metadata": {
        "id": "mqdoXbse5B1P"
      },
      "execution_count": null,
      "outputs": []
    },
    {
      "cell_type": "code",
      "source": [
        "df['distance_z_score'].head()"
      ],
      "metadata": {
        "colab": {
          "base_uri": "https://localhost:8080/"
        },
        "id": "g7elWxgp5S82",
        "outputId": "a5e4d405-8e09-473e-e346-7b410c3a946a"
      },
      "execution_count": null,
      "outputs": [
        {
          "output_type": "execute_result",
          "data": {
            "text/plain": [
              "0       0.099830\n",
              "1565    1.633916\n",
              "2299   -0.090698\n",
              "3606   -0.854948\n",
              "4227    0.427002\n",
              "Name: distance_z_score, dtype: float64"
            ]
          },
          "metadata": {},
          "execution_count": 80
        }
      ]
    },
    {
      "cell_type": "code",
      "source": [
        "# 사용한 통계치 drop\n",
        "df.drop(['mean','std'], axis=1, inplace=True)"
      ],
      "metadata": {
        "id": "Ry3xbff05X07"
      },
      "execution_count": null,
      "outputs": []
    },
    {
      "cell_type": "code",
      "source": [
        "df.isna().mean()"
      ],
      "metadata": {
        "id": "agPmPq8y5dYN"
      },
      "execution_count": null,
      "outputs": []
    },
    {
      "cell_type": "markdown",
      "source": [
        "### 생년월일 (dob) -> 연령"
      ],
      "metadata": {
        "id": "TZ6_V1QJ5oNs"
      }
    },
    {
      "cell_type": "code",
      "source": [
        "df['dob']"
      ],
      "metadata": {
        "colab": {
          "base_uri": "https://localhost:8080/"
        },
        "id": "saRDYKQo52hJ",
        "outputId": "6e68ec73-a520-4b27-899b-767d4edd1549"
      },
      "execution_count": null,
      "outputs": [
        {
          "output_type": "execute_result",
          "data": {
            "text/plain": [
              "0          1988-03-09\n",
              "1565       1988-03-09\n",
              "2299       1988-03-09\n",
              "3606       1988-03-09\n",
              "4227       1988-03-09\n",
              "              ...    \n",
              "1813872    1959-03-03\n",
              "1813949    1959-03-03\n",
              "1814016    1959-03-03\n",
              "1814204    1959-03-03\n",
              "1814246    1959-03-03\n",
              "Name: dob, Length: 1852394, dtype: object"
            ]
          },
          "metadata": {},
          "execution_count": 84
        }
      ]
    },
    {
      "cell_type": "code",
      "source": [
        "pd.to_datetime([df'dob'])"
      ],
      "metadata": {
        "colab": {
          "base_uri": "https://localhost:8080/",
          "height": 131
        },
        "id": "LLcdwGjO55tB",
        "outputId": "b79d8afa-b61b-45c4-f85a-35f2675323be"
      },
      "execution_count": null,
      "outputs": [
        {
          "output_type": "error",
          "ename": "SyntaxError",
          "evalue": "ignored",
          "traceback": [
            "\u001b[0;36m  File \u001b[0;32m\"<ipython-input-85-79407929a06c>\"\u001b[0;36m, line \u001b[0;32m1\u001b[0m\n\u001b[0;31m    pd.to_datetime([df'dob'])\u001b[0m\n\u001b[0m                      ^\u001b[0m\n\u001b[0;31mSyntaxError\u001b[0m\u001b[0;31m:\u001b[0m invalid syntax\n"
          ]
        }
      ]
    },
    {
      "cell_type": "code",
      "source": [
        "# year\n",
        "# pd.to_datetime(df['dob']).year # 에러남 (year 없음)\n",
        "# dt 속성 : 특정 시리즈/df에서 dt의 메소드/속성을 사용할 수 있게함 (참고: str)\n",
        "pd.to_datetime(df['dob']).dt.year #dt : 학습자. df에는 해당 속성 없듬"
      ],
      "metadata": {
        "colab": {
          "base_uri": "https://localhost:8080/"
        },
        "id": "tgtHAqbk6GWs",
        "outputId": "1fa81a46-8fa7-43a1-eb7a-e9142988d3fb"
      },
      "execution_count": null,
      "outputs": [
        {
          "output_type": "execute_result",
          "data": {
            "text/plain": [
              "0          1988\n",
              "1565       1988\n",
              "2299       1988\n",
              "3606       1988\n",
              "4227       1988\n",
              "           ... \n",
              "1813872    1959\n",
              "1813949    1959\n",
              "1814016    1959\n",
              "1814204    1959\n",
              "1814246    1959\n",
              "Name: dob, Length: 1852394, dtype: int64"
            ]
          },
          "metadata": {},
          "execution_count": 86
        }
      ]
    },
    {
      "cell_type": "code",
      "source": [
        "# 만 나이\n",
        "\n",
        "df['age'] = 2023-pd.to_datetime(df['dob']).dt.year"
      ],
      "metadata": {
        "id": "Gx5TgOgC6dFs"
      },
      "execution_count": null,
      "outputs": []
    },
    {
      "cell_type": "code",
      "source": [
        "df['age']"
      ],
      "metadata": {
        "colab": {
          "base_uri": "https://localhost:8080/"
        },
        "id": "JeZKsRWi6iqv",
        "outputId": "37139df3-4340-4bd6-a844-503d1dda2868"
      },
      "execution_count": null,
      "outputs": [
        {
          "output_type": "execute_result",
          "data": {
            "text/plain": [
              "0          35\n",
              "1565       35\n",
              "2299       35\n",
              "3606       35\n",
              "4227       35\n",
              "           ..\n",
              "1813872    64\n",
              "1813949    64\n",
              "1814016    64\n",
              "1814204    64\n",
              "1814246    64\n",
              "Name: age, Length: 1852394, dtype: int64"
            ]
          },
          "metadata": {},
          "execution_count": 88
        }
      ]
    },
    {
      "cell_type": "markdown",
      "source": [
        "## 범주형 변수 처리"
      ],
      "metadata": {
        "id": "N03rDYo36qF9"
      }
    },
    {
      "cell_type": "code",
      "source": [
        "# 필요없는 열(변수) drop\n",
        "# cc_num, lat, long, merch_let, merch_long, dob, merch_coord, cust_coord\n",
        "\n",
        "df.drop(['cc_num', 'lat', 'long', 'merch_lat', 'merch_long', 'dob', 'merch_coord', 'cust_coord'], axis=1, inplace=True)"
      ],
      "metadata": {
        "id": "RPwKD4g87Y18"
      },
      "execution_count": null,
      "outputs": []
    },
    {
      "cell_type": "code",
      "source": [
        "# 더미 변수 만들기\n",
        "df.describe(include='object')"
      ],
      "metadata": {
        "colab": {
          "base_uri": "https://localhost:8080/",
          "height": 274
        },
        "id": "infGcyGf7J6H",
        "outputId": "16a6bc48-4b5b-42c8-ca0f-b140bc9d16a0"
      },
      "execution_count": null,
      "outputs": [
        {
          "output_type": "execute_result",
          "data": {
            "text/plain": [
              "             category        first     last   gender           street  \\\n",
              "count         1852394      1852394  1852394  1852394          1852394   \n",
              "unique             14          355      486        2              999   \n",
              "top     gas_transport  Christopher    Smith        F  444 Robert Mews   \n",
              "freq           188029        38112    40940  1014749             4392   \n",
              "\n",
              "              city    state                         trans_num  \\\n",
              "count      1852394  1852394                           1852394   \n",
              "unique         906       51                           1852394   \n",
              "top     Birmingham       TX  0b242abb623afc578575680df30655b9   \n",
              "freq          8040   135269                                 1   \n",
              "\n",
              "                   mearch_coord  \n",
              "count                   1852394  \n",
              "unique                  1852394  \n",
              "top     (36.011293, -82.048315)  \n",
              "freq                          1  "
            ],
            "text/html": [
              "\n",
              "  <div id=\"df-80152a99-4da9-4073-bbbc-90b68d5c58df\">\n",
              "    <div class=\"colab-df-container\">\n",
              "      <div>\n",
              "<style scoped>\n",
              "    .dataframe tbody tr th:only-of-type {\n",
              "        vertical-align: middle;\n",
              "    }\n",
              "\n",
              "    .dataframe tbody tr th {\n",
              "        vertical-align: top;\n",
              "    }\n",
              "\n",
              "    .dataframe thead th {\n",
              "        text-align: right;\n",
              "    }\n",
              "</style>\n",
              "<table border=\"1\" class=\"dataframe\">\n",
              "  <thead>\n",
              "    <tr style=\"text-align: right;\">\n",
              "      <th></th>\n",
              "      <th>category</th>\n",
              "      <th>first</th>\n",
              "      <th>last</th>\n",
              "      <th>gender</th>\n",
              "      <th>street</th>\n",
              "      <th>city</th>\n",
              "      <th>state</th>\n",
              "      <th>trans_num</th>\n",
              "      <th>mearch_coord</th>\n",
              "    </tr>\n",
              "  </thead>\n",
              "  <tbody>\n",
              "    <tr>\n",
              "      <th>count</th>\n",
              "      <td>1852394</td>\n",
              "      <td>1852394</td>\n",
              "      <td>1852394</td>\n",
              "      <td>1852394</td>\n",
              "      <td>1852394</td>\n",
              "      <td>1852394</td>\n",
              "      <td>1852394</td>\n",
              "      <td>1852394</td>\n",
              "      <td>1852394</td>\n",
              "    </tr>\n",
              "    <tr>\n",
              "      <th>unique</th>\n",
              "      <td>14</td>\n",
              "      <td>355</td>\n",
              "      <td>486</td>\n",
              "      <td>2</td>\n",
              "      <td>999</td>\n",
              "      <td>906</td>\n",
              "      <td>51</td>\n",
              "      <td>1852394</td>\n",
              "      <td>1852394</td>\n",
              "    </tr>\n",
              "    <tr>\n",
              "      <th>top</th>\n",
              "      <td>gas_transport</td>\n",
              "      <td>Christopher</td>\n",
              "      <td>Smith</td>\n",
              "      <td>F</td>\n",
              "      <td>444 Robert Mews</td>\n",
              "      <td>Birmingham</td>\n",
              "      <td>TX</td>\n",
              "      <td>0b242abb623afc578575680df30655b9</td>\n",
              "      <td>(36.011293, -82.048315)</td>\n",
              "    </tr>\n",
              "    <tr>\n",
              "      <th>freq</th>\n",
              "      <td>188029</td>\n",
              "      <td>38112</td>\n",
              "      <td>40940</td>\n",
              "      <td>1014749</td>\n",
              "      <td>4392</td>\n",
              "      <td>8040</td>\n",
              "      <td>135269</td>\n",
              "      <td>1</td>\n",
              "      <td>1</td>\n",
              "    </tr>\n",
              "  </tbody>\n",
              "</table>\n",
              "</div>\n",
              "      <button class=\"colab-df-convert\" onclick=\"convertToInteractive('df-80152a99-4da9-4073-bbbc-90b68d5c58df')\"\n",
              "              title=\"Convert this dataframe to an interactive table.\"\n",
              "              style=\"display:none;\">\n",
              "        \n",
              "  <svg xmlns=\"http://www.w3.org/2000/svg\" height=\"24px\"viewBox=\"0 0 24 24\"\n",
              "       width=\"24px\">\n",
              "    <path d=\"M0 0h24v24H0V0z\" fill=\"none\"/>\n",
              "    <path d=\"M18.56 5.44l.94 2.06.94-2.06 2.06-.94-2.06-.94-.94-2.06-.94 2.06-2.06.94zm-11 1L8.5 8.5l.94-2.06 2.06-.94-2.06-.94L8.5 2.5l-.94 2.06-2.06.94zm10 10l.94 2.06.94-2.06 2.06-.94-2.06-.94-.94-2.06-.94 2.06-2.06.94z\"/><path d=\"M17.41 7.96l-1.37-1.37c-.4-.4-.92-.59-1.43-.59-.52 0-1.04.2-1.43.59L10.3 9.45l-7.72 7.72c-.78.78-.78 2.05 0 2.83L4 21.41c.39.39.9.59 1.41.59.51 0 1.02-.2 1.41-.59l7.78-7.78 2.81-2.81c.8-.78.8-2.07 0-2.86zM5.41 20L4 18.59l7.72-7.72 1.47 1.35L5.41 20z\"/>\n",
              "  </svg>\n",
              "      </button>\n",
              "      \n",
              "  <style>\n",
              "    .colab-df-container {\n",
              "      display:flex;\n",
              "      flex-wrap:wrap;\n",
              "      gap: 12px;\n",
              "    }\n",
              "\n",
              "    .colab-df-convert {\n",
              "      background-color: #E8F0FE;\n",
              "      border: none;\n",
              "      border-radius: 50%;\n",
              "      cursor: pointer;\n",
              "      display: none;\n",
              "      fill: #1967D2;\n",
              "      height: 32px;\n",
              "      padding: 0 0 0 0;\n",
              "      width: 32px;\n",
              "    }\n",
              "\n",
              "    .colab-df-convert:hover {\n",
              "      background-color: #E2EBFA;\n",
              "      box-shadow: 0px 1px 2px rgba(60, 64, 67, 0.3), 0px 1px 3px 1px rgba(60, 64, 67, 0.15);\n",
              "      fill: #174EA6;\n",
              "    }\n",
              "\n",
              "    [theme=dark] .colab-df-convert {\n",
              "      background-color: #3B4455;\n",
              "      fill: #D2E3FC;\n",
              "    }\n",
              "\n",
              "    [theme=dark] .colab-df-convert:hover {\n",
              "      background-color: #434B5C;\n",
              "      box-shadow: 0px 1px 3px 1px rgba(0, 0, 0, 0.15);\n",
              "      filter: drop-shadow(0px 1px 2px rgba(0, 0, 0, 0.3));\n",
              "      fill: #FFFFFF;\n",
              "    }\n",
              "  </style>\n",
              "\n",
              "      <script>\n",
              "        const buttonEl =\n",
              "          document.querySelector('#df-80152a99-4da9-4073-bbbc-90b68d5c58df button.colab-df-convert');\n",
              "        buttonEl.style.display =\n",
              "          google.colab.kernel.accessAllowed ? 'block' : 'none';\n",
              "\n",
              "        async function convertToInteractive(key) {\n",
              "          const element = document.querySelector('#df-80152a99-4da9-4073-bbbc-90b68d5c58df');\n",
              "          const dataTable =\n",
              "            await google.colab.kernel.invokeFunction('convertToInteractive',\n",
              "                                                     [key], {});\n",
              "          if (!dataTable) return;\n",
              "\n",
              "          const docLinkHtml = 'Like what you see? Visit the ' +\n",
              "            '<a target=\"_blank\" href=https://colab.research.google.com/notebooks/data_table.ipynb>data table notebook</a>'\n",
              "            + ' to learn more about interactive tables.';\n",
              "          element.innerHTML = '';\n",
              "          dataTable['output_type'] = 'display_data';\n",
              "          await google.colab.output.renderOutput(dataTable, element);\n",
              "          const docLink = document.createElement('div');\n",
              "          docLink.innerHTML = docLinkHtml;\n",
              "          element.appendChild(docLink);\n",
              "        }\n",
              "      </script>\n",
              "    </div>\n",
              "  </div>\n",
              "  "
            ]
          },
          "metadata": {},
          "execution_count": 94
        }
      ]
    },
    {
      "cell_type": "code",
      "source": [
        "df=pd.get_dummies(df, columns=df.describe(include='O').columns)\n",
        "df"
      ],
      "metadata": {
        "id": "jEjTTwBM7feH",
        "colab": {
          "base_uri": "https://localhost:8080/",
          "height": 329
        },
        "outputId": "a00ac4f9-0758-4e12-861b-ea4824702ad2"
      },
      "execution_count": null,
      "outputs": [
        {
          "output_type": "error",
          "ename": "KeyboardInterrupt",
          "evalue": "ignored",
          "traceback": [
            "\u001b[0;31m---------------------------------------------------------------------------\u001b[0m",
            "\u001b[0;31mKeyboardInterrupt\u001b[0m                         Traceback (most recent call last)",
            "\u001b[0;32m<ipython-input-95-6bc0ee543273>\u001b[0m in \u001b[0;36m<module>\u001b[0;34m\u001b[0m\n\u001b[0;32m----> 1\u001b[0;31m \u001b[0mdf\u001b[0m\u001b[0;34m=\u001b[0m\u001b[0mpd\u001b[0m\u001b[0;34m.\u001b[0m\u001b[0mget_dummies\u001b[0m\u001b[0;34m(\u001b[0m\u001b[0mdf\u001b[0m\u001b[0;34m,\u001b[0m \u001b[0mcolumns\u001b[0m\u001b[0;34m=\u001b[0m\u001b[0mdf\u001b[0m\u001b[0;34m.\u001b[0m\u001b[0mdescribe\u001b[0m\u001b[0;34m(\u001b[0m\u001b[0minclude\u001b[0m\u001b[0;34m=\u001b[0m\u001b[0;34m'O'\u001b[0m\u001b[0;34m)\u001b[0m\u001b[0;34m.\u001b[0m\u001b[0mcolumns\u001b[0m\u001b[0;34m)\u001b[0m\u001b[0;34m\u001b[0m\u001b[0;34m\u001b[0m\u001b[0m\n\u001b[0m",
            "\u001b[0;32m/usr/local/lib/python3.9/dist-packages/pandas/core/reshape/reshape.py\u001b[0m in \u001b[0;36mget_dummies\u001b[0;34m(data, prefix, prefix_sep, dummy_na, columns, sparse, drop_first, dtype)\u001b[0m\n\u001b[1;32m    975\u001b[0m         \u001b[0;32mfor\u001b[0m \u001b[0;34m(\u001b[0m\u001b[0mcol\u001b[0m\u001b[0;34m,\u001b[0m \u001b[0mpre\u001b[0m\u001b[0;34m,\u001b[0m \u001b[0msep\u001b[0m\u001b[0;34m)\u001b[0m \u001b[0;32min\u001b[0m \u001b[0mzip\u001b[0m\u001b[0;34m(\u001b[0m\u001b[0mdata_to_encode\u001b[0m\u001b[0;34m.\u001b[0m\u001b[0mitems\u001b[0m\u001b[0;34m(\u001b[0m\u001b[0;34m)\u001b[0m\u001b[0;34m,\u001b[0m \u001b[0mprefix\u001b[0m\u001b[0;34m,\u001b[0m \u001b[0mprefix_sep\u001b[0m\u001b[0;34m)\u001b[0m\u001b[0;34m:\u001b[0m\u001b[0;34m\u001b[0m\u001b[0;34m\u001b[0m\u001b[0m\n\u001b[1;32m    976\u001b[0m             \u001b[0;31m# col is (column_name, column), use just column data here\u001b[0m\u001b[0;34m\u001b[0m\u001b[0;34m\u001b[0m\u001b[0m\n\u001b[0;32m--> 977\u001b[0;31m             dummy = _get_dummies_1d(\n\u001b[0m\u001b[1;32m    978\u001b[0m                 \u001b[0mcol\u001b[0m\u001b[0;34m[\u001b[0m\u001b[0;36m1\u001b[0m\u001b[0;34m]\u001b[0m\u001b[0;34m,\u001b[0m\u001b[0;34m\u001b[0m\u001b[0;34m\u001b[0m\u001b[0m\n\u001b[1;32m    979\u001b[0m                 \u001b[0mprefix\u001b[0m\u001b[0;34m=\u001b[0m\u001b[0mpre\u001b[0m\u001b[0;34m,\u001b[0m\u001b[0;34m\u001b[0m\u001b[0;34m\u001b[0m\u001b[0m\n",
            "\u001b[0;32m/usr/local/lib/python3.9/dist-packages/pandas/core/reshape/reshape.py\u001b[0m in \u001b[0;36m_get_dummies_1d\u001b[0;34m(data, prefix, prefix_sep, dummy_na, sparse, drop_first, dtype)\u001b[0m\n\u001b[1;32m   1011\u001b[0m \u001b[0;34m\u001b[0m\u001b[0m\n\u001b[1;32m   1012\u001b[0m     \u001b[0;31m# Series avoids inconsistent NaN handling\u001b[0m\u001b[0;34m\u001b[0m\u001b[0;34m\u001b[0m\u001b[0m\n\u001b[0;32m-> 1013\u001b[0;31m     \u001b[0mcodes\u001b[0m\u001b[0;34m,\u001b[0m \u001b[0mlevels\u001b[0m \u001b[0;34m=\u001b[0m \u001b[0mfactorize_from_iterable\u001b[0m\u001b[0;34m(\u001b[0m\u001b[0mSeries\u001b[0m\u001b[0;34m(\u001b[0m\u001b[0mdata\u001b[0m\u001b[0;34m)\u001b[0m\u001b[0;34m)\u001b[0m\u001b[0;34m\u001b[0m\u001b[0;34m\u001b[0m\u001b[0m\n\u001b[0m\u001b[1;32m   1014\u001b[0m \u001b[0;34m\u001b[0m\u001b[0m\n\u001b[1;32m   1015\u001b[0m     \u001b[0;32mif\u001b[0m \u001b[0mdtype\u001b[0m \u001b[0;32mis\u001b[0m \u001b[0;32mNone\u001b[0m\u001b[0;34m:\u001b[0m\u001b[0;34m\u001b[0m\u001b[0;34m\u001b[0m\u001b[0m\n",
            "\u001b[0;32m/usr/local/lib/python3.9/dist-packages/pandas/core/arrays/categorical.py\u001b[0m in \u001b[0;36mfactorize_from_iterable\u001b[0;34m(values)\u001b[0m\n\u001b[1;32m   2852\u001b[0m         \u001b[0;31m# but only the resulting categories, the order of which is independent\u001b[0m\u001b[0;34m\u001b[0m\u001b[0;34m\u001b[0m\u001b[0m\n\u001b[1;32m   2853\u001b[0m         \u001b[0;31m# from ordered. Set ordered to False as default. See GH #15457\u001b[0m\u001b[0;34m\u001b[0m\u001b[0;34m\u001b[0m\u001b[0m\n\u001b[0;32m-> 2854\u001b[0;31m         \u001b[0mcat\u001b[0m \u001b[0;34m=\u001b[0m \u001b[0mCategorical\u001b[0m\u001b[0;34m(\u001b[0m\u001b[0mvalues\u001b[0m\u001b[0;34m,\u001b[0m \u001b[0mordered\u001b[0m\u001b[0;34m=\u001b[0m\u001b[0;32mFalse\u001b[0m\u001b[0;34m)\u001b[0m\u001b[0;34m\u001b[0m\u001b[0;34m\u001b[0m\u001b[0m\n\u001b[0m\u001b[1;32m   2855\u001b[0m         \u001b[0mcategories\u001b[0m \u001b[0;34m=\u001b[0m \u001b[0mcat\u001b[0m\u001b[0;34m.\u001b[0m\u001b[0mcategories\u001b[0m\u001b[0;34m\u001b[0m\u001b[0;34m\u001b[0m\u001b[0m\n\u001b[1;32m   2856\u001b[0m         \u001b[0mcodes\u001b[0m \u001b[0;34m=\u001b[0m \u001b[0mcat\u001b[0m\u001b[0;34m.\u001b[0m\u001b[0mcodes\u001b[0m\u001b[0;34m\u001b[0m\u001b[0;34m\u001b[0m\u001b[0m\n",
            "\u001b[0;32m/usr/local/lib/python3.9/dist-packages/pandas/core/arrays/categorical.py\u001b[0m in \u001b[0;36m__init__\u001b[0;34m(self, values, categories, ordered, dtype, fastpath, copy)\u001b[0m\n\u001b[1;32m    436\u001b[0m         \u001b[0;32mif\u001b[0m \u001b[0mdtype\u001b[0m\u001b[0;34m.\u001b[0m\u001b[0mcategories\u001b[0m \u001b[0;32mis\u001b[0m \u001b[0;32mNone\u001b[0m\u001b[0;34m:\u001b[0m\u001b[0;34m\u001b[0m\u001b[0;34m\u001b[0m\u001b[0m\n\u001b[1;32m    437\u001b[0m             \u001b[0;32mtry\u001b[0m\u001b[0;34m:\u001b[0m\u001b[0;34m\u001b[0m\u001b[0;34m\u001b[0m\u001b[0m\n\u001b[0;32m--> 438\u001b[0;31m                 \u001b[0mcodes\u001b[0m\u001b[0;34m,\u001b[0m \u001b[0mcategories\u001b[0m \u001b[0;34m=\u001b[0m \u001b[0mfactorize\u001b[0m\u001b[0;34m(\u001b[0m\u001b[0mvalues\u001b[0m\u001b[0;34m,\u001b[0m \u001b[0msort\u001b[0m\u001b[0;34m=\u001b[0m\u001b[0;32mTrue\u001b[0m\u001b[0;34m)\u001b[0m\u001b[0;34m\u001b[0m\u001b[0;34m\u001b[0m\u001b[0m\n\u001b[0m\u001b[1;32m    439\u001b[0m             \u001b[0;32mexcept\u001b[0m \u001b[0mTypeError\u001b[0m \u001b[0;32mas\u001b[0m \u001b[0merr\u001b[0m\u001b[0;34m:\u001b[0m\u001b[0;34m\u001b[0m\u001b[0;34m\u001b[0m\u001b[0m\n\u001b[1;32m    440\u001b[0m                 \u001b[0mcodes\u001b[0m\u001b[0;34m,\u001b[0m \u001b[0mcategories\u001b[0m \u001b[0;34m=\u001b[0m \u001b[0mfactorize\u001b[0m\u001b[0;34m(\u001b[0m\u001b[0mvalues\u001b[0m\u001b[0;34m,\u001b[0m \u001b[0msort\u001b[0m\u001b[0;34m=\u001b[0m\u001b[0;32mFalse\u001b[0m\u001b[0;34m)\u001b[0m\u001b[0;34m\u001b[0m\u001b[0;34m\u001b[0m\u001b[0m\n",
            "\u001b[0;32m/usr/local/lib/python3.9/dist-packages/pandas/core/algorithms.py\u001b[0m in \u001b[0;36mfactorize\u001b[0;34m(values, sort, na_sentinel, size_hint)\u001b[0m\n\u001b[1;32m    761\u001b[0m             \u001b[0mna_value\u001b[0m \u001b[0;34m=\u001b[0m \u001b[0;32mNone\u001b[0m\u001b[0;34m\u001b[0m\u001b[0;34m\u001b[0m\u001b[0m\n\u001b[1;32m    762\u001b[0m \u001b[0;34m\u001b[0m\u001b[0m\n\u001b[0;32m--> 763\u001b[0;31m         codes, uniques = factorize_array(\n\u001b[0m\u001b[1;32m    764\u001b[0m             \u001b[0mvalues\u001b[0m\u001b[0;34m,\u001b[0m \u001b[0mna_sentinel\u001b[0m\u001b[0;34m=\u001b[0m\u001b[0mna_sentinel\u001b[0m\u001b[0;34m,\u001b[0m \u001b[0msize_hint\u001b[0m\u001b[0;34m=\u001b[0m\u001b[0msize_hint\u001b[0m\u001b[0;34m,\u001b[0m \u001b[0mna_value\u001b[0m\u001b[0;34m=\u001b[0m\u001b[0mna_value\u001b[0m\u001b[0;34m\u001b[0m\u001b[0;34m\u001b[0m\u001b[0m\n\u001b[1;32m    765\u001b[0m         )\n",
            "\u001b[0;32m/usr/local/lib/python3.9/dist-packages/pandas/core/algorithms.py\u001b[0m in \u001b[0;36mfactorize_array\u001b[0;34m(values, na_sentinel, size_hint, na_value, mask)\u001b[0m\n\u001b[1;32m    558\u001b[0m \u001b[0;34m\u001b[0m\u001b[0m\n\u001b[1;32m    559\u001b[0m     \u001b[0mtable\u001b[0m \u001b[0;34m=\u001b[0m \u001b[0mhash_klass\u001b[0m\u001b[0;34m(\u001b[0m\u001b[0msize_hint\u001b[0m \u001b[0;32mor\u001b[0m \u001b[0mlen\u001b[0m\u001b[0;34m(\u001b[0m\u001b[0mvalues\u001b[0m\u001b[0;34m)\u001b[0m\u001b[0;34m)\u001b[0m\u001b[0;34m\u001b[0m\u001b[0;34m\u001b[0m\u001b[0m\n\u001b[0;32m--> 560\u001b[0;31m     uniques, codes = table.factorize(\n\u001b[0m\u001b[1;32m    561\u001b[0m         \u001b[0mvalues\u001b[0m\u001b[0;34m,\u001b[0m \u001b[0mna_sentinel\u001b[0m\u001b[0;34m=\u001b[0m\u001b[0mna_sentinel\u001b[0m\u001b[0;34m,\u001b[0m \u001b[0mna_value\u001b[0m\u001b[0;34m=\u001b[0m\u001b[0mna_value\u001b[0m\u001b[0;34m,\u001b[0m \u001b[0mmask\u001b[0m\u001b[0;34m=\u001b[0m\u001b[0mmask\u001b[0m\u001b[0;34m\u001b[0m\u001b[0;34m\u001b[0m\u001b[0m\n\u001b[1;32m    562\u001b[0m     )\n",
            "\u001b[0;31mKeyboardInterrupt\u001b[0m: "
          ]
        }
      ]
    },
    {
      "cell_type": "markdown",
      "source": [
        "# 모델링"
      ],
      "metadata": {
        "id": "lzMZq52q7y-n"
      }
    },
    {
      "cell_type": "markdown",
      "source": [
        "## 훈련셋/시험셋"
      ],
      "metadata": {
        "id": "DFOyjKN171YU"
      }
    },
    {
      "cell_type": "code",
      "source": [
        "# 과거의 이상거래를 사용해서 -> 미래의 이상거래를 감지\n",
        "# 시간 단위로 훈련셋/시험셋을 나눠줘야함\n",
        "# grid search cv, train_test_split\n",
        "# 날짜 단위로 나눠주기"
      ],
      "metadata": {
        "id": "dHI_Uz8773Cb"
      },
      "execution_count": null,
      "outputs": []
    },
    {
      "cell_type": "code",
      "source": [
        "df.index"
      ],
      "metadata": {
        "colab": {
          "base_uri": "https://localhost:8080/"
        },
        "id": "Cd-aBwGX8E-x",
        "outputId": "f22a6d36-168d-40ca-f976-9c62e8c1b2d2"
      },
      "execution_count": null,
      "outputs": [
        {
          "output_type": "execute_result",
          "data": {
            "text/plain": [
              "Int64Index([      0,       1,       2,       3,       4,       5,       6,\n",
              "                  7,       8,       9,\n",
              "            ...\n",
              "            1852384, 1852385, 1852386, 1852387, 1852388, 1852389, 1852390,\n",
              "            1852391, 1852392, 1852393],\n",
              "           dtype='int64', length=1852394)"
            ]
          },
          "metadata": {},
          "execution_count": 83
        }
      ]
    },
    {
      "cell_type": "code",
      "source": [
        "# trans_date_trans_time -> dt 인덱스\n",
        "df.set_index('trans_date_trans_time', inplace=True)"
      ],
      "metadata": {
        "id": "w4I3Ayu08JeP"
      },
      "execution_count": null,
      "outputs": []
    },
    {
      "cell_type": "code",
      "source": [
        "df.index # 2020-07-01 이전, 이후 데이터 나눠서 train, test\n"
      ],
      "metadata": {
        "colab": {
          "base_uri": "https://localhost:8080/"
        },
        "id": "YYkNzR8y8Qns",
        "outputId": "d518592f-3e30-4b4f-a5ee-f35263430070"
      },
      "execution_count": null,
      "outputs": [
        {
          "output_type": "execute_result",
          "data": {
            "text/plain": [
              "DatetimeIndex(['2019-01-01 00:00:18', '2019-01-01 16:53:34',\n",
              "               '2019-01-01 23:02:37', '2019-01-03 01:40:38',\n",
              "               '2019-01-03 15:24:11', '2019-01-04 06:18:05',\n",
              "               '2019-01-04 08:59:57', '2019-01-04 14:19:03',\n",
              "               '2019-01-04 20:55:05', '2019-01-04 21:33:13',\n",
              "               ...\n",
              "               '2020-12-21 03:29:08', '2020-12-21 22:36:56',\n",
              "               '2020-12-21 23:57:16', '2020-12-22 03:56:29',\n",
              "               '2020-12-22 14:30:10', '2020-12-22 22:05:48',\n",
              "               '2020-12-22 22:18:07', '2020-12-22 22:31:48',\n",
              "               '2020-12-22 23:06:03', '2020-12-22 23:13:39'],\n",
              "              dtype='datetime64[ns]', name='trans_date_trans_time', length=1852394, freq=None)"
            ]
          },
          "metadata": {},
          "execution_count": 97
        }
      ]
    },
    {
      "cell_type": "code",
      "source": [
        "train = df[df.index<'2020-07-01'] # 2020년 7월 1일 이전 데이터 (경계 미포함)\n",
        "test = df[df.index>='2020-07-01']# 2020년 7월 1일 이후 데이터 (경계 포함)"
      ],
      "metadata": {
        "id": "eL3rk0Gs8Zmy"
      },
      "execution_count": null,
      "outputs": []
    },
    {
      "cell_type": "code",
      "source": [
        "# 예측값(종속변수, y) : is_fraud\n",
        "# 관측값(독립변수, X) : 나머지\n",
        "X_train = train.drop('is_fraud', axis=1)\n",
        "X_train = test.drop('is_fraud', axis=1)\n",
        "y_train = train['is_fraud']\n",
        "y_train = test.drop('is_fraud', axis=1)"
      ],
      "metadata": {
        "id": "R-VBEwA18neE"
      },
      "execution_count": null,
      "outputs": []
    },
    {
      "cell_type": "markdown",
      "source": [
        "## 모델 학습"
      ],
      "metadata": {
        "id": "rZgPOIx8-Otd"
      }
    },
    {
      "cell_type": "code",
      "source": [
        "import lightgbm as lgb"
      ],
      "metadata": {
        "id": "IJLeOYAn9Fcc"
      },
      "execution_count": null,
      "outputs": []
    },
    {
      "cell_type": "code",
      "source": [
        "# 연속형 변수를 예측하는 '회귀' 문제를 푼다면? lgb.LGBMRegressor\n",
        "# 범주형 변수를 예측하는 '분류' 문제를 푼다면? lgb.LGBMClassifier\n",
        "\n",
        "model = lgb.LGBMClassifier(random_state=324)"
      ],
      "metadata": {
        "id": "q7Y5OQFc9eNz"
      },
      "execution_count": null,
      "outputs": []
    },
    {
      "cell_type": "code",
      "source": [
        "model.fit(X_train,y_train)"
      ],
      "metadata": {
        "colab": {
          "base_uri": "https://localhost:8080/",
          "height": 329
        },
        "id": "7ilDPN1f9ycb",
        "outputId": "f5692a74-9117-4ec0-a4c3-491a8e16b978"
      },
      "execution_count": null,
      "outputs": [
        {
          "output_type": "error",
          "ename": "ValueError",
          "evalue": "ignored",
          "traceback": [
            "\u001b[0;31m---------------------------------------------------------------------------\u001b[0m",
            "\u001b[0;31mValueError\u001b[0m                                Traceback (most recent call last)",
            "\u001b[0;32m<ipython-input-103-b7a8c64777c1>\u001b[0m in \u001b[0;36m<module>\u001b[0;34m\u001b[0m\n\u001b[0;32m----> 1\u001b[0;31m \u001b[0mmodel\u001b[0m\u001b[0;34m.\u001b[0m\u001b[0mfit\u001b[0m\u001b[0;34m(\u001b[0m\u001b[0mX_train\u001b[0m\u001b[0;34m,\u001b[0m\u001b[0my_train\u001b[0m\u001b[0;34m)\u001b[0m\u001b[0;34m\u001b[0m\u001b[0;34m\u001b[0m\u001b[0m\n\u001b[0m",
            "\u001b[0;32m/usr/local/lib/python3.9/dist-packages/lightgbm/sklearn.py\u001b[0m in \u001b[0;36mfit\u001b[0;34m(self, X, y, sample_weight, init_score, eval_set, eval_names, eval_sample_weight, eval_class_weight, eval_init_score, eval_metric, early_stopping_rounds, verbose, feature_name, categorical_feature, callbacks, init_model)\u001b[0m\n\u001b[1;32m    920\u001b[0m             callbacks=None, init_model=None):\n\u001b[1;32m    921\u001b[0m         \u001b[0;34m\"\"\"Docstring is inherited from the LGBMModel.\"\"\"\u001b[0m\u001b[0;34m\u001b[0m\u001b[0;34m\u001b[0m\u001b[0m\n\u001b[0;32m--> 922\u001b[0;31m         \u001b[0m_LGBMAssertAllFinite\u001b[0m\u001b[0;34m(\u001b[0m\u001b[0my\u001b[0m\u001b[0;34m)\u001b[0m\u001b[0;34m\u001b[0m\u001b[0;34m\u001b[0m\u001b[0m\n\u001b[0m\u001b[1;32m    923\u001b[0m         \u001b[0m_LGBMCheckClassificationTargets\u001b[0m\u001b[0;34m(\u001b[0m\u001b[0my\u001b[0m\u001b[0;34m)\u001b[0m\u001b[0;34m\u001b[0m\u001b[0;34m\u001b[0m\u001b[0m\n\u001b[1;32m    924\u001b[0m         \u001b[0mself\u001b[0m\u001b[0;34m.\u001b[0m\u001b[0m_le\u001b[0m \u001b[0;34m=\u001b[0m \u001b[0m_LGBMLabelEncoder\u001b[0m\u001b[0;34m(\u001b[0m\u001b[0;34m)\u001b[0m\u001b[0;34m.\u001b[0m\u001b[0mfit\u001b[0m\u001b[0;34m(\u001b[0m\u001b[0my\u001b[0m\u001b[0;34m)\u001b[0m\u001b[0;34m\u001b[0m\u001b[0;34m\u001b[0m\u001b[0m\n",
            "\u001b[0;32m/usr/local/lib/python3.9/dist-packages/sklearn/utils/validation.py\u001b[0m in \u001b[0;36massert_all_finite\u001b[0;34m(X, allow_nan, estimator_name, input_name)\u001b[0m\n\u001b[1;32m    188\u001b[0m         \u001b[0mdocumentation\u001b[0m\u001b[0;34m.\u001b[0m\u001b[0;34m\u001b[0m\u001b[0;34m\u001b[0m\u001b[0m\n\u001b[1;32m    189\u001b[0m     \"\"\"\n\u001b[0;32m--> 190\u001b[0;31m     _assert_all_finite(\n\u001b[0m\u001b[1;32m    191\u001b[0m         \u001b[0mX\u001b[0m\u001b[0;34m.\u001b[0m\u001b[0mdata\u001b[0m \u001b[0;32mif\u001b[0m \u001b[0msp\u001b[0m\u001b[0;34m.\u001b[0m\u001b[0missparse\u001b[0m\u001b[0;34m(\u001b[0m\u001b[0mX\u001b[0m\u001b[0;34m)\u001b[0m \u001b[0;32melse\u001b[0m \u001b[0mX\u001b[0m\u001b[0;34m,\u001b[0m\u001b[0;34m\u001b[0m\u001b[0;34m\u001b[0m\u001b[0m\n\u001b[1;32m    192\u001b[0m         \u001b[0mallow_nan\u001b[0m\u001b[0;34m=\u001b[0m\u001b[0mallow_nan\u001b[0m\u001b[0;34m,\u001b[0m\u001b[0;34m\u001b[0m\u001b[0;34m\u001b[0m\u001b[0m\n",
            "\u001b[0;32m/usr/local/lib/python3.9/dist-packages/sklearn/utils/validation.py\u001b[0m in \u001b[0;36m_assert_all_finite\u001b[0;34m(X, allow_nan, msg_dtype, estimator_name, input_name)\u001b[0m\n\u001b[1;32m    109\u001b[0m     \u001b[0;32mif\u001b[0m \u001b[0mX\u001b[0m\u001b[0;34m.\u001b[0m\u001b[0mdtype\u001b[0m \u001b[0;34m==\u001b[0m \u001b[0mnp\u001b[0m\u001b[0;34m.\u001b[0m\u001b[0mdtype\u001b[0m\u001b[0;34m(\u001b[0m\u001b[0;34m\"object\"\u001b[0m\u001b[0;34m)\u001b[0m \u001b[0;32mand\u001b[0m \u001b[0;32mnot\u001b[0m \u001b[0mallow_nan\u001b[0m\u001b[0;34m:\u001b[0m\u001b[0;34m\u001b[0m\u001b[0;34m\u001b[0m\u001b[0m\n\u001b[1;32m    110\u001b[0m         \u001b[0;32mif\u001b[0m \u001b[0m_object_dtype_isnan\u001b[0m\u001b[0;34m(\u001b[0m\u001b[0mX\u001b[0m\u001b[0;34m)\u001b[0m\u001b[0;34m.\u001b[0m\u001b[0many\u001b[0m\u001b[0;34m(\u001b[0m\u001b[0;34m)\u001b[0m\u001b[0;34m:\u001b[0m\u001b[0;34m\u001b[0m\u001b[0;34m\u001b[0m\u001b[0m\n\u001b[0;32m--> 111\u001b[0;31m             \u001b[0;32mraise\u001b[0m \u001b[0mValueError\u001b[0m\u001b[0;34m(\u001b[0m\u001b[0;34m\"Input contains NaN\"\u001b[0m\u001b[0;34m)\u001b[0m\u001b[0;34m\u001b[0m\u001b[0;34m\u001b[0m\u001b[0m\n\u001b[0m\u001b[1;32m    112\u001b[0m \u001b[0;34m\u001b[0m\u001b[0m\n\u001b[1;32m    113\u001b[0m     \u001b[0;31m# We need only consider float arrays, hence can early return for all else.\u001b[0m\u001b[0;34m\u001b[0m\u001b[0;34m\u001b[0m\u001b[0m\n",
            "\u001b[0;31mValueError\u001b[0m: Input contains NaN"
          ]
        }
      ]
    },
    {
      "cell_type": "code",
      "source": [
        "pred=model.predict(X_test)"
      ],
      "metadata": {
        "id": "hZK5JuNu91TM"
      },
      "execution_count": null,
      "outputs": []
    },
    {
      "cell_type": "code",
      "source": [
        "from sklearn.metrics import accuracy_score\n",
        "\n",
        "accuracy_score(y_test, pred)"
      ],
      "metadata": {
        "colab": {
          "base_uri": "https://localhost:8080/"
        },
        "id": "TE08-3p-97Dr",
        "outputId": "a526be94-be89-46da-edf3-28c5f6bdeabd"
      },
      "execution_count": null,
      "outputs": [
        {
          "output_type": "execute_result",
          "data": {
            "text/plain": [
              "0.9965186688759485"
            ]
          },
          "metadata": {},
          "execution_count": 93
        }
      ]
    },
    {
      "cell_type": "code",
      "source": [
        "1 - df.is_fraoud.mean()"
      ],
      "metadata": {
        "colab": {
          "base_uri": "https://localhost:8080/"
        },
        "id": "tokvzZVd-EjJ",
        "outputId": "a9e3fa79-1a0f-423a-877b-1ddea6a9bf07"
      },
      "execution_count": null,
      "outputs": [
        {
          "output_type": "execute_result",
          "data": {
            "text/plain": [
              "0.9947899852839083"
            ]
          },
          "metadata": {},
          "execution_count": 94
        }
      ]
    },
    {
      "cell_type": "markdown",
      "source": [
        "# 평가"
      ],
      "metadata": {
        "id": "CXsz9aaJCgfL"
      }
    },
    {
      "cell_type": "code",
      "source": [
        "from sklearn.metrics import confusion_matrix, classification_report, roc_auc_score"
      ],
      "metadata": {
        "id": "mfe9yYSACiR0"
      },
      "execution_count": null,
      "outputs": []
    },
    {
      "cell_type": "code",
      "source": [
        "# 실제 y값, 예측 y값을 넣어주면 confusion matrix를 그려주는 함수\n",
        "def confusion_matrix_view(y_test, pred):\n",
        "    cf_matrix = confusion_matrix(y_test, pred) # 배열 \n",
        "    #  [ [ TN , FP ],\n",
        "    #    [ FN , TP ] ]\n",
        "    print(cf_matrix)\n",
        "    group_names = ['TN','FP','FN','TP'] # 각기 4개의 그룹으로\n",
        "    # TN : 실제 0, 분류 0\n",
        "    # TP : 실제 1, 분류 1\n",
        "    # FP : 위양성, 실제 0, 분류 1 -> 1종 오류\n",
        "    # FN : 위음성, 실제 1, 분류 0 -> 2종 오류\n",
        "    group_counts = [\"{0:0.0f}\".format(value) for value in\n",
        "                    cf_matrix.flatten()] # 그룹별 갯수 / arr.flatten() -> 한 줄로\n",
        "    group_percentages = [\"{0:.2%}\".format(value) for value in\n",
        "                        cf_matrix.flatten()/np.sum(cf_matrix)] # 그룹별 비중, 비율\n",
        "                        # flatten -> 2 x 2 -> 4 -> 합계로 나눠준 것\n",
        "    # v1 : 그룹명 -> 이진분류(TN,FP,FN,TP...) -> 3개이상이면? 0->1, 1->1...\n",
        "    # v2 : 그룹별 갯수\n",
        "    # v3 : 그룹별 비중(비율)\n",
        "    # \\n -> Enter (줄바꿈)\n",
        "    labels = [f\"{v1}\\n{v2}\\n{v3}\" for v1, v2, v3 in\n",
        "            zip(group_names,group_counts,group_percentages)]\n",
        "    labels = np.asarray(labels).reshape(2,2) # 2 x 2\n",
        "    # ['TN','FP','FN','TP']\n",
        "    '''\n",
        "      [['TN','FP'],\n",
        "       ['FN','TP']]\n",
        "    '''\n",
        "    # seaborn.heatmap(열마다 크기에 따라서 색상/짙음 정도를 결정)\n",
        "    # cmap -> colormap -> 어떠한 색상표를 쓸 것이냐\n",
        "    sns.heatmap(cf_matrix, annot=labels, fmt='', cmap='coolwarm')\n",
        "    plt.ylabel('True') # 실제값\n",
        "    plt.xlabel('Predicted') # 예측값\n",
        "    plt.show()\n",
        "    # 분류 리포트\n",
        "    print(classification_report(y_test, pred))"
      ],
      "metadata": {
        "id": "yRSdxdd_C8iD"
      },
      "execution_count": null,
      "outputs": []
    },
    {
      "cell_type": "code",
      "source": [
        "confusion_matrix_view(y_test, pred)"
      ],
      "metadata": {
        "colab": {
          "base_uri": "https://localhost:8080/",
          "height": 166
        },
        "id": "Cwz3BiDcDHEj",
        "outputId": "2d81ad8e-f13e-450f-e8e2-a5672eb220d7"
      },
      "execution_count": null,
      "outputs": [
        {
          "output_type": "error",
          "ename": "NameError",
          "evalue": "ignored",
          "traceback": [
            "\u001b[0;31m---------------------------------------------------------------------------\u001b[0m",
            "\u001b[0;31mNameError\u001b[0m                                 Traceback (most recent call last)",
            "\u001b[0;32m<ipython-input-106-b2397a4f5b3e>\u001b[0m in \u001b[0;36m<module>\u001b[0;34m\u001b[0m\n\u001b[0;32m----> 1\u001b[0;31m \u001b[0mconfusion_matrix_view\u001b[0m\u001b[0;34m(\u001b[0m\u001b[0my_test\u001b[0m\u001b[0;34m,\u001b[0m \u001b[0mpred\u001b[0m\u001b[0;34m)\u001b[0m\u001b[0;34m\u001b[0m\u001b[0;34m\u001b[0m\u001b[0m\n\u001b[0m",
            "\u001b[0;31mNameError\u001b[0m: name 'y_test' is not defined"
          ]
        }
      ]
    },
    {
      "cell_type": "code",
      "source": [
        "# 정밀도 - precision - 1종 오류 (FP)\n",
        "# 재현율 - recall - 2종 오류 (FN)\n",
        "# f1 점수 - 정밀도와 재현율의 조화평균 -> 두 수치의 영향력을 모두 확인\n",
        "print(classification_report(y_test, pred))"
      ],
      "metadata": {
        "colab": {
          "base_uri": "https://localhost:8080/"
        },
        "id": "5thGDmawGRxs",
        "outputId": "5eaeda98-3822-4363-85d5-3665575a4715"
      },
      "execution_count": null,
      "outputs": [
        {
          "output_type": "stream",
          "name": "stdout",
          "text": [
            "              precision    recall  f1-score   support\n",
            "\n",
            "           0       1.00      1.00      1.00    523649\n",
            "           1       0.54      0.61      0.57      2012\n",
            "\n",
            "    accuracy                           1.00    525661\n",
            "   macro avg       0.77      0.80      0.79    525661\n",
            "weighted avg       1.00      1.00      1.00    525661\n",
            "\n"
          ]
        }
      ]
    },
    {
      "cell_type": "code",
      "source": [
        "# 0, 1 => 분류되기 전에 얼마나 각각의 확률이 산출되는지\n",
        "model.predict_proba(X_test) #확률알랴쥼"
      ],
      "metadata": {
        "colab": {
          "base_uri": "https://localhost:8080/"
        },
        "id": "xZIVkgaBGs_o",
        "outputId": "468da707-9b51-463c-fdc1-56241bd36e4a"
      },
      "execution_count": null,
      "outputs": [
        {
          "output_type": "execute_result",
          "data": {
            "text/plain": [
              "array([[9.99875434e-01, 1.24566042e-04],\n",
              "       [9.99877296e-01, 1.22704031e-04],\n",
              "       [9.99869010e-01, 1.30989526e-04],\n",
              "       ...,\n",
              "       [9.99868033e-01, 1.31966775e-04],\n",
              "       [9.99337678e-01, 6.62322460e-04],\n",
              "       [9.99834092e-01, 1.65908474e-04]])"
            ]
          },
          "metadata": {},
          "execution_count": 100
        }
      ]
    },
    {
      "cell_type": "code",
      "source": [
        "# 각 행 -> 입력받은 시험셋의 행 데이터별로, 각각의 분류가 될 확률\n",
        "# 2차원 행열 -> 각각 열\n",
        "# 1(0)열 : 0에 대한 예측값 (확률값)\n",
        "# 2(1)열 : 1에 대한 예측값 (확률값)\n",
        "proba=model.predict_proba(X_test)\n",
        "proba"
      ],
      "metadata": {
        "colab": {
          "base_uri": "https://localhost:8080/"
        },
        "id": "qf4PbQLcG2Pp",
        "outputId": "20a81da0-e14d-48d3-e835-3e8dd2a65d10"
      },
      "execution_count": null,
      "outputs": [
        {
          "output_type": "execute_result",
          "data": {
            "text/plain": [
              "array([[9.99875434e-01, 1.24566042e-04],\n",
              "       [9.99877296e-01, 1.22704031e-04],\n",
              "       [9.99869010e-01, 1.30989526e-04],\n",
              "       ...,\n",
              "       [9.99868033e-01, 1.31966775e-04],\n",
              "       [9.99337678e-01, 6.62322460e-04],\n",
              "       [9.99834092e-01, 1.65908474e-04]])"
            ]
          },
          "metadata": {},
          "execution_count": 101
        }
      ]
    },
    {
      "cell_type": "code",
      "source": [
        "# numpy 인덱싱 -> [행, 열] -> [:(모든 행), n]\n",
        "# 예측값이 1이 될 확률 / 이상거래일 확률\n",
        "proba[:,1]"
      ],
      "metadata": {
        "colab": {
          "base_uri": "https://localhost:8080/"
        },
        "id": "YDjXbnbSHUDi",
        "outputId": "a721c613-9486-4d34-bd57-d2f4e2db1990"
      },
      "execution_count": null,
      "outputs": [
        {
          "output_type": "execute_result",
          "data": {
            "text/plain": [
              "array([0.00012457, 0.0001227 , 0.00013099, ..., 0.00013197, 0.00066232,\n",
              "       0.00016591])"
            ]
          },
          "metadata": {},
          "execution_count": 102
        }
      ]
    },
    {
      "cell_type": "code",
      "source": [
        "# proba = 이상거래일 확률 예측치\n",
        "proba = proba[:,1]"
      ],
      "metadata": {
        "id": "G8m6sc3JHlxW",
        "colab": {
          "base_uri": "https://localhost:8080/",
          "height": 184
        },
        "outputId": "775a396f-a0f1-4243-b8c8-83ffe8a43e9b"
      },
      "execution_count": null,
      "outputs": [
        {
          "output_type": "error",
          "ename": "NameError",
          "evalue": "ignored",
          "traceback": [
            "\u001b[0;31m---------------------------------------------------------------------------\u001b[0m",
            "\u001b[0;31mNameError\u001b[0m                                 Traceback (most recent call last)",
            "\u001b[0;32m<ipython-input-107-928db9a7c074>\u001b[0m in \u001b[0;36m<module>\u001b[0;34m\u001b[0m\n\u001b[1;32m      1\u001b[0m \u001b[0;31m# proba = 이상거래일 확률 예측치\u001b[0m\u001b[0;34m\u001b[0m\u001b[0;34m\u001b[0m\u001b[0m\n\u001b[0;32m----> 2\u001b[0;31m \u001b[0mproba\u001b[0m \u001b[0;34m=\u001b[0m \u001b[0mproba\u001b[0m\u001b[0;34m[\u001b[0m\u001b[0;34m:\u001b[0m\u001b[0;34m,\u001b[0m\u001b[0;36m1\u001b[0m\u001b[0;34m]\u001b[0m\u001b[0;34m\u001b[0m\u001b[0;34m\u001b[0m\u001b[0m\n\u001b[0m",
            "\u001b[0;31mNameError\u001b[0m: name 'proba' is not defined"
          ]
        }
      ]
    },
    {
      "cell_type": "code",
      "source": [
        "# default : 0.5보다 크면 -> 1로 분류\n",
        "# 민감하게 혹은 둔감하게 처리 가능\n",
        "# case 1 : 0.2만 넘으면 1로 분류 (느슨함)\n",
        "# case 2 : 0.8을 넘어야 1로 분류 (엄격함)\n",
        "# 벡터화 연산으로 비교 연산 (> 0.2) => T/F => astype(int) 0/1\n",
        "proba_int1 = (proba > 0.2).astype(int)\n",
        "proba_int1 = (proba > 0.2)+0"
      ],
      "metadata": {
        "colab": {
          "base_uri": "https://localhost:8080/",
          "height": 201
        },
        "id": "vrJO16BbHsoi",
        "outputId": "96783803-6480-425e-9f4d-e48e3c14a05e"
      },
      "execution_count": null,
      "outputs": [
        {
          "output_type": "error",
          "ename": "NameError",
          "evalue": "ignored",
          "traceback": [
            "\u001b[0;31m---------------------------------------------------------------------------\u001b[0m",
            "\u001b[0;31mNameError\u001b[0m                                 Traceback (most recent call last)",
            "\u001b[0;32m<ipython-input-108-bd54ae57ff6c>\u001b[0m in \u001b[0;36m<module>\u001b[0;34m\u001b[0m\n\u001b[1;32m      4\u001b[0m \u001b[0;31m# case 2 : 0.8을 넘어야 1로 분류 (엄격함)\u001b[0m\u001b[0;34m\u001b[0m\u001b[0;34m\u001b[0m\u001b[0m\n\u001b[1;32m      5\u001b[0m \u001b[0;31m# 벡터화 연산으로 비교 연산 (> 0.2) => T/F => astype(int) 0/1\u001b[0m\u001b[0;34m\u001b[0m\u001b[0;34m\u001b[0m\u001b[0m\n\u001b[0;32m----> 6\u001b[0;31m \u001b[0mproba_int1\u001b[0m \u001b[0;34m=\u001b[0m \u001b[0;34m(\u001b[0m\u001b[0mproba\u001b[0m \u001b[0;34m>\u001b[0m \u001b[0;36m0.2\u001b[0m\u001b[0;34m)\u001b[0m\u001b[0;34m.\u001b[0m\u001b[0mastype\u001b[0m\u001b[0;34m(\u001b[0m\u001b[0mint\u001b[0m\u001b[0;34m)\u001b[0m\u001b[0;34m\u001b[0m\u001b[0;34m\u001b[0m\u001b[0m\n\u001b[0m",
            "\u001b[0;31mNameError\u001b[0m: name 'proba' is not defined"
          ]
        }
      ]
    },
    {
      "cell_type": "markdown",
      "source": [
        "0과 1로 구성되어 있는 데이터에 `mean` 평균을 내면 -> 1의 비중을 알 수 있음 -> 예측치로 환산한다면? -> 이상거래로 분류된 비중"
      ],
      "metadata": {
        "id": "H5NFq861IaFQ"
      }
    },
    {
      "cell_type": "code",
      "source": [
        "# 기준이 0.5일 때의 예측치\n",
        "pred.mean()   #비중이 0.003정도"
      ],
      "metadata": {
        "colab": {
          "base_uri": "https://localhost:8080/",
          "height": 184
        },
        "id": "e8gE_GrqIRi0",
        "outputId": "5abb4404-dbb4-4ec1-f630-d80738564047"
      },
      "execution_count": null,
      "outputs": [
        {
          "output_type": "error",
          "ename": "NameError",
          "evalue": "ignored",
          "traceback": [
            "\u001b[0;31m---------------------------------------------------------------------------\u001b[0m",
            "\u001b[0;31mNameError\u001b[0m                                 Traceback (most recent call last)",
            "\u001b[0;32m<ipython-input-109-bc1eb1484743>\u001b[0m in \u001b[0;36m<module>\u001b[0;34m\u001b[0m\n\u001b[1;32m      1\u001b[0m \u001b[0;31m# 기준이 0.5일 때의 예측치\u001b[0m\u001b[0;34m\u001b[0m\u001b[0;34m\u001b[0m\u001b[0m\n\u001b[0;32m----> 2\u001b[0;31m \u001b[0mpred\u001b[0m\u001b[0;34m.\u001b[0m\u001b[0mmean\u001b[0m\u001b[0;34m(\u001b[0m\u001b[0;34m)\u001b[0m\u001b[0;34m\u001b[0m\u001b[0;34m\u001b[0m\u001b[0m\n\u001b[0m",
            "\u001b[0;31mNameError\u001b[0m: name 'pred' is not defined"
          ]
        }
      ]
    },
    {
      "cell_type": "code",
      "source": [
        "# 기준이 0.2일 때의 예측치\n",
        "proba_int1.mean()     #많이 높아졋슴"
      ],
      "metadata": {
        "colab": {
          "base_uri": "https://localhost:8080/"
        },
        "id": "RF-UUAbaIPUu",
        "outputId": "162531ce-294d-450c-d367-6a621b257a22"
      },
      "execution_count": null,
      "outputs": [
        {
          "output_type": "execute_result",
          "data": {
            "text/plain": [
              "0.006190301353914405"
            ]
          },
          "metadata": {},
          "execution_count": 105
        }
      ]
    },
    {
      "cell_type": "code",
      "source": [
        "# 기준이 0.8일 때의 예측치\n",
        "proba_int2 = (proba>0.8) * 1\n",
        "proba_int2"
      ],
      "metadata": {
        "colab": {
          "base_uri": "https://localhost:8080/"
        },
        "id": "2jGervS_IxF5",
        "outputId": "0f0e64a6-d095-4625-90c1-6eca5eced9f3"
      },
      "execution_count": null,
      "outputs": [
        {
          "output_type": "execute_result",
          "data": {
            "text/plain": [
              "0.002733700997410879"
            ]
          },
          "metadata": {},
          "execution_count": 108
        }
      ]
    },
    {
      "cell_type": "code",
      "source": [
        "# 0.5 를 기준으로 했을 때의 혼동행렬, 분류리포트\n",
        "confusion_matrix_view(y_test, pred)"
      ],
      "metadata": {
        "colab": {
          "base_uri": "https://localhost:8080/",
          "height": 485
        },
        "id": "FQQ6qVbEI_Mn",
        "outputId": "ceda4629-2d2a-46f1-e4a3-0d1d7fc64018"
      },
      "execution_count": null,
      "outputs": [
        {
          "output_type": "stream",
          "name": "stdout",
          "text": [
            "[[522602   1047]\n",
            " [   783   1229]]\n"
          ]
        },
        {
          "output_type": "display_data",
          "data": {
            "text/plain": [
              "<Figure size 432x288 with 2 Axes>"
            ],
            "image/png": "[encoded data removed]"
          },
          "metadata": {
            "needs_background": "light"
          }
        },
        {
          "output_type": "stream",
          "name": "stdout",
          "text": [
            "              precision    recall  f1-score   support\n",
            "\n",
            "           0       1.00      1.00      1.00    523649\n",
            "           1       0.54      0.61      0.57      2012\n",
            "\n",
            "    accuracy                           1.00    525661\n",
            "   macro avg       0.77      0.80      0.79    525661\n",
            "weighted avg       1.00      1.00      1.00    525661\n",
            "\n"
          ]
        }
      ]
    },
    {
      "cell_type": "code",
      "source": [
        "# 0.2 를 기준으로 했을 때의 혼동행렬, 분류리포트\n",
        "confusion_matrix_view(y_test, proba_int1)\n",
        "# FP가 늘었음 (1종 오류가 늘었음 -> 이상거래가 아닌데 맞다고 판단한 것이 늘었음)\n",
        "# FN은 줄었음 (2종 오류가 줄었음 -> 이상거래 맞는데 아니라고 판단한 것이 줄었음)"
      ],
      "metadata": {
        "colab": {
          "base_uri": "https://localhost:8080/",
          "height": 485
        },
        "id": "vikClHH-JDsg",
        "outputId": "a3c5f6e9-ccf7-465f-b71c-37316d7a2b3f"
      },
      "execution_count": null,
      "outputs": [
        {
          "output_type": "stream",
          "name": "stdout",
          "text": [
            "[[521834   1815]\n",
            " [   573   1439]]\n"
          ]
        },
        {
          "output_type": "display_data",
          "data": {
            "text/plain": [
              "<Figure size 432x288 with 2 Axes>"
            ],
            "image/png": "[encoded data removed]"
          },
          "metadata": {
            "needs_background": "light"
          }
        },
        {
          "output_type": "stream",
          "name": "stdout",
          "text": [
            "              precision    recall  f1-score   support\n",
            "\n",
            "           0       1.00      1.00      1.00    523649\n",
            "           1       0.44      0.72      0.55      2012\n",
            "\n",
            "    accuracy                           1.00    525661\n",
            "   macro avg       0.72      0.86      0.77    525661\n",
            "weighted avg       1.00      1.00      1.00    525661\n",
            "\n"
          ]
        }
      ]
    },
    {
      "cell_type": "code",
      "source": [
        "# 0.8 를 기준으로 했을 때의 혼동행렬, 분류리포트\n",
        "\n",
        "# FP가 줄었음 (1종 오류가 줄었음 -> 이상거래가 아닌데 맞다고 판단한 것이 줄었음)\n",
        "# FN은 늘었음 (2종 오류가 늘었음 -> 이상거래 맞는데 아니라고 판단한 것이 늘었음)"
      ],
      "metadata": {
        "colab": {
          "base_uri": "https://localhost:8080/",
          "height": 485
        },
        "id": "71UnnsKJJbzP",
        "outputId": "607c6f77-f993-47f6-d086-1f44e202b033"
      },
      "execution_count": null,
      "outputs": [
        {
          "output_type": "stream",
          "name": "stdout",
          "text": [
            "[[523093    556]\n",
            " [  1131    881]]\n"
          ]
        },
        {
          "output_type": "display_data",
          "data": {
            "text/plain": [
              "<Figure size 432x288 with 2 Axes>"
            ],
            "image/png": "[encoded data removed]"
          },
          "metadata": {
            "needs_background": "light"
          }
        },
        {
          "output_type": "stream",
          "name": "stdout",
          "text": [
            "              precision    recall  f1-score   support\n",
            "\n",
            "           0       1.00      1.00      1.00    523649\n",
            "           1       0.61      0.44      0.51      2012\n",
            "\n",
            "    accuracy                           1.00    525661\n",
            "   macro avg       0.81      0.72      0.75    525661\n",
            "weighted avg       1.00      1.00      1.00    525661\n",
            "\n"
          ]
        }
      ]
    },
    {
      "cell_type": "markdown",
      "source": [
        "## ROC 곡선 & AUC"
      ],
      "metadata": {
        "id": "TBKYbEVKJ1vf"
      }
    },
    {
      "cell_type": "markdown",
      "source": [
        "![ROC](https://i.imgur.com/euCumVh.png)"
      ],
      "metadata": {
        "id": "tsYrV-ihKOdH"
      }
    },
    {
      "cell_type": "markdown",
      "source": [
        "* [참고](https://losskatsu.github.io/machine-learning/stat-roc-curve/#2-%EB%AF%BC%EA%B0%90%EB%8F%84%EC%99%80-%ED%8A%B9%EC%9D%B4%EB%8F%84)\n",
        "* 이진분류 모델을 평가하는 방법으로 기준점에 영향을 받지 않기 때문에 여러 모델을 비교할 때 요긴하게 사용\n",
        "* AUC는 ROC 곡선의 아래 면적을 의미\n",
        "    * 0.5~1 사이의 값을 지니며 높을수록 좋은 모델\n",
        "\n",
        "## ROC 곡선\n",
        "> 민감도, 특이도 개념을 활용\n",
        "\n",
        "### 민감도 (TPR)\n",
        "$TPR = \\frac{TP(참 양성)}{TP(참 양성) + FN(거짓 음성)}$\n",
        "* 재현율과 수식이 같음\n",
        "* 실제 1인 것 중 얼마만큼 제대로(1로) 예측되었는지\n",
        "* 1에 가까울 수록 좋은 수치\n",
        "\n",
        "### 특이도 (TNR) **\n",
        "$TNR = \\frac{TN(참 음성)}{FP(거짓 양성) + TN(참 음성)}$\n",
        "* 실제 0인 것 중 얼마만큼 제대로(0로) 예측되었는지\n",
        "* 1에 가까울 수록 좋은 수치\n",
        "\n",
        "$FPR = \\frac{FP(거짓 양성)}{FP(거짓 양성) + TN(참 음성)}$\n",
        "* 실제 0인 것 중 얼마만큼 잘못(1로) 예측되었는지\n",
        "* 0에 가까울 수록 좋은 수치\n",
        "$FPR = 1 - TNR$\n",
        "\n",
        "민감도(TPR)을 높이기 위해서 기준을 낮추면, 반대로 FPR은 증가하게 되어 있음\n",
        "(역의 관계)\n",
        "하지만 예측력이 좋은 모델이라면 그 변화치가 높지 않음\n",
        "\n",
        "![ROC](https://i.imgur.com/euCumVh.png)\n",
        "* 기준점을 바꿨을 때 TPR, FPR이 어떻게 바뀌는지 보여주는 그래프\n",
        "* 최악의 경우 (학습이 전혀 안될 경우) -> 빨간색 점선\n",
        "\n",
        "### AUC (Area Under the ROC Curve)\n",
        "* ROC 곡선의 아래쪽에 해당하는 면적\n",
        "* 0.5~1 사이의 값을 가지며 커질 수록 더 좋은 분류기라는 의미\n",
        "![AUC](https://i.imgur.com/udlCMW4.png)"
      ],
      "metadata": {
        "id": "5FdUHKGLKaCs"
      }
    },
    {
      "cell_type": "code",
      "source": [
        "# 0과 1을 얼마나 잘 분류하는지 (성능 좋은지)\n",
        "# proba -> 1이 될 확률\n",
        "roc_auc_score(y_test, proba)"
      ],
      "metadata": {
        "colab": {
          "base_uri": "https://localhost:8080/"
        },
        "id": "zIYttFnmMOKJ",
        "outputId": "0fd8e0ce-10a0-4db3-a2c6-e8b2a0e551b6"
      },
      "execution_count": null,
      "outputs": [
        {
          "output_type": "execute_result",
          "data": {
            "text/plain": [
              "0.9614512689355635"
            ]
          },
          "metadata": {},
          "execution_count": 112
        }
      ]
    },
    {
      "cell_type": "markdown",
      "source": [
        "# 하이퍼 패러미터 튜닝\n",
        "* 그리드 서치 : 주입할 패러미터 목록들을 딕셔너리 형태로 넣어서, 각각의 패러미터들을 모두 조합한 모델들을 학습시켜봐서, 최적의 모델을 찾는 것\n",
        "    * 너무 다 시도해봤자, 결국은 시간낭비일 수 있음\n",
        "    * 빨리 적당한 패러미터 조합이 필요할 수도 있음\n",
        "* 랜덤 서치 : 더 넓은 영역의 하이퍼 파라미터 값을 더 짧은 시간에 다양하게 활용\n",
        "    * 일부만 추출해서 모델링 -> 시간이 더 짧아짐"
      ],
      "metadata": {
        "id": "tiOZBH1aQF8u"
      }
    },
    {
      "cell_type": "markdown",
      "source": [
        "## 랜덤 서치"
      ],
      "metadata": {
        "id": "MkXbndcMQuqz"
      }
    },
    {
      "cell_type": "code",
      "source": [
        "from sklearn.model_selection import RandomizedSearchCV"
      ],
      "metadata": {
        "id": "ZvEjcEb3QFtE"
      },
      "execution_count": null,
      "outputs": []
    },
    {
      "cell_type": "code",
      "source": [
        "# 랜덤 서치에 사용될 파라미터들 (딕셔너리)\n",
        "params = {\n",
        "    \"n_esimators\": [100, 500, 1000], # 총 생성할 트리 개수\n",
        "    \"learning_rate\": [0.01, 0.05, 0.1, 0.3], # 경사하강법에 적용할 학습률 (오차를 어느 범위만큼 수정할까)\n",
        "    # 너무 작으면 -> 오버피팅, 시간 오래걸림 / 너무 크면 -> 학습이 제대로 안됨\n",
        "    \"lambda_l1\": [0, 10, 20, 30, 50],\n",
        "    \"lambda_l2\": [0, 10, 20, 30, 50],\n",
        "    # 경사하강법과 관련 -> 오버피팅 줄이기\n",
        "    \"max_depth\": [5, 10, 15, 20], # 트리의 최대깊이 / 과적합\n",
        "    \"subsample\": [0.6, 0.8, 1] # 일부의 데이터만 사용해서 트리를 만들게 (1: 전체)\n",
        "}"
      ],
      "metadata": {
        "id": "2S7how6CQ4H7"
      },
      "execution_count": null,
      "outputs": []
    },
    {
      "cell_type": "markdown",
      "source": [
        "**L1 정규화(lambda_l1)와 L2 정규화(lambda_l2)**\n",
        "* 라쏘 회귀(lasso regression) - L1 정규화\n",
        "* 릿지 회귀(rigde regression) - L2 정규화\n",
        "> 둘 다 매개 변수에 패널티를 가해서 그 영향력(계수)을 감소 시키는 방법.<br>\n",
        "오버피팅을 방지하는 목적으로 쓰임"
      ],
      "metadata": {
        "id": "cZRpboXiRFWT"
      }
    },
    {
      "cell_type": "code",
      "source": [
        "model2 = lgb.LGBMClassifier(random_state=26)\n",
        "# (학습에 쓰일 모델, param_distributions 랜덤 서치에 쓰일 파라미터들, n_iter 몇 번 조합을 추출할지\n",
        "#  scoring 모델 간 비교 수치, n_jobs cpu 코어 개수 (-1: 전체))\n",
        "rs = RandomizedSearchCV(model2, param_distributions=params, n_iter=30,\n",
        "                        scoring='roc_auc', random_state=26, n_jobs=-1)"
      ],
      "metadata": {
        "id": "dvtgLB_4R0XO"
      },
      "execution_count": null,
      "outputs": []
    },
    {
      "cell_type": "code",
      "source": [
        "import time\n",
        "start = time.time() \n",
        "rs.fit(X_train, y_train)\n",
        "print(time.time() - start)"
      ],
      "metadata": {
        "id": "gUVwR04nSW_m"
      },
      "execution_count": null,
      "outputs": []
    },
    {
      "cell_type": "code",
      "source": [
        "rs.best_params_ # 이 조합을 쓰면 됨"
      ],
      "metadata": {
        "colab": {
          "base_uri": "https://localhost:8080/"
        },
        "id": "Tk0BCXGiSpwl",
        "outputId": "4c2478f9-4277-489e-dfda-7ca582d5b23a"
      },
      "execution_count": null,
      "outputs": [
        {
          "output_type": "execute_result",
          "data": {
            "text/plain": [
              "{'subsample': 1,\n",
              " 'n_esimators': 100,\n",
              " 'max_depth': 20,\n",
              " 'learning_rate': 0.1,\n",
              " 'lambda_l2': 50,\n",
              " 'lambda_l1': 10}"
            ]
          },
          "metadata": {},
          "execution_count": 119
        }
      ]
    },
    {
      "cell_type": "code",
      "source": [
        "rs.best_score_ # 5개 정도로 나온 값들이 평균치"
      ],
      "metadata": {
        "colab": {
          "base_uri": "https://localhost:8080/"
        },
        "id": "wWdZXMKdd3nK",
        "outputId": "b00dbaba-5526-4083-ce82-60281d9ba655"
      },
      "execution_count": null,
      "outputs": [
        {
          "output_type": "execute_result",
          "data": {
            "text/plain": [
              "0.9940683753009398"
            ]
          },
          "metadata": {},
          "execution_count": 120
        }
      ]
    },
    {
      "cell_type": "code",
      "source": [
        "rs_proba = rs.predict_proba(X_test)"
      ],
      "metadata": {
        "id": "fzf_BkJSd85q"
      },
      "execution_count": null,
      "outputs": []
    },
    {
      "cell_type": "code",
      "source": [
        "# rs_proba[:, 1] : proba -> 0열 : 0이 될 확률, 1열: 1이 될 확률\n",
        "# [모든행중에, 1번째열] -> 1이 될 확률만 호출\n",
        "# roc_auc_score(y_test, rs_proba[:, 1])\n",
        "confusion_matrix_view(y_test, rs.predict(X_test))"
      ],
      "metadata": {
        "colab": {
          "base_uri": "https://localhost:8080/",
          "height": 485
        },
        "id": "96C8QwwmeDkh",
        "outputId": "fe536273-7b28-4226-e754-2e4a35804a89"
      },
      "execution_count": null,
      "outputs": [
        {
          "output_type": "stream",
          "name": "stdout",
          "text": [
            "[[523307    342]\n",
            " [   838   1174]]\n"
          ]
        },
        {
          "output_type": "display_data",
          "data": {
            "text/plain": [
              "<Figure size 432x288 with 2 Axes>"
            ],
            "image/png": "[encoded data removed]"
          },
          "metadata": {
            "needs_background": "light"
          }
        },
        {
          "output_type": "stream",
          "name": "stdout",
          "text": [
            "              precision    recall  f1-score   support\n",
            "\n",
            "           0       1.00      1.00      1.00    523649\n",
            "           1       0.77      0.58      0.67      2012\n",
            "\n",
            "    accuracy                           1.00    525661\n",
            "   macro avg       0.89      0.79      0.83    525661\n",
            "weighted avg       1.00      1.00      1.00    525661\n",
            "\n"
          ]
        }
      ]
    },
    {
      "cell_type": "code",
      "source": [
        "# 0.2로 조금 더 느슨하게 (정밀도를 희생하고, 재현율 높임)\n",
        "rs_proba_int1 = (rs_proba[:,1] > 0.2).astype('int') # 1이 될 확률이 0.2만 넘어가도 1로 취급\n",
        "confusion_matrix_view(y_test, rs_proba_int1)"
      ],
      "metadata": {
        "colab": {
          "base_uri": "https://localhost:8080/",
          "height": 485
        },
        "id": "zZh5sFA5ec_i",
        "outputId": "457ad1e1-a67d-4361-b6de-577e1c585c52"
      },
      "execution_count": null,
      "outputs": [
        {
          "output_type": "stream",
          "name": "stdout",
          "text": [
            "[[522346   1303]\n",
            " [   472   1540]]\n"
          ]
        },
        {
          "output_type": "display_data",
          "data": {
            "text/plain": [
              "<Figure size 432x288 with 2 Axes>"
            ],
            "image/png": "[encoded data removed]"
          },
          "metadata": {
            "needs_background": "light"
          }
        },
        {
          "output_type": "stream",
          "name": "stdout",
          "text": [
            "              precision    recall  f1-score   support\n",
            "\n",
            "           0       1.00      1.00      1.00    523649\n",
            "           1       0.54      0.77      0.63      2012\n",
            "\n",
            "    accuracy                           1.00    525661\n",
            "   macro avg       0.77      0.88      0.82    525661\n",
            "weighted avg       1.00      1.00      1.00    525661\n",
            "\n"
          ]
        }
      ]
    },
    {
      "cell_type": "code",
      "source": [
        "# 0.8로 조금 더 엄격하게 (정밀도를 높이고, 재현율 희생)\n",
        "rs_proba_int2 = (rs_proba[:,1] > 0.8).astype('int') # 1이 될 확률이 0.8이 넘어야 1로 취급\n",
        "confusion_matrix_view(y_test, rs_proba_int2)"
      ],
      "metadata": {
        "colab": {
          "base_uri": "https://localhost:8080/",
          "height": 485
        },
        "id": "mrThHQZSfE7b",
        "outputId": "77446194-3eed-40ed-96f5-6fc264fa4d5e"
      },
      "execution_count": null,
      "outputs": [
        {
          "output_type": "stream",
          "name": "stdout",
          "text": [
            "[[523632     17]\n",
            " [  1228    784]]\n"
          ]
        },
        {
          "output_type": "display_data",
          "data": {
            "text/plain": [
              "<Figure size 432x288 with 2 Axes>"
            ],
            "image/png": "[encoded data removed]"
          },
          "metadata": {
            "needs_background": "light"
          }
        },
        {
          "output_type": "stream",
          "name": "stdout",
          "text": [
            "              precision    recall  f1-score   support\n",
            "\n",
            "           0       1.00      1.00      1.00    523649\n",
            "           1       0.98      0.39      0.56      2012\n",
            "\n",
            "    accuracy                           1.00    525661\n",
            "   macro avg       0.99      0.69      0.78    525661\n",
            "weighted avg       1.00      1.00      1.00    525661\n",
            "\n"
          ]
        }
      ]
    },
    {
      "cell_type": "markdown",
      "source": [
        "# 변수 중요도"
      ],
      "metadata": {
        "id": "UrENMTHBjHkF"
      }
    },
    {
      "cell_type": "code",
      "source": [
        "model.feature_importances_"
      ],
      "metadata": {
        "colab": {
          "base_uri": "https://localhost:8080/"
        },
        "id": "pgOSlL92jTmC",
        "outputId": "7d27e7eb-f106-4fa7-f91a-071c5ff92512"
      },
      "execution_count": null,
      "outputs": [
        {
          "output_type": "execute_result",
          "data": {
            "text/plain": [
              "array([599, 345, 357, 440, 232, 181, 408,  34,   7,  22,  20,  15,  22,\n",
              "        29,  27,  71,  20,  37,  23,  56,  55])"
            ]
          },
          "metadata": {},
          "execution_count": 143
        }
      ]
    },
    {
      "cell_type": "code",
      "source": [
        "feature_imp = pd.DataFrame({'features': X_train.columns, 'values': model.feature_importances_})\n",
        "plt.figure(figsize=(20, 10))\n",
        "sns.barplot(x='values', y='features',\n",
        "            data=feature_imp.sort_values(by='values', ascending=False).head(10))\n",
        "plt.show()"
      ],
      "metadata": {
        "colab": {
          "base_uri": "https://localhost:8080/",
          "height": 565
        },
        "id": "eEa3L48DjJzv",
        "outputId": "9c497b40-aa49-49cd-ac84-163063806761"
      },
      "execution_count": null,
      "outputs": [
        {
          "output_type": "display_data",
          "data": {
            "text/plain": [
              "<Figure size 1440x720 with 1 Axes>"
            ],
            "image/png": "[encoded data removed]"
          },
          "metadata": {
            "needs_background": "light"
          }
        }
      ]
    }
  ]
}